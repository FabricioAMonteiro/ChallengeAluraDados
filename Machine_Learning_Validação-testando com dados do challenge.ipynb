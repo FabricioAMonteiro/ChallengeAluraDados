{
 "cells": [
  {
   "cell_type": "code",
   "execution_count": 1,
   "metadata": {
    "colab": {
     "base_uri": "https://localhost:8080/",
     "height": 195
    },
    "colab_type": "code",
    "id": "y7ik04NlDZMA",
    "outputId": "4800b1cf-f7c7-4bbe-fd87-93e898b83bf6"
   },
   "outputs": [
    {
     "data": {
      "text/html": [
       "<div>\n",
       "<style scoped>\n",
       "    .dataframe tbody tr th:only-of-type {\n",
       "        vertical-align: middle;\n",
       "    }\n",
       "\n",
       "    .dataframe tbody tr th {\n",
       "        vertical-align: top;\n",
       "    }\n",
       "\n",
       "    .dataframe thead th {\n",
       "        text-align: right;\n",
       "    }\n",
       "</style>\n",
       "<table border=\"1\" class=\"dataframe\">\n",
       "  <thead>\n",
       "    <tr style=\"text-align: right;\">\n",
       "      <th></th>\n",
       "      <th>id_cliente</th>\n",
       "      <th>id_emprestimo</th>\n",
       "      <th>id_historico</th>\n",
       "      <th>tipo_imovel</th>\n",
       "      <th>motivo_emprestimo</th>\n",
       "      <th>grupo</th>\n",
       "      <th>idade</th>\n",
       "      <th>salario</th>\n",
       "      <th>tempo_trabalhando</th>\n",
       "      <th>valor_emprestimo</th>\n",
       "      <th>juros</th>\n",
       "      <th>emp_sal</th>\n",
       "      <th>tempo_cliente</th>\n",
       "      <th>INADIMPLENCIA</th>\n",
       "      <th>RISCO_INADIMPLENCIA</th>\n",
       "    </tr>\n",
       "  </thead>\n",
       "  <tbody>\n",
       "    <tr>\n",
       "      <th>0</th>\n",
       "      <td>AspC7qDK-5Esh</td>\n",
       "      <td>kZHfWgGv-0dWJ</td>\n",
       "      <td>UwfbzeaW-9tQt</td>\n",
       "      <td>alugado</td>\n",
       "      <td>ensino</td>\n",
       "      <td>B</td>\n",
       "      <td>21</td>\n",
       "      <td>60000</td>\n",
       "      <td>2</td>\n",
       "      <td>8000</td>\n",
       "      <td>11.26</td>\n",
       "      <td>0.13</td>\n",
       "      <td>3</td>\n",
       "      <td>0.0</td>\n",
       "      <td>0</td>\n",
       "    </tr>\n",
       "    <tr>\n",
       "      <th>1</th>\n",
       "      <td>2NjYU2iT-fGSm</td>\n",
       "      <td>j7elJxsY-eTEQ</td>\n",
       "      <td>viRQ2WYn-yJ2G</td>\n",
       "      <td>financiado</td>\n",
       "      <td>ensino</td>\n",
       "      <td>A</td>\n",
       "      <td>40</td>\n",
       "      <td>70000</td>\n",
       "      <td>6</td>\n",
       "      <td>18000</td>\n",
       "      <td>7.90</td>\n",
       "      <td>0.26</td>\n",
       "      <td>14</td>\n",
       "      <td>0.0</td>\n",
       "      <td>0</td>\n",
       "    </tr>\n",
       "    <tr>\n",
       "      <th>2</th>\n",
       "      <td>nTOKgZCT-YPUD</td>\n",
       "      <td>t9dKvc6a-4eAL</td>\n",
       "      <td>IEHObaim-KPC9</td>\n",
       "      <td>financiado</td>\n",
       "      <td>saude</td>\n",
       "      <td>C</td>\n",
       "      <td>29</td>\n",
       "      <td>115000</td>\n",
       "      <td>3</td>\n",
       "      <td>22000</td>\n",
       "      <td>15.23</td>\n",
       "      <td>0.19</td>\n",
       "      <td>7</td>\n",
       "      <td>1.0</td>\n",
       "      <td>0</td>\n",
       "    </tr>\n",
       "    <tr>\n",
       "      <th>3</th>\n",
       "      <td>J3jGNZeh-OzZE</td>\n",
       "      <td>NaelpPC5-t2kz</td>\n",
       "      <td>GvqL52S8-S8OH</td>\n",
       "      <td>alugado</td>\n",
       "      <td>saude</td>\n",
       "      <td>B</td>\n",
       "      <td>26</td>\n",
       "      <td>84996</td>\n",
       "      <td>0</td>\n",
       "      <td>9000</td>\n",
       "      <td>11.26</td>\n",
       "      <td>0.11</td>\n",
       "      <td>2</td>\n",
       "      <td>0.0</td>\n",
       "      <td>0</td>\n",
       "    </tr>\n",
       "    <tr>\n",
       "      <th>4</th>\n",
       "      <td>OQXEoNPl-hL0f</td>\n",
       "      <td>QxdBboWP-KKFh</td>\n",
       "      <td>Ue0IMCKa-d0AQ</td>\n",
       "      <td>proprio</td>\n",
       "      <td>ensino</td>\n",
       "      <td>A</td>\n",
       "      <td>23</td>\n",
       "      <td>24000</td>\n",
       "      <td>7</td>\n",
       "      <td>5000</td>\n",
       "      <td>7.49</td>\n",
       "      <td>0.21</td>\n",
       "      <td>2</td>\n",
       "      <td>0.0</td>\n",
       "      <td>0</td>\n",
       "    </tr>\n",
       "    <tr>\n",
       "      <th>...</th>\n",
       "      <td>...</td>\n",
       "      <td>...</td>\n",
       "      <td>...</td>\n",
       "      <td>...</td>\n",
       "      <td>...</td>\n",
       "      <td>...</td>\n",
       "      <td>...</td>\n",
       "      <td>...</td>\n",
       "      <td>...</td>\n",
       "      <td>...</td>\n",
       "      <td>...</td>\n",
       "      <td>...</td>\n",
       "      <td>...</td>\n",
       "      <td>...</td>\n",
       "      <td>...</td>\n",
       "    </tr>\n",
       "    <tr>\n",
       "      <th>27121</th>\n",
       "      <td>5RR3r0UI-zEcL</td>\n",
       "      <td>0sz5yOJO-BqcR</td>\n",
       "      <td>HeNCM6HW-srAM</td>\n",
       "      <td>financiado</td>\n",
       "      <td>reforma</td>\n",
       "      <td>E</td>\n",
       "      <td>24</td>\n",
       "      <td>69000</td>\n",
       "      <td>7</td>\n",
       "      <td>5200</td>\n",
       "      <td>17.19</td>\n",
       "      <td>0.08</td>\n",
       "      <td>2</td>\n",
       "      <td>0.0</td>\n",
       "      <td>0</td>\n",
       "    </tr>\n",
       "    <tr>\n",
       "      <th>27122</th>\n",
       "      <td>5PYYQrGb-kL7i</td>\n",
       "      <td>eKFBKFUg-EPMg</td>\n",
       "      <td>Y5h04JQz-UlnH</td>\n",
       "      <td>alugado</td>\n",
       "      <td>ensino</td>\n",
       "      <td>B</td>\n",
       "      <td>22</td>\n",
       "      <td>28800</td>\n",
       "      <td>6</td>\n",
       "      <td>8000</td>\n",
       "      <td>11.49</td>\n",
       "      <td>0.28</td>\n",
       "      <td>2</td>\n",
       "      <td>0.0</td>\n",
       "      <td>0</td>\n",
       "    </tr>\n",
       "    <tr>\n",
       "      <th>27123</th>\n",
       "      <td>ezodwdzy-IgP3</td>\n",
       "      <td>Z0OQkNXo-noen</td>\n",
       "      <td>W6NpiRzO-8o5z</td>\n",
       "      <td>financiado</td>\n",
       "      <td>quitar</td>\n",
       "      <td>A</td>\n",
       "      <td>27</td>\n",
       "      <td>39600</td>\n",
       "      <td>11</td>\n",
       "      <td>4800</td>\n",
       "      <td>6.76</td>\n",
       "      <td>0.12</td>\n",
       "      <td>9</td>\n",
       "      <td>0.0</td>\n",
       "      <td>0</td>\n",
       "    </tr>\n",
       "    <tr>\n",
       "      <th>27124</th>\n",
       "      <td>zcvLEBEd-JHhI</td>\n",
       "      <td>EtCzqy1B-QYEL</td>\n",
       "      <td>3fcjJLaj-Bkio</td>\n",
       "      <td>financiado</td>\n",
       "      <td>saude</td>\n",
       "      <td>C</td>\n",
       "      <td>30</td>\n",
       "      <td>39996</td>\n",
       "      <td>8</td>\n",
       "      <td>10000</td>\n",
       "      <td>12.73</td>\n",
       "      <td>0.25</td>\n",
       "      <td>6</td>\n",
       "      <td>0.0</td>\n",
       "      <td>0</td>\n",
       "    </tr>\n",
       "    <tr>\n",
       "      <th>27125</th>\n",
       "      <td>zHG1040U-BAsd</td>\n",
       "      <td>Jb3kZcsS-4i5B</td>\n",
       "      <td>zoPPIv63-aGvX</td>\n",
       "      <td>alugado</td>\n",
       "      <td>ensino</td>\n",
       "      <td>B</td>\n",
       "      <td>26</td>\n",
       "      <td>54996</td>\n",
       "      <td>8</td>\n",
       "      <td>20000</td>\n",
       "      <td>12.18</td>\n",
       "      <td>0.36</td>\n",
       "      <td>4</td>\n",
       "      <td>0.0</td>\n",
       "      <td>1</td>\n",
       "    </tr>\n",
       "  </tbody>\n",
       "</table>\n",
       "<p>27126 rows × 15 columns</p>\n",
       "</div>"
      ],
      "text/plain": [
       "          id_cliente  id_emprestimo   id_historico tipo_imovel  \\\n",
       "0      AspC7qDK-5Esh  kZHfWgGv-0dWJ  UwfbzeaW-9tQt     alugado   \n",
       "1      2NjYU2iT-fGSm  j7elJxsY-eTEQ  viRQ2WYn-yJ2G  financiado   \n",
       "2      nTOKgZCT-YPUD  t9dKvc6a-4eAL  IEHObaim-KPC9  financiado   \n",
       "3      J3jGNZeh-OzZE  NaelpPC5-t2kz  GvqL52S8-S8OH     alugado   \n",
       "4      OQXEoNPl-hL0f  QxdBboWP-KKFh  Ue0IMCKa-d0AQ     proprio   \n",
       "...              ...            ...            ...         ...   \n",
       "27121  5RR3r0UI-zEcL  0sz5yOJO-BqcR  HeNCM6HW-srAM  financiado   \n",
       "27122  5PYYQrGb-kL7i  eKFBKFUg-EPMg  Y5h04JQz-UlnH     alugado   \n",
       "27123  ezodwdzy-IgP3  Z0OQkNXo-noen  W6NpiRzO-8o5z  financiado   \n",
       "27124  zcvLEBEd-JHhI  EtCzqy1B-QYEL  3fcjJLaj-Bkio  financiado   \n",
       "27125  zHG1040U-BAsd  Jb3kZcsS-4i5B  zoPPIv63-aGvX     alugado   \n",
       "\n",
       "      motivo_emprestimo grupo  idade  salario  tempo_trabalhando  \\\n",
       "0                ensino     B     21    60000                  2   \n",
       "1                ensino     A     40    70000                  6   \n",
       "2                 saude     C     29   115000                  3   \n",
       "3                 saude     B     26    84996                  0   \n",
       "4                ensino     A     23    24000                  7   \n",
       "...                 ...   ...    ...      ...                ...   \n",
       "27121           reforma     E     24    69000                  7   \n",
       "27122            ensino     B     22    28800                  6   \n",
       "27123            quitar     A     27    39600                 11   \n",
       "27124             saude     C     30    39996                  8   \n",
       "27125            ensino     B     26    54996                  8   \n",
       "\n",
       "       valor_emprestimo  juros  emp_sal  tempo_cliente  INADIMPLENCIA  \\\n",
       "0                  8000  11.26     0.13              3            0.0   \n",
       "1                 18000   7.90     0.26             14            0.0   \n",
       "2                 22000  15.23     0.19              7            1.0   \n",
       "3                  9000  11.26     0.11              2            0.0   \n",
       "4                  5000   7.49     0.21              2            0.0   \n",
       "...                 ...    ...      ...            ...            ...   \n",
       "27121              5200  17.19     0.08              2            0.0   \n",
       "27122              8000  11.49     0.28              2            0.0   \n",
       "27123              4800   6.76     0.12              9            0.0   \n",
       "27124             10000  12.73     0.25              6            0.0   \n",
       "27125             20000  12.18     0.36              4            0.0   \n",
       "\n",
       "       RISCO_INADIMPLENCIA  \n",
       "0                        0  \n",
       "1                        0  \n",
       "2                        0  \n",
       "3                        0  \n",
       "4                        0  \n",
       "...                    ...  \n",
       "27121                    0  \n",
       "27122                    0  \n",
       "27123                    0  \n",
       "27124                    0  \n",
       "27125                    1  \n",
       "\n",
       "[27126 rows x 15 columns]"
      ]
     },
     "execution_count": 1,
     "metadata": {},
     "output_type": "execute_result"
    }
   ],
   "source": [
    "import pandas as pd\n",
    "\n",
    "dados = pd.read_csv('dados_alura_sem_null_sem_outlier.csv')\n",
    "dados"
   ]
  },
  {
   "cell_type": "code",
   "execution_count": 26,
   "metadata": {},
   "outputs": [
    {
     "data": {
      "text/plain": [
       "A    8971\n",
       "B    8690\n",
       "C    5441\n",
       "D    3024\n",
       "E     794\n",
       "F     167\n",
       "G      39\n",
       "Name: grupo, dtype: int64"
      ]
     },
     "execution_count": 26,
     "metadata": {},
     "output_type": "execute_result"
    }
   ],
   "source": [
    "dados.grupo.value_counts()"
   ]
  },
  {
   "cell_type": "code",
   "execution_count": 8,
   "metadata": {
    "colab": {
     "base_uri": "https://localhost:8080/",
     "height": 34
    },
    "colab_type": "code",
    "id": "tm4PuuHVMuKS",
    "outputId": "60beb7a2-d5cf-40b8-bfe9-869ac1792b17"
   },
   "outputs": [
    {
     "name": "stdout",
     "output_type": "stream",
     "text": [
      "Treinaremos com 20344 elementos e testaremos com 6782 elementos\n"
     ]
    }
   ],
   "source": [
    "import numpy as np\n",
    "from sklearn.model_selection import train_test_split\n",
    "from sklearn.svm import LinearSVC\n",
    "from sklearn.metrics import accuracy_score\n",
    "\n",
    "x = dados[['idade', 'salario', 'tempo_trabalhando',\n",
    "       'valor_emprestimo', 'juros', 'emp_sal', 'tempo_cliente',\n",
    "       'INADIMPLENCIA']]\n",
    "y = dados['RISCO_INADIMPLENCIA']\n",
    "\n",
    "SEED = 158020\n",
    "np.random.seed(SEED)\n",
    "treino_x, teste_x, treino_y, teste_y = train_test_split(x, y, test_size = 0.25,\n",
    "                                                         stratify = y)\n",
    "print(\"Treinaremos com %d elementos e testaremos com %d elementos\" % (len(treino_x), len(teste_x)))\n"
   ]
  },
  {
   "cell_type": "code",
   "execution_count": 9,
   "metadata": {
    "colab": {
     "base_uri": "https://localhost:8080/",
     "height": 34
    },
    "colab_type": "code",
    "id": "G2ZFWoPkGONL",
    "outputId": "f13243ce-b807-4f4e-849e-f3db59d47b25"
   },
   "outputs": [
    {
     "name": "stdout",
     "output_type": "stream",
     "text": [
      "A acurácia do dummy stratified foi 79.09%\n"
     ]
    }
   ],
   "source": [
    "from sklearn.dummy import DummyClassifier\n",
    "\n",
    "dummy_stratified = DummyClassifier()\n",
    "dummy_stratified.fit(treino_x, treino_y)\n",
    "acuracia = dummy_stratified.score(teste_x, teste_y) * 100\n",
    "\n",
    "print(\"A acurácia do dummy stratified foi %.2f%%\" % acuracia)"
   ]
  },
  {
   "cell_type": "code",
   "execution_count": 10,
   "metadata": {
    "colab": {
     "base_uri": "https://localhost:8080/",
     "height": 34
    },
    "colab_type": "code",
    "id": "-1YsD-whJuGR",
    "outputId": "6b7847b2-e86b-4002-fd4d-8116a510eb55"
   },
   "outputs": [
    {
     "name": "stdout",
     "output_type": "stream",
     "text": [
      "A acurácia foi 84.15%\n"
     ]
    }
   ],
   "source": [
    "from sklearn.tree import DecisionTreeClassifier\n",
    "\n",
    "SEED = 158020\n",
    "np.random.seed(SEED)\n",
    "modelo = DecisionTreeClassifier(max_depth=2)\n",
    "modelo.fit(treino_x, treino_y)\n",
    "previsoes = modelo.predict(teste_x)\n",
    "\n",
    "acuracia = accuracy_score(teste_y, previsoes) * 100\n",
    "print(\"A acurácia foi %.2f%%\" % acuracia)\n"
   ]
  },
  {
   "cell_type": "code",
   "execution_count": 11,
   "metadata": {
    "colab": {
     "base_uri": "https://localhost:8080/",
     "height": 50
    },
    "colab_type": "code",
    "id": "TnivUUHrQmaM",
    "outputId": "2b31148a-a5f1-41c2-d43c-a2af689ad5ec"
   },
   "outputs": [
    {
     "name": "stdout",
     "output_type": "stream",
     "text": [
      "Treinaremos com 20344 elementos e testaremos com 6782 elementos\n",
      "A acurácia foi 84.15%\n"
     ]
    }
   ],
   "source": [
    "SEED = 158020\n",
    "np.random.seed(SEED)\n",
    "treino_x, teste_x, treino_y, teste_y = train_test_split(x, y, test_size = 0.25,\n",
    "                                                         stratify = y)\n",
    "print(\"Treinaremos com %d elementos e testaremos com %d elementos\" % (len(treino_x), len(teste_x)))\n",
    "\n",
    "modelo = DecisionTreeClassifier(max_depth=2)\n",
    "modelo.fit(treino_x, treino_y)\n",
    "previsoes = modelo.predict(teste_x)\n",
    "\n",
    "acuracia = accuracy_score(teste_y, previsoes) * 100\n",
    "print(\"A acurácia foi %.2f%%\" % acuracia)\n"
   ]
  },
  {
   "cell_type": "code",
   "execution_count": 12,
   "metadata": {
    "colab": {
     "base_uri": "https://localhost:8080/",
     "height": 34
    },
    "colab_type": "code",
    "id": "Bsi_LQGsbDKD",
    "outputId": "65596bea-5af4-4edb-e50e-44193c5b5d1f"
   },
   "outputs": [
    {
     "name": "stdout",
     "output_type": "stream",
     "text": [
      "Accuracy com cross validation, 3 = [82.62, 83.78]\n"
     ]
    }
   ],
   "source": [
    "from sklearn.model_selection import cross_validate\n",
    "\n",
    "SEED = 301\n",
    "np.random.seed(SEED)\n",
    "\n",
    "modelo = DecisionTreeClassifier(max_depth=2)\n",
    "results = cross_validate(modelo, x, y, cv = 3, return_train_score=False)\n",
    "media = results['test_score'].mean()\n",
    "desvio_padrao = results['test_score'].std()\n",
    "print(\"Accuracy com cross validation, 3 = [%.2f, %.2f]\" % ((media - 2 * desvio_padrao)*100, (media + 2 * desvio_padrao) * 100))"
   ]
  },
  {
   "cell_type": "code",
   "execution_count": 13,
   "metadata": {
    "colab": {
     "base_uri": "https://localhost:8080/",
     "height": 34
    },
    "colab_type": "code",
    "id": "73mCcFA_eG_K",
    "outputId": "4332b4d1-b79a-445f-e82b-9203fea345c0"
   },
   "outputs": [
    {
     "name": "stdout",
     "output_type": "stream",
     "text": [
      "Accuracy com cross validation, 10 = [82.10, 84.43]\n"
     ]
    }
   ],
   "source": [
    "SEED = 301\n",
    "np.random.seed(SEED)\n",
    "\n",
    "modelo = DecisionTreeClassifier(max_depth=2)\n",
    "results = cross_validate(modelo, x, y, cv = 10, return_train_score=False)\n",
    "media = results['test_score'].mean()\n",
    "desvio_padrao = results['test_score'].std()\n",
    "print(\"Accuracy com cross validation, 10 = [%.2f, %.2f]\" % ((media - 2 * desvio_padrao)*100, (media + 2 * desvio_padrao) * 100))"
   ]
  },
  {
   "cell_type": "code",
   "execution_count": 14,
   "metadata": {
    "colab": {
     "base_uri": "https://localhost:8080/",
     "height": 34
    },
    "colab_type": "code",
    "id": "ZNT26vFEeYmz",
    "outputId": "3d48d00d-65c8-4cdd-fc59-f83d48dcce36"
   },
   "outputs": [
    {
     "name": "stdout",
     "output_type": "stream",
     "text": [
      "Accuracy com cross validation, 5 = [82.49, 83.98]\n"
     ]
    }
   ],
   "source": [
    "SEED = 301\n",
    "np.random.seed(SEED)\n",
    "\n",
    "modelo = DecisionTreeClassifier(max_depth=2)\n",
    "results = cross_validate(modelo, x, y, cv = 5, return_train_score=False)\n",
    "media = results['test_score'].mean()\n",
    "desvio_padrao = results['test_score'].std()\n",
    "print(\"Accuracy com cross validation, 5 = [%.2f, %.2f]\" % ((media - 2 * desvio_padrao)*100, (media + 2 * desvio_padrao) * 100))"
   ]
  },
  {
   "cell_type": "markdown",
   "metadata": {
    "colab_type": "text",
    "id": "BfLXRZEngxI7"
   },
   "source": [
    "# Aleatoriedade no cross validate"
   ]
  },
  {
   "cell_type": "code",
   "execution_count": 15,
   "metadata": {
    "colab": {},
    "colab_type": "code",
    "id": "RDe67NLthI2Y"
   },
   "outputs": [],
   "source": [
    "def imprime_resultados(results):\n",
    "  media = results['test_score'].mean()\n",
    "  desvio_padrao = results['test_score'].std()\n",
    "  print(\"Accuracy médio: %.2f\" % (media * 100))\n",
    "  print(\"Accuracy intervalo: [%.2f, %.2f]\" % ((media - 2 * desvio_padrao)*100, (media + 2 * desvio_padrao) * 100))"
   ]
  },
  {
   "cell_type": "code",
   "execution_count": 16,
   "metadata": {
    "colab": {
     "base_uri": "https://localhost:8080/",
     "height": 50
    },
    "colab_type": "code",
    "id": "94rNA16Bebm7",
    "outputId": "97b5fb6e-9063-42bc-a0bb-2467632e4f8f"
   },
   "outputs": [
    {
     "name": "stdout",
     "output_type": "stream",
     "text": [
      "Accuracy médio: 83.17\n",
      "Accuracy intervalo: [81.63, 84.72]\n"
     ]
    }
   ],
   "source": [
    "from sklearn.model_selection import KFold\n",
    "\n",
    "SEED = 301\n",
    "np.random.seed(SEED)\n",
    "\n",
    "cv = KFold(n_splits = 10)\n",
    "modelo = DecisionTreeClassifier(max_depth=2)\n",
    "results = cross_validate(modelo, x, y, cv = cv, return_train_score=False)\n",
    "imprime_resultados(results)"
   ]
  },
  {
   "cell_type": "code",
   "execution_count": 17,
   "metadata": {
    "colab": {
     "base_uri": "https://localhost:8080/",
     "height": 50
    },
    "colab_type": "code",
    "id": "Kzv_r-byhVzA",
    "outputId": "52ab901d-ec90-4ad1-885c-355201caa4b4"
   },
   "outputs": [
    {
     "name": "stdout",
     "output_type": "stream",
     "text": [
      "Accuracy médio: 83.22\n",
      "Accuracy intervalo: [81.45, 84.98]\n"
     ]
    }
   ],
   "source": [
    "SEED = 301\n",
    "np.random.seed(SEED)\n",
    "\n",
    "cv = KFold(n_splits = 10, shuffle = True)\n",
    "modelo = DecisionTreeClassifier(max_depth=2)\n",
    "results = cross_validate(modelo, x, y, cv = cv, return_train_score=False)\n",
    "imprime_resultados(results)"
   ]
  },
  {
   "cell_type": "markdown",
   "metadata": {
    "colab_type": "text",
    "id": "GKExjDqvRlj2"
   },
   "source": [
    "# Cross validation com StandardScaler"
   ]
  },
  {
   "cell_type": "code",
   "execution_count": 25,
   "metadata": {
    "colab": {
     "base_uri": "https://localhost:8080/",
     "height": 34
    },
    "colab_type": "code",
    "id": "uwksApnaRlRY",
    "outputId": "84d76041-972e-4a6c-da74-37c4a22b4f73"
   },
   "outputs": [
    {
     "name": "stdout",
     "output_type": "stream",
     "text": [
      "A acurácia foi 84.89%\n"
     ]
    }
   ],
   "source": [
    "from sklearn.preprocessing import StandardScaler\n",
    "from sklearn.svm import SVC\n",
    "\n",
    "SEED = 301\n",
    "np.random.seed(SEED)\n",
    "\n",
    "scaler = StandardScaler()\n",
    "scaler.fit(treino_x)\n",
    "treino_x_escalado = scaler.transform(treino_x)\n",
    "teste_x_escalado = scaler.transform(teste_x)\n",
    "\n",
    "modelo = SVC()\n",
    "modelo.fit(treino_x_escalado, treino_y)\n",
    "previsoes = modelo.predict(teste_x_escalado)\n",
    "\n",
    "acuracia = accuracy_score(teste_y, previsoes) * 100\n",
    "print(\"A acurácia foi %.2f%%\" % acuracia)\n"
   ]
  },
  {
   "cell_type": "code",
   "execution_count": null,
   "metadata": {},
   "outputs": [],
   "source": []
  }
 ],
 "metadata": {
  "colab": {
   "collapsed_sections": [],
   "name": "Machine_Learning_Validação.ipynb",
   "provenance": [],
   "version": "0.3.2"
  },
  "kernelspec": {
   "display_name": "Python 3 (ipykernel)",
   "language": "python",
   "name": "python3"
  },
  "language_info": {
   "codemirror_mode": {
    "name": "ipython",
    "version": 3
   },
   "file_extension": ".py",
   "mimetype": "text/x-python",
   "name": "python",
   "nbconvert_exporter": "python",
   "pygments_lexer": "ipython3",
   "version": "3.9.7"
  }
 },
 "nbformat": 4,
 "nbformat_minor": 1
}
