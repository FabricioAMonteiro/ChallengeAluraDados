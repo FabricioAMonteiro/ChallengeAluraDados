{
 "cells": [
  {
   "cell_type": "code",
   "execution_count": 1,
   "id": "9511cb13",
   "metadata": {},
   "outputs": [],
   "source": [
    "import pandas as pd\n",
    "import numpy as np"
   ]
  },
  {
   "cell_type": "code",
   "execution_count": 2,
   "id": "6eaed552",
   "metadata": {},
   "outputs": [
    {
     "data": {
      "text/html": [
       "<div>\n",
       "<style scoped>\n",
       "    .dataframe tbody tr th:only-of-type {\n",
       "        vertical-align: middle;\n",
       "    }\n",
       "\n",
       "    .dataframe tbody tr th {\n",
       "        vertical-align: top;\n",
       "    }\n",
       "\n",
       "    .dataframe thead th {\n",
       "        text-align: right;\n",
       "    }\n",
       "</style>\n",
       "<table border=\"1\" class=\"dataframe\">\n",
       "  <thead>\n",
       "    <tr style=\"text-align: right;\">\n",
       "      <th></th>\n",
       "      <th>id_cliente</th>\n",
       "      <th>id_emprestimo</th>\n",
       "      <th>id_historico</th>\n",
       "      <th>tipo_imovel</th>\n",
       "      <th>motivo_emprestimo</th>\n",
       "      <th>grupo</th>\n",
       "      <th>idade</th>\n",
       "      <th>salario</th>\n",
       "      <th>tempo_trabalhando</th>\n",
       "      <th>valor_emprestimo</th>\n",
       "      <th>juros</th>\n",
       "      <th>emp_sal</th>\n",
       "      <th>tempo_cliente</th>\n",
       "      <th>INADIMPLENCIA</th>\n",
       "      <th>RISCO_INADIMPLENCIA</th>\n",
       "    </tr>\n",
       "  </thead>\n",
       "  <tbody>\n",
       "    <tr>\n",
       "      <th>0</th>\n",
       "      <td>AspC7qDK-5Esh</td>\n",
       "      <td>kZHfWgGv-0dWJ</td>\n",
       "      <td>UwfbzeaW-9tQt</td>\n",
       "      <td>alugado</td>\n",
       "      <td>ensino</td>\n",
       "      <td>B</td>\n",
       "      <td>21.0</td>\n",
       "      <td>60000.0</td>\n",
       "      <td>2.0</td>\n",
       "      <td>8000.0</td>\n",
       "      <td>11.26</td>\n",
       "      <td>0.13</td>\n",
       "      <td>3.0</td>\n",
       "      <td>0.0</td>\n",
       "      <td>0.0</td>\n",
       "    </tr>\n",
       "    <tr>\n",
       "      <th>1</th>\n",
       "      <td>2NjYU2iT-fGSm</td>\n",
       "      <td>j7elJxsY-eTEQ</td>\n",
       "      <td>viRQ2WYn-yJ2G</td>\n",
       "      <td>financiado</td>\n",
       "      <td>ensino</td>\n",
       "      <td>A</td>\n",
       "      <td>40.0</td>\n",
       "      <td>70000.0</td>\n",
       "      <td>6.0</td>\n",
       "      <td>18000.0</td>\n",
       "      <td>7.90</td>\n",
       "      <td>0.26</td>\n",
       "      <td>14.0</td>\n",
       "      <td>0.0</td>\n",
       "      <td>0.0</td>\n",
       "    </tr>\n",
       "    <tr>\n",
       "      <th>2</th>\n",
       "      <td>nTOKgZCT-YPUD</td>\n",
       "      <td>t9dKvc6a-4eAL</td>\n",
       "      <td>IEHObaim-KPC9</td>\n",
       "      <td>financiado</td>\n",
       "      <td>saude</td>\n",
       "      <td>C</td>\n",
       "      <td>29.0</td>\n",
       "      <td>115000.0</td>\n",
       "      <td>3.0</td>\n",
       "      <td>22000.0</td>\n",
       "      <td>15.23</td>\n",
       "      <td>0.19</td>\n",
       "      <td>7.0</td>\n",
       "      <td>1.0</td>\n",
       "      <td>0.0</td>\n",
       "    </tr>\n",
       "    <tr>\n",
       "      <th>3</th>\n",
       "      <td>J3jGNZeh-OzZE</td>\n",
       "      <td>NaelpPC5-t2kz</td>\n",
       "      <td>GvqL52S8-S8OH</td>\n",
       "      <td>alugado</td>\n",
       "      <td>saude</td>\n",
       "      <td>B</td>\n",
       "      <td>26.0</td>\n",
       "      <td>84996.0</td>\n",
       "      <td>0.0</td>\n",
       "      <td>9000.0</td>\n",
       "      <td>11.26</td>\n",
       "      <td>0.11</td>\n",
       "      <td>2.0</td>\n",
       "      <td>0.0</td>\n",
       "      <td>0.0</td>\n",
       "    </tr>\n",
       "    <tr>\n",
       "      <th>4</th>\n",
       "      <td>flpZfspk-bUuL</td>\n",
       "      <td>4NHe4vfi-QLvW</td>\n",
       "      <td>fbc8cPEp-uJEB</td>\n",
       "      <td>alugado</td>\n",
       "      <td>quitar</td>\n",
       "      <td>A</td>\n",
       "      <td>23.0</td>\n",
       "      <td>54500.0</td>\n",
       "      <td>2.0</td>\n",
       "      <td>8000.0</td>\n",
       "      <td>11.26</td>\n",
       "      <td>0.15</td>\n",
       "      <td>2.0</td>\n",
       "      <td>0.0</td>\n",
       "      <td>0.0</td>\n",
       "    </tr>\n",
       "    <tr>\n",
       "      <th>...</th>\n",
       "      <td>...</td>\n",
       "      <td>...</td>\n",
       "      <td>...</td>\n",
       "      <td>...</td>\n",
       "      <td>...</td>\n",
       "      <td>...</td>\n",
       "      <td>...</td>\n",
       "      <td>...</td>\n",
       "      <td>...</td>\n",
       "      <td>...</td>\n",
       "      <td>...</td>\n",
       "      <td>...</td>\n",
       "      <td>...</td>\n",
       "      <td>...</td>\n",
       "      <td>...</td>\n",
       "    </tr>\n",
       "    <tr>\n",
       "      <th>34473</th>\n",
       "      <td>IuYkEXvw-YDnc</td>\n",
       "      <td>IT0YNmM9-xJUf</td>\n",
       "      <td>q0YwGXaQ-ZTgQ</td>\n",
       "      <td>alugado</td>\n",
       "      <td>saude</td>\n",
       "      <td>D</td>\n",
       "      <td>39.0</td>\n",
       "      <td>33996.0</td>\n",
       "      <td>6.0</td>\n",
       "      <td>4000.0</td>\n",
       "      <td>11.49</td>\n",
       "      <td>0.12</td>\n",
       "      <td>13.0</td>\n",
       "      <td>0.0</td>\n",
       "      <td>1.0</td>\n",
       "    </tr>\n",
       "    <tr>\n",
       "      <th>34474</th>\n",
       "      <td>toJSgLh4-Sf0s</td>\n",
       "      <td>dBBYeSyf-N3y2</td>\n",
       "      <td>QU4yUUO4-sZ0f</td>\n",
       "      <td>financiado</td>\n",
       "      <td>reforma</td>\n",
       "      <td>A</td>\n",
       "      <td>24.0</td>\n",
       "      <td>36000.0</td>\n",
       "      <td>6.0</td>\n",
       "      <td>14775.0</td>\n",
       "      <td>6.62</td>\n",
       "      <td>0.41</td>\n",
       "      <td>4.0</td>\n",
       "      <td>0.0</td>\n",
       "      <td>0.0</td>\n",
       "    </tr>\n",
       "    <tr>\n",
       "      <th>34475</th>\n",
       "      <td>ezodwdzy-IgP3</td>\n",
       "      <td>Z0OQkNXo-noen</td>\n",
       "      <td>W6NpiRzO-8o5z</td>\n",
       "      <td>financiado</td>\n",
       "      <td>quitar</td>\n",
       "      <td>A</td>\n",
       "      <td>27.0</td>\n",
       "      <td>39600.0</td>\n",
       "      <td>11.0</td>\n",
       "      <td>4800.0</td>\n",
       "      <td>6.76</td>\n",
       "      <td>0.12</td>\n",
       "      <td>9.0</td>\n",
       "      <td>0.0</td>\n",
       "      <td>0.0</td>\n",
       "    </tr>\n",
       "    <tr>\n",
       "      <th>34476</th>\n",
       "      <td>zcvLEBEd-JHhI</td>\n",
       "      <td>EtCzqy1B-QYEL</td>\n",
       "      <td>3fcjJLaj-Bkio</td>\n",
       "      <td>financiado</td>\n",
       "      <td>saude</td>\n",
       "      <td>C</td>\n",
       "      <td>30.0</td>\n",
       "      <td>39996.0</td>\n",
       "      <td>8.0</td>\n",
       "      <td>10000.0</td>\n",
       "      <td>12.73</td>\n",
       "      <td>0.25</td>\n",
       "      <td>6.0</td>\n",
       "      <td>0.0</td>\n",
       "      <td>0.0</td>\n",
       "    </tr>\n",
       "    <tr>\n",
       "      <th>34477</th>\n",
       "      <td>zHG1040U-BAsd</td>\n",
       "      <td>Jb3kZcsS-4i5B</td>\n",
       "      <td>zoPPIv63-aGvX</td>\n",
       "      <td>alugado</td>\n",
       "      <td>ensino</td>\n",
       "      <td>B</td>\n",
       "      <td>26.0</td>\n",
       "      <td>54996.0</td>\n",
       "      <td>8.0</td>\n",
       "      <td>20000.0</td>\n",
       "      <td>12.18</td>\n",
       "      <td>0.36</td>\n",
       "      <td>4.0</td>\n",
       "      <td>0.0</td>\n",
       "      <td>1.0</td>\n",
       "    </tr>\n",
       "  </tbody>\n",
       "</table>\n",
       "<p>34478 rows × 15 columns</p>\n",
       "</div>"
      ],
      "text/plain": [
       "          id_cliente  id_emprestimo   id_historico tipo_imovel  \\\n",
       "0      AspC7qDK-5Esh  kZHfWgGv-0dWJ  UwfbzeaW-9tQt     alugado   \n",
       "1      2NjYU2iT-fGSm  j7elJxsY-eTEQ  viRQ2WYn-yJ2G  financiado   \n",
       "2      nTOKgZCT-YPUD  t9dKvc6a-4eAL  IEHObaim-KPC9  financiado   \n",
       "3      J3jGNZeh-OzZE  NaelpPC5-t2kz  GvqL52S8-S8OH     alugado   \n",
       "4      flpZfspk-bUuL  4NHe4vfi-QLvW  fbc8cPEp-uJEB     alugado   \n",
       "...              ...            ...            ...         ...   \n",
       "34473  IuYkEXvw-YDnc  IT0YNmM9-xJUf  q0YwGXaQ-ZTgQ     alugado   \n",
       "34474  toJSgLh4-Sf0s  dBBYeSyf-N3y2  QU4yUUO4-sZ0f  financiado   \n",
       "34475  ezodwdzy-IgP3  Z0OQkNXo-noen  W6NpiRzO-8o5z  financiado   \n",
       "34476  zcvLEBEd-JHhI  EtCzqy1B-QYEL  3fcjJLaj-Bkio  financiado   \n",
       "34477  zHG1040U-BAsd  Jb3kZcsS-4i5B  zoPPIv63-aGvX     alugado   \n",
       "\n",
       "      motivo_emprestimo grupo  idade   salario  tempo_trabalhando  \\\n",
       "0                ensino     B   21.0   60000.0                2.0   \n",
       "1                ensino     A   40.0   70000.0                6.0   \n",
       "2                 saude     C   29.0  115000.0                3.0   \n",
       "3                 saude     B   26.0   84996.0                0.0   \n",
       "4                quitar     A   23.0   54500.0                2.0   \n",
       "...                 ...   ...    ...       ...                ...   \n",
       "34473             saude     D   39.0   33996.0                6.0   \n",
       "34474           reforma     A   24.0   36000.0                6.0   \n",
       "34475            quitar     A   27.0   39600.0               11.0   \n",
       "34476             saude     C   30.0   39996.0                8.0   \n",
       "34477            ensino     B   26.0   54996.0                8.0   \n",
       "\n",
       "       valor_emprestimo  juros  emp_sal  tempo_cliente  INADIMPLENCIA  \\\n",
       "0                8000.0  11.26     0.13            3.0            0.0   \n",
       "1               18000.0   7.90     0.26           14.0            0.0   \n",
       "2               22000.0  15.23     0.19            7.0            1.0   \n",
       "3                9000.0  11.26     0.11            2.0            0.0   \n",
       "4                8000.0  11.26     0.15            2.0            0.0   \n",
       "...                 ...    ...      ...            ...            ...   \n",
       "34473            4000.0  11.49     0.12           13.0            0.0   \n",
       "34474           14775.0   6.62     0.41            4.0            0.0   \n",
       "34475            4800.0   6.76     0.12            9.0            0.0   \n",
       "34476           10000.0  12.73     0.25            6.0            0.0   \n",
       "34477           20000.0  12.18     0.36            4.0            0.0   \n",
       "\n",
       "       RISCO_INADIMPLENCIA  \n",
       "0                      0.0  \n",
       "1                      0.0  \n",
       "2                      0.0  \n",
       "3                      0.0  \n",
       "4                      0.0  \n",
       "...                    ...  \n",
       "34473                  1.0  \n",
       "34474                  0.0  \n",
       "34475                  0.0  \n",
       "34476                  0.0  \n",
       "34477                  1.0  \n",
       "\n",
       "[34478 rows x 15 columns]"
      ]
     },
     "execution_count": 2,
     "metadata": {},
     "output_type": "execute_result"
    }
   ],
   "source": [
    "dados = pd.read_csv('dados_alura.csv')\n",
    "dados"
   ]
  },
  {
   "cell_type": "markdown",
   "id": "98711e37",
   "metadata": {},
   "source": [
    "## Testando apenas com os dados numéricos"
   ]
  },
  {
   "cell_type": "code",
   "execution_count": 4,
   "id": "130ba3bb",
   "metadata": {},
   "outputs": [
    {
     "name": "stdout",
     "output_type": "stream",
     "text": [
      "Treinaremos com 25858 elementos e testaremos com 8620 elementos\n",
      "A acurácia do dummy classifier foi 78.20%\n"
     ]
    }
   ],
   "source": [
    "from sklearn.model_selection import train_test_split\n",
    "from sklearn.dummy import DummyClassifier\n",
    "from sklearn.metrics import accuracy_score\n",
    "\n",
    "x = dados[['idade', 'salario', 'tempo_trabalhando', 'valor_emprestimo', 'juros', 'emp_sal', 'tempo_cliente', 'INADIMPLENCIA']]\n",
    "y = dados['RISCO_INADIMPLENCIA']\n",
    "SEED = 1\n",
    "np.random.seed(SEED)\n",
    "\n",
    "treino_x, teste_x, treino_y, teste_y = train_test_split(x, y, test_size = 0.25, stratify = y)\n",
    "dummy_clf = DummyClassifier()\n",
    "dummy_clf.fit(treino_x, treino_y)\n",
    "acuracia = dummy_clf.score(teste_x, teste_y) * 100\n",
    "print(\"Treinaremos com %d elementos e testaremos com %d elementos\" % (len(treino_x), len(teste_y)))\n",
    "print(\"A acurácia do dummy classifier foi %.2f%%\" % acuracia)"
   ]
  },
  {
   "cell_type": "code",
   "execution_count": 5,
   "id": "39df6d57",
   "metadata": {},
   "outputs": [
    {
     "name": "stdout",
     "output_type": "stream",
     "text": [
      "A acurácia foi 84.26%\n"
     ]
    }
   ],
   "source": [
    "from sklearn import tree\n",
    "clf = tree.DecisionTreeClassifier(max_depth=3)\n",
    "clf = clf.fit(treino_x, treino_y)\n",
    "previsoes = clf.predict(teste_x)\n",
    "\n",
    "acuracia = accuracy_score(teste_y, previsoes) * 100\n",
    "print(\"A acurácia foi %.2f%%\" % acuracia)"
   ]
  },
  {
   "cell_type": "code",
   "execution_count": 6,
   "id": "2d939011",
   "metadata": {},
   "outputs": [
    {
     "data": {
      "image/png": "[encoded data removed]",
      "text/plain": [
       "<Figure size 1152x720 with 1 Axes>"
      ]
     },
     "metadata": {
      "needs_background": "light"
     },
     "output_type": "display_data"
    }
   ],
   "source": [
    "import matplotlib.pyplot as plt\n",
    "plt.figure(figsize=(16,10))  \n",
    "tree.plot_tree(clf, feature_names=['idade', 'salario', 'tempo_trabalhando', 'valor_emprestimo', 'juros',\n",
    "       'emp_sal', 'tempo_cliente', 'INADIMPLENCIA'], fontsize=10)\n",
    "plt.show()"
   ]
  },
  {
   "cell_type": "code",
   "execution_count": 7,
   "id": "b82da7be",
   "metadata": {},
   "outputs": [
    {
     "name": "stdout",
     "output_type": "stream",
     "text": [
      "Accuracy com cross validation, cv = 5 = [84.00, 85.36]\n"
     ]
    }
   ],
   "source": [
    "from sklearn.model_selection import cross_validate\n",
    "modelo = tree.DecisionTreeClassifier(max_depth=3)\n",
    "results = cross_validate(modelo, x, y, cv = 5, return_train_score=False)\n",
    "media = results['test_score'].mean()\n",
    "desvio_padrao = results['test_score'].std()\n",
    "print(\"Accuracy com cross validation, cv = 5 = [%.2f, %.2f]\" % ((media - 2 * desvio_padrao)*100, (media + 2 * desvio_padrao) * 100))"
   ]
  },
  {
   "cell_type": "code",
   "execution_count": 8,
   "id": "486c849d",
   "metadata": {},
   "outputs": [
    {
     "name": "stdout",
     "output_type": "stream",
     "text": [
      "Accuracy com cross validation, cv = 5 = [84.00, 85.38]\n"
     ]
    }
   ],
   "source": [
    "from sklearn.model_selection import cross_val_score\n",
    "clf = tree.DecisionTreeClassifier(max_depth=3)\n",
    "clf = clf.fit(treino_x, treino_y)\n",
    "previsoes = clf.predict(teste_x)\n",
    "media = cross_val_score(clf, treino_x, treino_y, cv=5).mean()\n",
    "desvio_padrao = cross_val_score(clf, treino_x, treino_y, cv=5).std()\n",
    "print(\"Accuracy com cross validation, cv = 5 = [%.2f, %.2f]\" % ((media - 2 * desvio_padrao)*100, (media + 2 * desvio_padrao) * 100))"
   ]
  },
  {
   "cell_type": "code",
   "execution_count": 9,
   "id": "cea445d9",
   "metadata": {},
   "outputs": [
    {
     "data": {
      "text/plain": [
       "{'fit_time': array([0.03470087, 0.03127289, 0.0248456 , 0.02567458, 0.02366376]),\n",
       " 'score_time': array([0.        , 0.00202394, 0.        , 0.        , 0.        ]),\n",
       " 'test_score': array([0.84846288, 0.8512181 , 0.84425754, 0.8484409 , 0.84162437])}"
      ]
     },
     "execution_count": 9,
     "metadata": {},
     "output_type": "execute_result"
    }
   ],
   "source": [
    "cross_validate(modelo, x, y, cv = 5)"
   ]
  },
  {
   "cell_type": "code",
   "execution_count": 10,
   "id": "ac765fcf",
   "metadata": {},
   "outputs": [
    {
     "data": {
      "text/plain": [
       "array([0.8466744 , 0.84338747, 0.84300077, 0.84993231, 0.85167279])"
      ]
     },
     "execution_count": 10,
     "metadata": {},
     "output_type": "execute_result"
    }
   ],
   "source": [
    "cross_val_score(clf, treino_x, treino_y, cv=5)"
   ]
  },
  {
   "cell_type": "code",
   "execution_count": 11,
   "id": "36f00767",
   "metadata": {},
   "outputs": [
    {
     "data": {
      "text/plain": [
       "array([0.62075562, 0.61206897, 0.62056075, 0.63187856, 0.6345879 ])"
      ]
     },
     "execution_count": 11,
     "metadata": {},
     "output_type": "execute_result"
    }
   ],
   "source": [
    "cross_val_score(clf, treino_x, treino_y, cv=5, scoring='f1')"
   ]
  },
  {
   "cell_type": "code",
   "execution_count": 12,
   "id": "ea144d34",
   "metadata": {},
   "outputs": [
    {
     "data": {
      "text/plain": [
       "array([0.8466744 , 0.84338747, 0.84300077, 0.84993231, 0.85167279])"
      ]
     },
     "execution_count": 12,
     "metadata": {},
     "output_type": "execute_result"
    }
   ],
   "source": [
    "cross_val_score(clf, treino_x, treino_y, cv=5, scoring='accuracy')"
   ]
  },
  {
   "cell_type": "code",
   "execution_count": 13,
   "id": "6bd9a733",
   "metadata": {},
   "outputs": [
    {
     "data": {
      "text/plain": [
       "array([0.5692337 , 0.57797113, 0.57334693, 0.58532953, 0.58094954])"
      ]
     },
     "execution_count": 13,
     "metadata": {},
     "output_type": "execute_result"
    }
   ],
   "source": [
    "cross_val_score(clf, treino_x, treino_y, cv=5, scoring='average_precision')"
   ]
  },
  {
   "cell_type": "code",
   "execution_count": 14,
   "id": "b19207aa",
   "metadata": {},
   "outputs": [
    {
     "data": {
      "text/plain": [
       "array([0.67393562, 0.665625  , 0.65612648, 0.67889908, 0.68518519])"
      ]
     },
     "execution_count": 14,
     "metadata": {},
     "output_type": "execute_result"
    }
   ],
   "source": [
    "cross_val_score(clf, treino_x, treino_y, cv=5, scoring='precision')"
   ]
  },
  {
   "cell_type": "code",
   "execution_count": 15,
   "id": "6a2cf59e",
   "metadata": {},
   "outputs": [
    {
     "data": {
      "text/plain": [
       "array([0.57535461, 0.56648936, 0.58865248, 0.59094942, 0.59094942])"
      ]
     },
     "execution_count": 15,
     "metadata": {},
     "output_type": "execute_result"
    }
   ],
   "source": [
    "cross_val_score(clf, treino_x, treino_y, cv=5, scoring='recall')"
   ]
  },
  {
   "cell_type": "code",
   "execution_count": 16,
   "id": "02ec4055",
   "metadata": {},
   "outputs": [
    {
     "data": {
      "text/plain": [
       "array([0.80759309, 0.81282905, 0.8118533 , 0.81221163, 0.80713186])"
      ]
     },
     "execution_count": 16,
     "metadata": {},
     "output_type": "execute_result"
    }
   ],
   "source": [
    "cross_val_score(clf, treino_x, treino_y, cv=5, scoring='roc_auc')"
   ]
  },
  {
   "cell_type": "code",
   "execution_count": 17,
   "id": "f1350b03",
   "metadata": {},
   "outputs": [
    {
     "data": {
      "image/png": "[encoded data removed]",
      "text/plain": [
       "<Figure size 432x288 with 1 Axes>"
      ]
     },
     "metadata": {
      "needs_background": "light"
     },
     "output_type": "display_data"
    }
   ],
   "source": [
    "from sklearn.metrics import RocCurveDisplay\n",
    "clf_disp = RocCurveDisplay.from_estimator(clf, teste_x, teste_y)"
   ]
  },
  {
   "cell_type": "code",
   "execution_count": 18,
   "id": "e0b0cd29",
   "metadata": {},
   "outputs": [
    {
     "name": "stdout",
     "output_type": "stream",
     "text": [
      "[[6224  517]\n",
      " [ 840 1039]]\n"
     ]
    }
   ],
   "source": [
    "from sklearn.metrics import confusion_matrix\n",
    "print(confusion_matrix(teste_y, previsoes))"
   ]
  },
  {
   "cell_type": "code",
   "execution_count": 44,
   "id": "eabe3734",
   "metadata": {},
   "outputs": [
    {
     "name": "stdout",
     "output_type": "stream",
     "text": [
      "Accuracy com cross validation, 10 = [86.08, 86.65]\n"
     ]
    }
   ],
   "source": [
    "from sklearn.model_selection import KFold\n",
    "\n",
    "SEED = 301\n",
    "np.random.seed(SEED)\n",
    "\n",
    "cv = KFold(n_splits = 10)\n",
    "modelo = tree.DecisionTreeClassifier(max_depth=3)\n",
    "results = cross_validate(modelo, x, y, cv = cv, return_train_score=False)\n",
    "media = results['test_score'].mean()\n",
    "desvio_padrao = results['test_score'].std()* desvio_padrao * 100\n",
    "print(\"Accuracy com cross validation, 10 = [%.2f, %.2f]\" % ((media - 2 * desvio_padrao)*100, (media + 2 * desvio_padrao) * 100))"
   ]
  },
  {
   "cell_type": "markdown",
   "id": "b1fc2469",
   "metadata": {},
   "source": [
    "## Agora transformando os dados categóricos"
   ]
  },
  {
   "cell_type": "code",
   "execution_count": 19,
   "id": "9921fe1a",
   "metadata": {},
   "outputs": [
    {
     "data": {
      "text/html": [
       "<div>\n",
       "<style scoped>\n",
       "    .dataframe tbody tr th:only-of-type {\n",
       "        vertical-align: middle;\n",
       "    }\n",
       "\n",
       "    .dataframe tbody tr th {\n",
       "        vertical-align: top;\n",
       "    }\n",
       "\n",
       "    .dataframe thead th {\n",
       "        text-align: right;\n",
       "    }\n",
       "</style>\n",
       "<table border=\"1\" class=\"dataframe\">\n",
       "  <thead>\n",
       "    <tr style=\"text-align: right;\">\n",
       "      <th></th>\n",
       "      <th>tipo_imovel_alugado</th>\n",
       "      <th>tipo_imovel_financiado</th>\n",
       "      <th>tipo_imovel_outro</th>\n",
       "      <th>tipo_imovel_proprio</th>\n",
       "      <th>motivo_emprestimo_ensino</th>\n",
       "      <th>motivo_emprestimo_pessoal</th>\n",
       "      <th>motivo_emprestimo_quitar</th>\n",
       "      <th>motivo_emprestimo_reforma</th>\n",
       "      <th>motivo_emprestimo_risco</th>\n",
       "      <th>motivo_emprestimo_saude</th>\n",
       "      <th>grupo_A</th>\n",
       "      <th>grupo_B</th>\n",
       "      <th>grupo_C</th>\n",
       "      <th>grupo_D</th>\n",
       "      <th>grupo_E</th>\n",
       "      <th>grupo_F</th>\n",
       "      <th>grupo_G</th>\n",
       "    </tr>\n",
       "  </thead>\n",
       "  <tbody>\n",
       "    <tr>\n",
       "      <th>0</th>\n",
       "      <td>1</td>\n",
       "      <td>0</td>\n",
       "      <td>0</td>\n",
       "      <td>0</td>\n",
       "      <td>1</td>\n",
       "      <td>0</td>\n",
       "      <td>0</td>\n",
       "      <td>0</td>\n",
       "      <td>0</td>\n",
       "      <td>0</td>\n",
       "      <td>0</td>\n",
       "      <td>1</td>\n",
       "      <td>0</td>\n",
       "      <td>0</td>\n",
       "      <td>0</td>\n",
       "      <td>0</td>\n",
       "      <td>0</td>\n",
       "    </tr>\n",
       "    <tr>\n",
       "      <th>1</th>\n",
       "      <td>0</td>\n",
       "      <td>1</td>\n",
       "      <td>0</td>\n",
       "      <td>0</td>\n",
       "      <td>1</td>\n",
       "      <td>0</td>\n",
       "      <td>0</td>\n",
       "      <td>0</td>\n",
       "      <td>0</td>\n",
       "      <td>0</td>\n",
       "      <td>1</td>\n",
       "      <td>0</td>\n",
       "      <td>0</td>\n",
       "      <td>0</td>\n",
       "      <td>0</td>\n",
       "      <td>0</td>\n",
       "      <td>0</td>\n",
       "    </tr>\n",
       "    <tr>\n",
       "      <th>2</th>\n",
       "      <td>0</td>\n",
       "      <td>1</td>\n",
       "      <td>0</td>\n",
       "      <td>0</td>\n",
       "      <td>0</td>\n",
       "      <td>0</td>\n",
       "      <td>0</td>\n",
       "      <td>0</td>\n",
       "      <td>0</td>\n",
       "      <td>1</td>\n",
       "      <td>0</td>\n",
       "      <td>0</td>\n",
       "      <td>1</td>\n",
       "      <td>0</td>\n",
       "      <td>0</td>\n",
       "      <td>0</td>\n",
       "      <td>0</td>\n",
       "    </tr>\n",
       "    <tr>\n",
       "      <th>3</th>\n",
       "      <td>1</td>\n",
       "      <td>0</td>\n",
       "      <td>0</td>\n",
       "      <td>0</td>\n",
       "      <td>0</td>\n",
       "      <td>0</td>\n",
       "      <td>0</td>\n",
       "      <td>0</td>\n",
       "      <td>0</td>\n",
       "      <td>1</td>\n",
       "      <td>0</td>\n",
       "      <td>1</td>\n",
       "      <td>0</td>\n",
       "      <td>0</td>\n",
       "      <td>0</td>\n",
       "      <td>0</td>\n",
       "      <td>0</td>\n",
       "    </tr>\n",
       "    <tr>\n",
       "      <th>4</th>\n",
       "      <td>1</td>\n",
       "      <td>0</td>\n",
       "      <td>0</td>\n",
       "      <td>0</td>\n",
       "      <td>0</td>\n",
       "      <td>0</td>\n",
       "      <td>1</td>\n",
       "      <td>0</td>\n",
       "      <td>0</td>\n",
       "      <td>0</td>\n",
       "      <td>1</td>\n",
       "      <td>0</td>\n",
       "      <td>0</td>\n",
       "      <td>0</td>\n",
       "      <td>0</td>\n",
       "      <td>0</td>\n",
       "      <td>0</td>\n",
       "    </tr>\n",
       "    <tr>\n",
       "      <th>...</th>\n",
       "      <td>...</td>\n",
       "      <td>...</td>\n",
       "      <td>...</td>\n",
       "      <td>...</td>\n",
       "      <td>...</td>\n",
       "      <td>...</td>\n",
       "      <td>...</td>\n",
       "      <td>...</td>\n",
       "      <td>...</td>\n",
       "      <td>...</td>\n",
       "      <td>...</td>\n",
       "      <td>...</td>\n",
       "      <td>...</td>\n",
       "      <td>...</td>\n",
       "      <td>...</td>\n",
       "      <td>...</td>\n",
       "      <td>...</td>\n",
       "    </tr>\n",
       "    <tr>\n",
       "      <th>34473</th>\n",
       "      <td>1</td>\n",
       "      <td>0</td>\n",
       "      <td>0</td>\n",
       "      <td>0</td>\n",
       "      <td>0</td>\n",
       "      <td>0</td>\n",
       "      <td>0</td>\n",
       "      <td>0</td>\n",
       "      <td>0</td>\n",
       "      <td>1</td>\n",
       "      <td>0</td>\n",
       "      <td>0</td>\n",
       "      <td>0</td>\n",
       "      <td>1</td>\n",
       "      <td>0</td>\n",
       "      <td>0</td>\n",
       "      <td>0</td>\n",
       "    </tr>\n",
       "    <tr>\n",
       "      <th>34474</th>\n",
       "      <td>0</td>\n",
       "      <td>1</td>\n",
       "      <td>0</td>\n",
       "      <td>0</td>\n",
       "      <td>0</td>\n",
       "      <td>0</td>\n",
       "      <td>0</td>\n",
       "      <td>1</td>\n",
       "      <td>0</td>\n",
       "      <td>0</td>\n",
       "      <td>1</td>\n",
       "      <td>0</td>\n",
       "      <td>0</td>\n",
       "      <td>0</td>\n",
       "      <td>0</td>\n",
       "      <td>0</td>\n",
       "      <td>0</td>\n",
       "    </tr>\n",
       "    <tr>\n",
       "      <th>34475</th>\n",
       "      <td>0</td>\n",
       "      <td>1</td>\n",
       "      <td>0</td>\n",
       "      <td>0</td>\n",
       "      <td>0</td>\n",
       "      <td>0</td>\n",
       "      <td>1</td>\n",
       "      <td>0</td>\n",
       "      <td>0</td>\n",
       "      <td>0</td>\n",
       "      <td>1</td>\n",
       "      <td>0</td>\n",
       "      <td>0</td>\n",
       "      <td>0</td>\n",
       "      <td>0</td>\n",
       "      <td>0</td>\n",
       "      <td>0</td>\n",
       "    </tr>\n",
       "    <tr>\n",
       "      <th>34476</th>\n",
       "      <td>0</td>\n",
       "      <td>1</td>\n",
       "      <td>0</td>\n",
       "      <td>0</td>\n",
       "      <td>0</td>\n",
       "      <td>0</td>\n",
       "      <td>0</td>\n",
       "      <td>0</td>\n",
       "      <td>0</td>\n",
       "      <td>1</td>\n",
       "      <td>0</td>\n",
       "      <td>0</td>\n",
       "      <td>1</td>\n",
       "      <td>0</td>\n",
       "      <td>0</td>\n",
       "      <td>0</td>\n",
       "      <td>0</td>\n",
       "    </tr>\n",
       "    <tr>\n",
       "      <th>34477</th>\n",
       "      <td>1</td>\n",
       "      <td>0</td>\n",
       "      <td>0</td>\n",
       "      <td>0</td>\n",
       "      <td>1</td>\n",
       "      <td>0</td>\n",
       "      <td>0</td>\n",
       "      <td>0</td>\n",
       "      <td>0</td>\n",
       "      <td>0</td>\n",
       "      <td>0</td>\n",
       "      <td>1</td>\n",
       "      <td>0</td>\n",
       "      <td>0</td>\n",
       "      <td>0</td>\n",
       "      <td>0</td>\n",
       "      <td>0</td>\n",
       "    </tr>\n",
       "  </tbody>\n",
       "</table>\n",
       "<p>34478 rows × 17 columns</p>\n",
       "</div>"
      ],
      "text/plain": [
       "       tipo_imovel_alugado  tipo_imovel_financiado  tipo_imovel_outro  \\\n",
       "0                        1                       0                  0   \n",
       "1                        0                       1                  0   \n",
       "2                        0                       1                  0   \n",
       "3                        1                       0                  0   \n",
       "4                        1                       0                  0   \n",
       "...                    ...                     ...                ...   \n",
       "34473                    1                       0                  0   \n",
       "34474                    0                       1                  0   \n",
       "34475                    0                       1                  0   \n",
       "34476                    0                       1                  0   \n",
       "34477                    1                       0                  0   \n",
       "\n",
       "       tipo_imovel_proprio  motivo_emprestimo_ensino  \\\n",
       "0                        0                         1   \n",
       "1                        0                         1   \n",
       "2                        0                         0   \n",
       "3                        0                         0   \n",
       "4                        0                         0   \n",
       "...                    ...                       ...   \n",
       "34473                    0                         0   \n",
       "34474                    0                         0   \n",
       "34475                    0                         0   \n",
       "34476                    0                         0   \n",
       "34477                    0                         1   \n",
       "\n",
       "       motivo_emprestimo_pessoal  motivo_emprestimo_quitar  \\\n",
       "0                              0                         0   \n",
       "1                              0                         0   \n",
       "2                              0                         0   \n",
       "3                              0                         0   \n",
       "4                              0                         1   \n",
       "...                          ...                       ...   \n",
       "34473                          0                         0   \n",
       "34474                          0                         0   \n",
       "34475                          0                         1   \n",
       "34476                          0                         0   \n",
       "34477                          0                         0   \n",
       "\n",
       "       motivo_emprestimo_reforma  motivo_emprestimo_risco  \\\n",
       "0                              0                        0   \n",
       "1                              0                        0   \n",
       "2                              0                        0   \n",
       "3                              0                        0   \n",
       "4                              0                        0   \n",
       "...                          ...                      ...   \n",
       "34473                          0                        0   \n",
       "34474                          1                        0   \n",
       "34475                          0                        0   \n",
       "34476                          0                        0   \n",
       "34477                          0                        0   \n",
       "\n",
       "       motivo_emprestimo_saude  grupo_A  grupo_B  grupo_C  grupo_D  grupo_E  \\\n",
       "0                            0        0        1        0        0        0   \n",
       "1                            0        1        0        0        0        0   \n",
       "2                            1        0        0        1        0        0   \n",
       "3                            1        0        1        0        0        0   \n",
       "4                            0        1        0        0        0        0   \n",
       "...                        ...      ...      ...      ...      ...      ...   \n",
       "34473                        1        0        0        0        1        0   \n",
       "34474                        0        1        0        0        0        0   \n",
       "34475                        0        1        0        0        0        0   \n",
       "34476                        1        0        0        1        0        0   \n",
       "34477                        0        0        1        0        0        0   \n",
       "\n",
       "       grupo_F  grupo_G  \n",
       "0            0        0  \n",
       "1            0        0  \n",
       "2            0        0  \n",
       "3            0        0  \n",
       "4            0        0  \n",
       "...        ...      ...  \n",
       "34473        0        0  \n",
       "34474        0        0  \n",
       "34475        0        0  \n",
       "34476        0        0  \n",
       "34477        0        0  \n",
       "\n",
       "[34478 rows x 17 columns]"
      ]
     },
     "execution_count": 19,
     "metadata": {},
     "output_type": "execute_result"
    }
   ],
   "source": [
    "df_dummies = pd.get_dummies(dados.drop(['id_cliente', 'id_emprestimo', 'id_historico', \n",
    "        'idade', 'salario', 'tempo_trabalhando',\n",
    "       'valor_emprestimo', 'juros', 'emp_sal', 'tempo_cliente',\n",
    "       'INADIMPLENCIA', 'RISCO_INADIMPLENCIA'], axis = 1))\n",
    "df_dummies"
   ]
  },
  {
   "cell_type": "code",
   "execution_count": 20,
   "id": "482b3974",
   "metadata": {},
   "outputs": [],
   "source": [
    "df_modificado = dados[['id_cliente', 'id_emprestimo', 'id_historico', \n",
    "        'idade', 'salario', 'tempo_trabalhando',\n",
    "       'valor_emprestimo', 'juros', 'emp_sal', 'tempo_cliente',\n",
    "       'INADIMPLENCIA', 'RISCO_INADIMPLENCIA']]"
   ]
  },
  {
   "cell_type": "code",
   "execution_count": 21,
   "id": "f1524c00",
   "metadata": {},
   "outputs": [
    {
     "data": {
      "text/html": [
       "<div>\n",
       "<style scoped>\n",
       "    .dataframe tbody tr th:only-of-type {\n",
       "        vertical-align: middle;\n",
       "    }\n",
       "\n",
       "    .dataframe tbody tr th {\n",
       "        vertical-align: top;\n",
       "    }\n",
       "\n",
       "    .dataframe thead th {\n",
       "        text-align: right;\n",
       "    }\n",
       "</style>\n",
       "<table border=\"1\" class=\"dataframe\">\n",
       "  <thead>\n",
       "    <tr style=\"text-align: right;\">\n",
       "      <th></th>\n",
       "      <th>id_cliente</th>\n",
       "      <th>id_emprestimo</th>\n",
       "      <th>id_historico</th>\n",
       "      <th>idade</th>\n",
       "      <th>salario</th>\n",
       "      <th>tempo_trabalhando</th>\n",
       "      <th>valor_emprestimo</th>\n",
       "      <th>juros</th>\n",
       "      <th>emp_sal</th>\n",
       "      <th>tempo_cliente</th>\n",
       "      <th>...</th>\n",
       "      <th>motivo_emprestimo_reforma</th>\n",
       "      <th>motivo_emprestimo_risco</th>\n",
       "      <th>motivo_emprestimo_saude</th>\n",
       "      <th>grupo_A</th>\n",
       "      <th>grupo_B</th>\n",
       "      <th>grupo_C</th>\n",
       "      <th>grupo_D</th>\n",
       "      <th>grupo_E</th>\n",
       "      <th>grupo_F</th>\n",
       "      <th>grupo_G</th>\n",
       "    </tr>\n",
       "  </thead>\n",
       "  <tbody>\n",
       "    <tr>\n",
       "      <th>0</th>\n",
       "      <td>AspC7qDK-5Esh</td>\n",
       "      <td>kZHfWgGv-0dWJ</td>\n",
       "      <td>UwfbzeaW-9tQt</td>\n",
       "      <td>21.0</td>\n",
       "      <td>60000.0</td>\n",
       "      <td>2.0</td>\n",
       "      <td>8000.0</td>\n",
       "      <td>11.26</td>\n",
       "      <td>0.13</td>\n",
       "      <td>3.0</td>\n",
       "      <td>...</td>\n",
       "      <td>0</td>\n",
       "      <td>0</td>\n",
       "      <td>0</td>\n",
       "      <td>0</td>\n",
       "      <td>1</td>\n",
       "      <td>0</td>\n",
       "      <td>0</td>\n",
       "      <td>0</td>\n",
       "      <td>0</td>\n",
       "      <td>0</td>\n",
       "    </tr>\n",
       "    <tr>\n",
       "      <th>1</th>\n",
       "      <td>2NjYU2iT-fGSm</td>\n",
       "      <td>j7elJxsY-eTEQ</td>\n",
       "      <td>viRQ2WYn-yJ2G</td>\n",
       "      <td>40.0</td>\n",
       "      <td>70000.0</td>\n",
       "      <td>6.0</td>\n",
       "      <td>18000.0</td>\n",
       "      <td>7.90</td>\n",
       "      <td>0.26</td>\n",
       "      <td>14.0</td>\n",
       "      <td>...</td>\n",
       "      <td>0</td>\n",
       "      <td>0</td>\n",
       "      <td>0</td>\n",
       "      <td>1</td>\n",
       "      <td>0</td>\n",
       "      <td>0</td>\n",
       "      <td>0</td>\n",
       "      <td>0</td>\n",
       "      <td>0</td>\n",
       "      <td>0</td>\n",
       "    </tr>\n",
       "    <tr>\n",
       "      <th>2</th>\n",
       "      <td>nTOKgZCT-YPUD</td>\n",
       "      <td>t9dKvc6a-4eAL</td>\n",
       "      <td>IEHObaim-KPC9</td>\n",
       "      <td>29.0</td>\n",
       "      <td>115000.0</td>\n",
       "      <td>3.0</td>\n",
       "      <td>22000.0</td>\n",
       "      <td>15.23</td>\n",
       "      <td>0.19</td>\n",
       "      <td>7.0</td>\n",
       "      <td>...</td>\n",
       "      <td>0</td>\n",
       "      <td>0</td>\n",
       "      <td>1</td>\n",
       "      <td>0</td>\n",
       "      <td>0</td>\n",
       "      <td>1</td>\n",
       "      <td>0</td>\n",
       "      <td>0</td>\n",
       "      <td>0</td>\n",
       "      <td>0</td>\n",
       "    </tr>\n",
       "    <tr>\n",
       "      <th>3</th>\n",
       "      <td>J3jGNZeh-OzZE</td>\n",
       "      <td>NaelpPC5-t2kz</td>\n",
       "      <td>GvqL52S8-S8OH</td>\n",
       "      <td>26.0</td>\n",
       "      <td>84996.0</td>\n",
       "      <td>0.0</td>\n",
       "      <td>9000.0</td>\n",
       "      <td>11.26</td>\n",
       "      <td>0.11</td>\n",
       "      <td>2.0</td>\n",
       "      <td>...</td>\n",
       "      <td>0</td>\n",
       "      <td>0</td>\n",
       "      <td>1</td>\n",
       "      <td>0</td>\n",
       "      <td>1</td>\n",
       "      <td>0</td>\n",
       "      <td>0</td>\n",
       "      <td>0</td>\n",
       "      <td>0</td>\n",
       "      <td>0</td>\n",
       "    </tr>\n",
       "    <tr>\n",
       "      <th>4</th>\n",
       "      <td>flpZfspk-bUuL</td>\n",
       "      <td>4NHe4vfi-QLvW</td>\n",
       "      <td>fbc8cPEp-uJEB</td>\n",
       "      <td>23.0</td>\n",
       "      <td>54500.0</td>\n",
       "      <td>2.0</td>\n",
       "      <td>8000.0</td>\n",
       "      <td>11.26</td>\n",
       "      <td>0.15</td>\n",
       "      <td>2.0</td>\n",
       "      <td>...</td>\n",
       "      <td>0</td>\n",
       "      <td>0</td>\n",
       "      <td>0</td>\n",
       "      <td>1</td>\n",
       "      <td>0</td>\n",
       "      <td>0</td>\n",
       "      <td>0</td>\n",
       "      <td>0</td>\n",
       "      <td>0</td>\n",
       "      <td>0</td>\n",
       "    </tr>\n",
       "  </tbody>\n",
       "</table>\n",
       "<p>5 rows × 29 columns</p>\n",
       "</div>"
      ],
      "text/plain": [
       "      id_cliente  id_emprestimo   id_historico  idade   salario  \\\n",
       "0  AspC7qDK-5Esh  kZHfWgGv-0dWJ  UwfbzeaW-9tQt   21.0   60000.0   \n",
       "1  2NjYU2iT-fGSm  j7elJxsY-eTEQ  viRQ2WYn-yJ2G   40.0   70000.0   \n",
       "2  nTOKgZCT-YPUD  t9dKvc6a-4eAL  IEHObaim-KPC9   29.0  115000.0   \n",
       "3  J3jGNZeh-OzZE  NaelpPC5-t2kz  GvqL52S8-S8OH   26.0   84996.0   \n",
       "4  flpZfspk-bUuL  4NHe4vfi-QLvW  fbc8cPEp-uJEB   23.0   54500.0   \n",
       "\n",
       "   tempo_trabalhando  valor_emprestimo  juros  emp_sal  tempo_cliente  ...  \\\n",
       "0                2.0            8000.0  11.26     0.13            3.0  ...   \n",
       "1                6.0           18000.0   7.90     0.26           14.0  ...   \n",
       "2                3.0           22000.0  15.23     0.19            7.0  ...   \n",
       "3                0.0            9000.0  11.26     0.11            2.0  ...   \n",
       "4                2.0            8000.0  11.26     0.15            2.0  ...   \n",
       "\n",
       "   motivo_emprestimo_reforma  motivo_emprestimo_risco  \\\n",
       "0                          0                        0   \n",
       "1                          0                        0   \n",
       "2                          0                        0   \n",
       "3                          0                        0   \n",
       "4                          0                        0   \n",
       "\n",
       "   motivo_emprestimo_saude  grupo_A  grupo_B  grupo_C  grupo_D  grupo_E  \\\n",
       "0                        0        0        1        0        0        0   \n",
       "1                        0        1        0        0        0        0   \n",
       "2                        1        0        0        1        0        0   \n",
       "3                        1        0        1        0        0        0   \n",
       "4                        0        1        0        0        0        0   \n",
       "\n",
       "   grupo_F  grupo_G  \n",
       "0        0        0  \n",
       "1        0        0  \n",
       "2        0        0  \n",
       "3        0        0  \n",
       "4        0        0  \n",
       "\n",
       "[5 rows x 29 columns]"
      ]
     },
     "execution_count": 21,
     "metadata": {},
     "output_type": "execute_result"
    }
   ],
   "source": [
    "dados_final = pd.concat([df_modificado, df_dummies], axis = 1)\n",
    "dados_final.head()"
   ]
  },
  {
   "cell_type": "code",
   "execution_count": 22,
   "id": "88c27fe4",
   "metadata": {},
   "outputs": [],
   "source": [
    "dados_final.to_csv('dados.csv', index = False)"
   ]
  },
  {
   "cell_type": "code",
   "execution_count": 23,
   "id": "995322f2",
   "metadata": {},
   "outputs": [],
   "source": [
    "x = dados_final.drop(['id_cliente', 'id_emprestimo', 'id_historico', 'RISCO_INADIMPLENCIA'], axis = 1)\n",
    "y = dados_final['RISCO_INADIMPLENCIA']"
   ]
  },
  {
   "cell_type": "code",
   "execution_count": 24,
   "id": "081745de",
   "metadata": {},
   "outputs": [
    {
     "name": "stdout",
     "output_type": "stream",
     "text": [
      "Treinaremos com 25858 elementos e testaremos com 8620 elementos\n",
      "A acurácia do dummy classifier foi 78.20%\n"
     ]
    }
   ],
   "source": [
    "treino_x, teste_x, treino_y, teste_y = train_test_split(x, y, test_size = 0.25, stratify = y)\n",
    "dummy_clf = DummyClassifier()\n",
    "dummy_clf.fit(treino_x, treino_y)\n",
    "acuracia = dummy_clf.score(teste_x, teste_y) * 100\n",
    "print(\"Treinaremos com %d elementos e testaremos com %d elementos\" % (len(treino_x), len(teste_y)))\n",
    "print(\"A acurácia do dummy classifier foi %.2f%%\" % acuracia)"
   ]
  },
  {
   "cell_type": "code",
   "execution_count": 25,
   "id": "fad8bada",
   "metadata": {},
   "outputs": [
    {
     "name": "stdout",
     "output_type": "stream",
     "text": [
      "A acurácia foi 87.15%\n"
     ]
    }
   ],
   "source": [
    "clf = tree.DecisionTreeClassifier(max_depth=3)\n",
    "clf = clf.fit(treino_x, treino_y)\n",
    "previsoes = clf.predict(teste_x)\n",
    "\n",
    "acuracia = accuracy_score(teste_y, previsoes) * 100\n",
    "print(\"A acurácia foi %.2f%%\" % acuracia)"
   ]
  },
  {
   "cell_type": "code",
   "execution_count": 26,
   "id": "45cd12b8",
   "metadata": {},
   "outputs": [
    {
     "data": {
      "text/plain": [
       "Index(['id_cliente', 'id_emprestimo', 'id_historico', 'idade', 'salario',\n",
       "       'tempo_trabalhando', 'valor_emprestimo', 'juros', 'emp_sal',\n",
       "       'tempo_cliente', 'INADIMPLENCIA', 'RISCO_INADIMPLENCIA',\n",
       "       'tipo_imovel_alugado', 'tipo_imovel_financiado', 'tipo_imovel_outro',\n",
       "       'tipo_imovel_proprio', 'motivo_emprestimo_ensino',\n",
       "       'motivo_emprestimo_pessoal', 'motivo_emprestimo_quitar',\n",
       "       'motivo_emprestimo_reforma', 'motivo_emprestimo_risco',\n",
       "       'motivo_emprestimo_saude', 'grupo_A', 'grupo_B', 'grupo_C', 'grupo_D',\n",
       "       'grupo_E', 'grupo_F', 'grupo_G'],\n",
       "      dtype='object')"
      ]
     },
     "execution_count": 26,
     "metadata": {},
     "output_type": "execute_result"
    }
   ],
   "source": [
    "dados_final.columns"
   ]
  },
  {
   "cell_type": "code",
   "execution_count": 27,
   "id": "338a9590",
   "metadata": {},
   "outputs": [
    {
     "data": {
      "image/png": "[encoded data removed]",
      "text/plain": [
       "<Figure size 1152x720 with 1 Axes>"
      ]
     },
     "metadata": {
      "needs_background": "light"
     },
     "output_type": "display_data"
    }
   ],
   "source": [
    "import matplotlib.pyplot as plt\n",
    "plt.figure(figsize=(16,10))  \n",
    "tree.plot_tree(clf, feature_names=['idade', 'salario',\n",
    "       'tempo_trabalhando', 'valor_emprestimo', 'juros', 'emp_sal',\n",
    "       'tempo_cliente', 'INADIMPLENCIA', 'RISCO_INADIMPLENCIA',\n",
    "       'tipo_imovel_alugado', 'tipo_imovel_financiado', 'tipo_imovel_outro',\n",
    "       'tipo_imovel_proprio', 'motivo_emprestimo_ensino',\n",
    "       'motivo_emprestimo_pessoal', 'motivo_emprestimo_quitar',\n",
    "       'motivo_emprestimo_reforma', 'motivo_emprestimo_risco',\n",
    "       'motivo_emprestimo_saude', 'grupo_A', 'grupo_B', 'grupo_C', 'grupo_D',\n",
    "       'grupo_E', 'grupo_F', 'grupo_G'], fontsize=10)\n",
    "plt.show()"
   ]
  },
  {
   "cell_type": "code",
   "execution_count": 29,
   "id": "93665b9b",
   "metadata": {},
   "outputs": [
    {
     "name": "stdout",
     "output_type": "stream",
     "text": [
      "Accuracy com cross validation, cv = 5 = [85.23, 87.87]\n"
     ]
    }
   ],
   "source": [
    "modelo = tree.DecisionTreeClassifier(max_depth=3)\n",
    "results = cross_validate(modelo, x, y, cv = 5, return_train_score=False)\n",
    "media = results['test_score'].mean()\n",
    "desvio_padrao = results['test_score'].std()\n",
    "print(\"Accuracy com cross validation, cv = 5 = [%.2f, %.2f]\" % ((media - 2 * desvio_padrao)*100, (media + 2 * desvio_padrao) * 100))"
   ]
  },
  {
   "cell_type": "code",
   "execution_count": 30,
   "id": "6c8aac13",
   "metadata": {},
   "outputs": [
    {
     "name": "stdout",
     "output_type": "stream",
     "text": [
      "Accuracy com cross validation, cv = 5 = [85.96, 87.95]\n"
     ]
    }
   ],
   "source": [
    "clf = tree.DecisionTreeClassifier(max_depth=3)\n",
    "clf = clf.fit(treino_x, treino_y)\n",
    "previsoes = clf.predict(teste_x)\n",
    "media = cross_val_score(clf, treino_x, treino_y, cv=5).mean()\n",
    "desvio_padrao = cross_val_score(clf, treino_x, treino_y, cv=5).std()\n",
    "print(\"Accuracy com cross validation, cv = 5 = [%.2f, %.2f]\" % ((media - 2 * desvio_padrao)*100, (media + 2 * desvio_padrao) * 100))"
   ]
  },
  {
   "cell_type": "code",
   "execution_count": 31,
   "id": "db240059",
   "metadata": {},
   "outputs": [
    {
     "data": {
      "text/plain": [
       "{'fit_time': array([0.15088892, 0.08274841, 0.11378217, 0.11903882, 0.13684106]),\n",
       " 'score_time': array([0.00997686, 0.00877595, 0.00769138, 0.0075438 , 0.01319575]),\n",
       " 'test_score': array([0.86426914, 0.87833527, 0.8636891 , 0.86033358, 0.86076867])}"
      ]
     },
     "execution_count": 31,
     "metadata": {},
     "output_type": "execute_result"
    }
   ],
   "source": [
    "cross_validate(modelo, x, y, cv = 5)"
   ]
  },
  {
   "cell_type": "code",
   "execution_count": 32,
   "id": "04f65737",
   "metadata": {},
   "outputs": [
    {
     "data": {
      "text/plain": [
       "array([0.87664346, 0.8633024 , 0.87296984, 0.86482305, 0.86985109])"
      ]
     },
     "execution_count": 32,
     "metadata": {},
     "output_type": "execute_result"
    }
   ],
   "source": [
    "cross_val_score(clf, treino_x, treino_y, cv=5)"
   ]
  },
  {
   "cell_type": "code",
   "execution_count": 33,
   "id": "75670028",
   "metadata": {},
   "outputs": [
    {
     "data": {
      "text/plain": [
       "array([0.63914027, 0.6873065 , 0.64809855, 0.67773167, 0.61255037])"
      ]
     },
     "execution_count": 33,
     "metadata": {},
     "output_type": "execute_result"
    }
   ],
   "source": [
    "cross_val_score(clf, treino_x, treino_y, cv=5, scoring='f1')"
   ]
  },
  {
   "cell_type": "code",
   "execution_count": 34,
   "id": "c53d95af",
   "metadata": {},
   "outputs": [
    {
     "data": {
      "text/plain": [
       "array([0.87664346, 0.8633024 , 0.87296984, 0.86482305, 0.86985109])"
      ]
     },
     "execution_count": 34,
     "metadata": {},
     "output_type": "execute_result"
    }
   ],
   "source": [
    "cross_val_score(clf, treino_x, treino_y, cv=5, scoring='accuracy')"
   ]
  },
  {
   "cell_type": "code",
   "execution_count": 35,
   "id": "298afa01",
   "metadata": {},
   "outputs": [
    {
     "data": {
      "text/plain": [
       "array([0.65499877, 0.67821966, 0.684838  , 0.66122924, 0.64428347])"
      ]
     },
     "execution_count": 35,
     "metadata": {},
     "output_type": "execute_result"
    }
   ],
   "source": [
    "cross_val_score(clf, treino_x, treino_y, cv=5, scoring='average_precision')"
   ]
  },
  {
   "cell_type": "code",
   "execution_count": 36,
   "id": "de8de3d3",
   "metadata": {},
   "outputs": [
    {
     "data": {
      "text/plain": [
       "array([0.8828125 , 0.68578994, 0.81867388, 0.70537428, 0.87213115])"
      ]
     },
     "execution_count": 36,
     "metadata": {},
     "output_type": "execute_result"
    }
   ],
   "source": [
    "cross_val_score(clf, treino_x, treino_y, cv=5, scoring='precision')"
   ]
  },
  {
   "cell_type": "code",
   "execution_count": 37,
   "id": "c9879585",
   "metadata": {},
   "outputs": [
    {
     "data": {
      "text/plain": [
       "array([0.50088652, 0.68882979, 0.53634752, 0.65217391, 0.47204969])"
      ]
     },
     "execution_count": 37,
     "metadata": {},
     "output_type": "execute_result"
    }
   ],
   "source": [
    "cross_val_score(clf, treino_x, treino_y, cv=5, scoring='recall')"
   ]
  },
  {
   "cell_type": "code",
   "execution_count": 38,
   "id": "85442195",
   "metadata": {},
   "outputs": [
    {
     "data": {
      "text/plain": [
       "array([0.79319123, 0.83580394, 0.82755053, 0.81512732, 0.78985606])"
      ]
     },
     "execution_count": 38,
     "metadata": {},
     "output_type": "execute_result"
    }
   ],
   "source": [
    "cross_val_score(clf, treino_x, treino_y, cv=5, scoring='roc_auc')"
   ]
  },
  {
   "cell_type": "code",
   "execution_count": 39,
   "id": "d3374b39",
   "metadata": {},
   "outputs": [
    {
     "data": {
      "image/png": "[encoded data removed]",
      "text/plain": [
       "<Figure size 432x288 with 1 Axes>"
      ]
     },
     "metadata": {
      "needs_background": "light"
     },
     "output_type": "display_data"
    }
   ],
   "source": [
    "clf_disp = RocCurveDisplay.from_estimator(clf, teste_x, teste_y)"
   ]
  },
  {
   "cell_type": "code",
   "execution_count": 40,
   "id": "de3046c8",
   "metadata": {},
   "outputs": [
    {
     "name": "stdout",
     "output_type": "stream",
     "text": [
      "[[6582  159]\n",
      " [ 949  930]]\n"
     ]
    }
   ],
   "source": [
    "print(confusion_matrix(teste_y, previsoes))"
   ]
  },
  {
   "cell_type": "code",
   "execution_count": null,
   "id": "ac1928f3",
   "metadata": {},
   "outputs": [],
   "source": []
  }
 ],
 "metadata": {
  "kernelspec": {
   "display_name": "Python 3 (ipykernel)",
   "language": "python",
   "name": "python3"
  },
  "language_info": {
   "codemirror_mode": {
    "name": "ipython",
    "version": 3
   },
   "file_extension": ".py",
   "mimetype": "text/x-python",
   "name": "python",
   "nbconvert_exporter": "python",
   "pygments_lexer": "ipython3",
   "version": "3.9.7"
  }
 },
 "nbformat": 4,
 "nbformat_minor": 5
}
