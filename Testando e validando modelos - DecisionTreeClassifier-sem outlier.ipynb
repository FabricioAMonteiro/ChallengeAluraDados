{
 "cells": [
  {
   "cell_type": "code",
   "execution_count": 1,
   "id": "9511cb13",
   "metadata": {},
   "outputs": [],
   "source": [
    "import pandas as pd\n",
    "import numpy as np"
   ]
  },
  {
   "cell_type": "code",
   "execution_count": 2,
   "id": "6eaed552",
   "metadata": {},
   "outputs": [
    {
     "data": {
      "text/html": [
       "<div>\n",
       "<style scoped>\n",
       "    .dataframe tbody tr th:only-of-type {\n",
       "        vertical-align: middle;\n",
       "    }\n",
       "\n",
       "    .dataframe tbody tr th {\n",
       "        vertical-align: top;\n",
       "    }\n",
       "\n",
       "    .dataframe thead th {\n",
       "        text-align: right;\n",
       "    }\n",
       "</style>\n",
       "<table border=\"1\" class=\"dataframe\">\n",
       "  <thead>\n",
       "    <tr style=\"text-align: right;\">\n",
       "      <th></th>\n",
       "      <th>id_cliente</th>\n",
       "      <th>id_emprestimo</th>\n",
       "      <th>id_historico</th>\n",
       "      <th>tipo_imovel</th>\n",
       "      <th>motivo_emprestimo</th>\n",
       "      <th>grupo</th>\n",
       "      <th>idade</th>\n",
       "      <th>salario</th>\n",
       "      <th>tempo_trabalhando</th>\n",
       "      <th>valor_emprestimo</th>\n",
       "      <th>juros</th>\n",
       "      <th>emp_sal</th>\n",
       "      <th>tempo_cliente</th>\n",
       "      <th>INADIMPLENCIA</th>\n",
       "      <th>RISCO_INADIMPLENCIA</th>\n",
       "    </tr>\n",
       "  </thead>\n",
       "  <tbody>\n",
       "    <tr>\n",
       "      <th>0</th>\n",
       "      <td>AspC7qDK-5Esh</td>\n",
       "      <td>kZHfWgGv-0dWJ</td>\n",
       "      <td>UwfbzeaW-9tQt</td>\n",
       "      <td>alugado</td>\n",
       "      <td>ensino</td>\n",
       "      <td>B</td>\n",
       "      <td>21</td>\n",
       "      <td>60000</td>\n",
       "      <td>2</td>\n",
       "      <td>8000</td>\n",
       "      <td>11.26</td>\n",
       "      <td>0.13</td>\n",
       "      <td>3</td>\n",
       "      <td>0.0</td>\n",
       "      <td>0</td>\n",
       "    </tr>\n",
       "    <tr>\n",
       "      <th>1</th>\n",
       "      <td>2NjYU2iT-fGSm</td>\n",
       "      <td>j7elJxsY-eTEQ</td>\n",
       "      <td>viRQ2WYn-yJ2G</td>\n",
       "      <td>financiado</td>\n",
       "      <td>ensino</td>\n",
       "      <td>A</td>\n",
       "      <td>40</td>\n",
       "      <td>70000</td>\n",
       "      <td>6</td>\n",
       "      <td>18000</td>\n",
       "      <td>7.90</td>\n",
       "      <td>0.26</td>\n",
       "      <td>14</td>\n",
       "      <td>0.0</td>\n",
       "      <td>0</td>\n",
       "    </tr>\n",
       "    <tr>\n",
       "      <th>2</th>\n",
       "      <td>nTOKgZCT-YPUD</td>\n",
       "      <td>t9dKvc6a-4eAL</td>\n",
       "      <td>IEHObaim-KPC9</td>\n",
       "      <td>financiado</td>\n",
       "      <td>saude</td>\n",
       "      <td>C</td>\n",
       "      <td>29</td>\n",
       "      <td>115000</td>\n",
       "      <td>3</td>\n",
       "      <td>22000</td>\n",
       "      <td>15.23</td>\n",
       "      <td>0.19</td>\n",
       "      <td>7</td>\n",
       "      <td>1.0</td>\n",
       "      <td>0</td>\n",
       "    </tr>\n",
       "    <tr>\n",
       "      <th>3</th>\n",
       "      <td>J3jGNZeh-OzZE</td>\n",
       "      <td>NaelpPC5-t2kz</td>\n",
       "      <td>GvqL52S8-S8OH</td>\n",
       "      <td>alugado</td>\n",
       "      <td>saude</td>\n",
       "      <td>B</td>\n",
       "      <td>26</td>\n",
       "      <td>84996</td>\n",
       "      <td>0</td>\n",
       "      <td>9000</td>\n",
       "      <td>11.26</td>\n",
       "      <td>0.11</td>\n",
       "      <td>2</td>\n",
       "      <td>0.0</td>\n",
       "      <td>0</td>\n",
       "    </tr>\n",
       "    <tr>\n",
       "      <th>4</th>\n",
       "      <td>OQXEoNPl-hL0f</td>\n",
       "      <td>QxdBboWP-KKFh</td>\n",
       "      <td>Ue0IMCKa-d0AQ</td>\n",
       "      <td>proprio</td>\n",
       "      <td>ensino</td>\n",
       "      <td>A</td>\n",
       "      <td>23</td>\n",
       "      <td>24000</td>\n",
       "      <td>7</td>\n",
       "      <td>5000</td>\n",
       "      <td>7.49</td>\n",
       "      <td>0.21</td>\n",
       "      <td>2</td>\n",
       "      <td>0.0</td>\n",
       "      <td>0</td>\n",
       "    </tr>\n",
       "    <tr>\n",
       "      <th>...</th>\n",
       "      <td>...</td>\n",
       "      <td>...</td>\n",
       "      <td>...</td>\n",
       "      <td>...</td>\n",
       "      <td>...</td>\n",
       "      <td>...</td>\n",
       "      <td>...</td>\n",
       "      <td>...</td>\n",
       "      <td>...</td>\n",
       "      <td>...</td>\n",
       "      <td>...</td>\n",
       "      <td>...</td>\n",
       "      <td>...</td>\n",
       "      <td>...</td>\n",
       "      <td>...</td>\n",
       "    </tr>\n",
       "    <tr>\n",
       "      <th>27121</th>\n",
       "      <td>5RR3r0UI-zEcL</td>\n",
       "      <td>0sz5yOJO-BqcR</td>\n",
       "      <td>HeNCM6HW-srAM</td>\n",
       "      <td>financiado</td>\n",
       "      <td>reforma</td>\n",
       "      <td>E</td>\n",
       "      <td>24</td>\n",
       "      <td>69000</td>\n",
       "      <td>7</td>\n",
       "      <td>5200</td>\n",
       "      <td>17.19</td>\n",
       "      <td>0.08</td>\n",
       "      <td>2</td>\n",
       "      <td>0.0</td>\n",
       "      <td>0</td>\n",
       "    </tr>\n",
       "    <tr>\n",
       "      <th>27122</th>\n",
       "      <td>5PYYQrGb-kL7i</td>\n",
       "      <td>eKFBKFUg-EPMg</td>\n",
       "      <td>Y5h04JQz-UlnH</td>\n",
       "      <td>alugado</td>\n",
       "      <td>ensino</td>\n",
       "      <td>B</td>\n",
       "      <td>22</td>\n",
       "      <td>28800</td>\n",
       "      <td>6</td>\n",
       "      <td>8000</td>\n",
       "      <td>11.49</td>\n",
       "      <td>0.28</td>\n",
       "      <td>2</td>\n",
       "      <td>0.0</td>\n",
       "      <td>0</td>\n",
       "    </tr>\n",
       "    <tr>\n",
       "      <th>27123</th>\n",
       "      <td>ezodwdzy-IgP3</td>\n",
       "      <td>Z0OQkNXo-noen</td>\n",
       "      <td>W6NpiRzO-8o5z</td>\n",
       "      <td>financiado</td>\n",
       "      <td>quitar</td>\n",
       "      <td>A</td>\n",
       "      <td>27</td>\n",
       "      <td>39600</td>\n",
       "      <td>11</td>\n",
       "      <td>4800</td>\n",
       "      <td>6.76</td>\n",
       "      <td>0.12</td>\n",
       "      <td>9</td>\n",
       "      <td>0.0</td>\n",
       "      <td>0</td>\n",
       "    </tr>\n",
       "    <tr>\n",
       "      <th>27124</th>\n",
       "      <td>zcvLEBEd-JHhI</td>\n",
       "      <td>EtCzqy1B-QYEL</td>\n",
       "      <td>3fcjJLaj-Bkio</td>\n",
       "      <td>financiado</td>\n",
       "      <td>saude</td>\n",
       "      <td>C</td>\n",
       "      <td>30</td>\n",
       "      <td>39996</td>\n",
       "      <td>8</td>\n",
       "      <td>10000</td>\n",
       "      <td>12.73</td>\n",
       "      <td>0.25</td>\n",
       "      <td>6</td>\n",
       "      <td>0.0</td>\n",
       "      <td>0</td>\n",
       "    </tr>\n",
       "    <tr>\n",
       "      <th>27125</th>\n",
       "      <td>zHG1040U-BAsd</td>\n",
       "      <td>Jb3kZcsS-4i5B</td>\n",
       "      <td>zoPPIv63-aGvX</td>\n",
       "      <td>alugado</td>\n",
       "      <td>ensino</td>\n",
       "      <td>B</td>\n",
       "      <td>26</td>\n",
       "      <td>54996</td>\n",
       "      <td>8</td>\n",
       "      <td>20000</td>\n",
       "      <td>12.18</td>\n",
       "      <td>0.36</td>\n",
       "      <td>4</td>\n",
       "      <td>0.0</td>\n",
       "      <td>1</td>\n",
       "    </tr>\n",
       "  </tbody>\n",
       "</table>\n",
       "<p>27126 rows × 15 columns</p>\n",
       "</div>"
      ],
      "text/plain": [
       "          id_cliente  id_emprestimo   id_historico tipo_imovel  \\\n",
       "0      AspC7qDK-5Esh  kZHfWgGv-0dWJ  UwfbzeaW-9tQt     alugado   \n",
       "1      2NjYU2iT-fGSm  j7elJxsY-eTEQ  viRQ2WYn-yJ2G  financiado   \n",
       "2      nTOKgZCT-YPUD  t9dKvc6a-4eAL  IEHObaim-KPC9  financiado   \n",
       "3      J3jGNZeh-OzZE  NaelpPC5-t2kz  GvqL52S8-S8OH     alugado   \n",
       "4      OQXEoNPl-hL0f  QxdBboWP-KKFh  Ue0IMCKa-d0AQ     proprio   \n",
       "...              ...            ...            ...         ...   \n",
       "27121  5RR3r0UI-zEcL  0sz5yOJO-BqcR  HeNCM6HW-srAM  financiado   \n",
       "27122  5PYYQrGb-kL7i  eKFBKFUg-EPMg  Y5h04JQz-UlnH     alugado   \n",
       "27123  ezodwdzy-IgP3  Z0OQkNXo-noen  W6NpiRzO-8o5z  financiado   \n",
       "27124  zcvLEBEd-JHhI  EtCzqy1B-QYEL  3fcjJLaj-Bkio  financiado   \n",
       "27125  zHG1040U-BAsd  Jb3kZcsS-4i5B  zoPPIv63-aGvX     alugado   \n",
       "\n",
       "      motivo_emprestimo grupo  idade  salario  tempo_trabalhando  \\\n",
       "0                ensino     B     21    60000                  2   \n",
       "1                ensino     A     40    70000                  6   \n",
       "2                 saude     C     29   115000                  3   \n",
       "3                 saude     B     26    84996                  0   \n",
       "4                ensino     A     23    24000                  7   \n",
       "...                 ...   ...    ...      ...                ...   \n",
       "27121           reforma     E     24    69000                  7   \n",
       "27122            ensino     B     22    28800                  6   \n",
       "27123            quitar     A     27    39600                 11   \n",
       "27124             saude     C     30    39996                  8   \n",
       "27125            ensino     B     26    54996                  8   \n",
       "\n",
       "       valor_emprestimo  juros  emp_sal  tempo_cliente  INADIMPLENCIA  \\\n",
       "0                  8000  11.26     0.13              3            0.0   \n",
       "1                 18000   7.90     0.26             14            0.0   \n",
       "2                 22000  15.23     0.19              7            1.0   \n",
       "3                  9000  11.26     0.11              2            0.0   \n",
       "4                  5000   7.49     0.21              2            0.0   \n",
       "...                 ...    ...      ...            ...            ...   \n",
       "27121              5200  17.19     0.08              2            0.0   \n",
       "27122              8000  11.49     0.28              2            0.0   \n",
       "27123              4800   6.76     0.12              9            0.0   \n",
       "27124             10000  12.73     0.25              6            0.0   \n",
       "27125             20000  12.18     0.36              4            0.0   \n",
       "\n",
       "       RISCO_INADIMPLENCIA  \n",
       "0                        0  \n",
       "1                        0  \n",
       "2                        0  \n",
       "3                        0  \n",
       "4                        0  \n",
       "...                    ...  \n",
       "27121                    0  \n",
       "27122                    0  \n",
       "27123                    0  \n",
       "27124                    0  \n",
       "27125                    1  \n",
       "\n",
       "[27126 rows x 15 columns]"
      ]
     },
     "execution_count": 2,
     "metadata": {},
     "output_type": "execute_result"
    }
   ],
   "source": [
    "dados = pd.read_csv('dados_alura_sem_null_sem_outlier.csv')\n",
    "dados"
   ]
  },
  {
   "cell_type": "markdown",
   "id": "98711e37",
   "metadata": {},
   "source": [
    "## Testando apenas com os dados numéricos"
   ]
  },
  {
   "cell_type": "code",
   "execution_count": 44,
   "id": "37d0606b",
   "metadata": {},
   "outputs": [],
   "source": [
    "def imprime_resultados(results):\n",
    "  media = results['test_score'].mean()\n",
    "  desvio_padrao = results['test_score'].std()\n",
    "  print(\"Accuracy médio: %.2f\" % (media * 100))\n",
    "  print(\"Accuracy intervalo: [%.2f, %.2f]\" % ((media - 2 * desvio_padrao)*100, (media + 2 * desvio_padrao) * 100))"
   ]
  },
  {
   "cell_type": "code",
   "execution_count": 3,
   "id": "130ba3bb",
   "metadata": {},
   "outputs": [
    {
     "name": "stdout",
     "output_type": "stream",
     "text": [
      "Treinaremos com 20344 elementos e testaremos com 6782 elementos\n",
      "A acurácia do dummy classifier foi 79.09%\n"
     ]
    }
   ],
   "source": [
    "from sklearn.model_selection import train_test_split\n",
    "from sklearn.dummy import DummyClassifier\n",
    "from sklearn.metrics import accuracy_score\n",
    "\n",
    "x = dados[['idade', 'salario', 'tempo_trabalhando', 'valor_emprestimo', 'juros', 'emp_sal', 'tempo_cliente', 'INADIMPLENCIA']]\n",
    "y = dados['RISCO_INADIMPLENCIA']\n",
    "SEED = 1\n",
    "np.random.seed(SEED)\n",
    "\n",
    "treino_x, teste_x, treino_y, teste_y = train_test_split(x, y, test_size = 0.25, stratify = y)\n",
    "dummy_clf = DummyClassifier()\n",
    "dummy_clf.fit(treino_x, treino_y)\n",
    "acuracia = dummy_clf.score(teste_x, teste_y) * 100\n",
    "print(\"Treinaremos com %d elementos e testaremos com %d elementos\" % (len(treino_x), len(teste_y)))\n",
    "print(\"A acurácia do dummy classifier foi %.2f%%\" % acuracia)"
   ]
  },
  {
   "cell_type": "code",
   "execution_count": 4,
   "id": "39df6d57",
   "metadata": {},
   "outputs": [
    {
     "name": "stdout",
     "output_type": "stream",
     "text": [
      "A acurácia foi 85.80%\n"
     ]
    }
   ],
   "source": [
    "from sklearn import tree\n",
    "clf = tree.DecisionTreeClassifier(max_depth=3)\n",
    "clf = clf.fit(treino_x, treino_y)\n",
    "previsoes = clf.predict(teste_x)\n",
    "\n",
    "acuracia = accuracy_score(teste_y, previsoes) * 100\n",
    "print(\"A acurácia foi %.2f%%\" % acuracia)"
   ]
  },
  {
   "cell_type": "code",
   "execution_count": 5,
   "id": "2d939011",
   "metadata": {},
   "outputs": [
    {
     "data": {
      "image/png": "[encoded data removed]",
      "text/plain": [
       "<Figure size 1152x720 with 1 Axes>"
      ]
     },
     "metadata": {
      "needs_background": "light"
     },
     "output_type": "display_data"
    }
   ],
   "source": [
    "import matplotlib.pyplot as plt\n",
    "plt.figure(figsize=(16,10))  \n",
    "tree.plot_tree(clf, feature_names=['idade', 'salario', 'tempo_trabalhando', 'valor_emprestimo', 'juros',\n",
    "       'emp_sal', 'tempo_cliente', 'INADIMPLENCIA'], fontsize=10)\n",
    "plt.show()"
   ]
  },
  {
   "cell_type": "code",
   "execution_count": 6,
   "id": "b82da7be",
   "metadata": {},
   "outputs": [
    {
     "name": "stdout",
     "output_type": "stream",
     "text": [
      "Accuracy com cross validation, cv = 5 = [85.26, 86.57]\n"
     ]
    }
   ],
   "source": [
    "from sklearn.model_selection import cross_validate\n",
    "modelo = tree.DecisionTreeClassifier(max_depth=3)\n",
    "results = cross_validate(modelo, x, y, cv = 5, return_train_score=False)\n",
    "media = results['test_score'].mean()\n",
    "desvio_padrao = results['test_score'].std()\n",
    "print(\"Accuracy com cross validation, cv = 5 = [%.2f, %.2f]\" % ((media - 2 * desvio_padrao)*100, (media + 2 * desvio_padrao) * 100))"
   ]
  },
  {
   "cell_type": "code",
   "execution_count": 42,
   "id": "486c849d",
   "metadata": {},
   "outputs": [
    {
     "name": "stdout",
     "output_type": "stream",
     "text": [
      "Accuracy com cross validation, cv = 5 = [87.51, 88.22]\n"
     ]
    }
   ],
   "source": [
    "from sklearn.model_selection import cross_val_score\n",
    "clf = tree.DecisionTreeClassifier(max_depth=3)\n",
    "clf = clf.fit(treino_x, treino_y)\n",
    "previsoes = clf.predict(teste_x)\n",
    "media = cross_val_score(clf, treino_x, treino_y, cv=5).mean()\n",
    "desvio_padrao = cross_val_score(clf, treino_x, treino_y, cv=5).std()\n",
    "print(\"Accuracy com cross validation, cv = 5 = [%.2f, %.2f]\" % ((media - 2 * desvio_padrao)*100, (media + 2 * desvio_padrao) * 100))"
   ]
  },
  {
   "cell_type": "code",
   "execution_count": 45,
   "id": "22f576d0",
   "metadata": {},
   "outputs": [
    {
     "name": "stdout",
     "output_type": "stream",
     "text": [
      "Accuracy médio: 87.90\n",
      "Accuracy intervalo: [86.53, 89.27]\n"
     ]
    }
   ],
   "source": [
    "imprime_resultados(results)"
   ]
  },
  {
   "cell_type": "code",
   "execution_count": 8,
   "id": "cea445d9",
   "metadata": {},
   "outputs": [
    {
     "data": {
      "text/plain": [
       "{'fit_time': array([0.03586912, 0.0289228 , 0.02978683, 0.02692914, 0.02217293]),\n",
       " 'score_time': array([0.00420022, 0.00198841, 0.00306034, 0.00199413, 0.00170422]),\n",
       " 'test_score': array([0.85698489, 0.86506912, 0.85898618, 0.85917051, 0.85548387])}"
      ]
     },
     "execution_count": 8,
     "metadata": {},
     "output_type": "execute_result"
    }
   ],
   "source": [
    "cross_validate(modelo, x, y, cv = 5)"
   ]
  },
  {
   "cell_type": "code",
   "execution_count": 9,
   "id": "ac765fcf",
   "metadata": {},
   "outputs": [
    {
     "data": {
      "text/plain": [
       "array([0.8589334 , 0.85819612, 0.86040796, 0.86778078, 0.85029499])"
      ]
     },
     "execution_count": 9,
     "metadata": {},
     "output_type": "execute_result"
    }
   ],
   "source": [
    "cross_val_score(clf, treino_x, treino_y, cv=5)"
   ]
  },
  {
   "cell_type": "code",
   "execution_count": 10,
   "id": "36f00767",
   "metadata": {},
   "outputs": [
    {
     "data": {
      "text/plain": [
       "array([0.62871928, 0.6109238 , 0.61621622, 0.63301501, 0.59481038])"
      ]
     },
     "execution_count": 10,
     "metadata": {},
     "output_type": "execute_result"
    }
   ],
   "source": [
    "cross_val_score(clf, treino_x, treino_y, cv=5, scoring='f1')"
   ]
  },
  {
   "cell_type": "code",
   "execution_count": 11,
   "id": "ea144d34",
   "metadata": {},
   "outputs": [
    {
     "data": {
      "text/plain": [
       "array([0.8589334 , 0.85819612, 0.86040796, 0.86778078, 0.85029499])"
      ]
     },
     "execution_count": 11,
     "metadata": {},
     "output_type": "execute_result"
    }
   ],
   "source": [
    "cross_val_score(clf, treino_x, treino_y, cv=5, scoring='accuracy')"
   ]
  },
  {
   "cell_type": "code",
   "execution_count": 12,
   "id": "6bd9a733",
   "metadata": {},
   "outputs": [
    {
     "data": {
      "text/plain": [
       "array([0.59624019, 0.57667174, 0.58531485, 0.61464403, 0.557283  ])"
      ]
     },
     "execution_count": 12,
     "metadata": {},
     "output_type": "execute_result"
    }
   ],
   "source": [
    "cross_val_score(clf, treino_x, treino_y, cv=5, scoring='average_precision')"
   ]
  },
  {
   "cell_type": "code",
   "execution_count": 13,
   "id": "b19207aa",
   "metadata": {},
   "outputs": [
    {
     "data": {
      "text/plain": [
       "array([0.69928058, 0.71677215, 0.72380952, 0.75324675, 0.68453292])"
      ]
     },
     "execution_count": 13,
     "metadata": {},
     "output_type": "execute_result"
    }
   ],
   "source": [
    "cross_val_score(clf, treino_x, treino_y, cv=5, scoring='precision')"
   ]
  },
  {
   "cell_type": "code",
   "execution_count": 14,
   "id": "6a2cf59e",
   "metadata": {},
   "outputs": [
    {
     "data": {
      "text/plain": [
       "array([0.57109283, 0.53231492, 0.53647059, 0.54588235, 0.52588235])"
      ]
     },
     "execution_count": 14,
     "metadata": {},
     "output_type": "execute_result"
    }
   ],
   "source": [
    "cross_val_score(clf, treino_x, treino_y, cv=5, scoring='recall')"
   ]
  },
  {
   "cell_type": "code",
   "execution_count": 15,
   "id": "02ec4055",
   "metadata": {},
   "outputs": [
    {
     "data": {
      "text/plain": [
       "array([0.81573026, 0.82029788, 0.81947517, 0.83213749, 0.79906043])"
      ]
     },
     "execution_count": 15,
     "metadata": {},
     "output_type": "execute_result"
    }
   ],
   "source": [
    "cross_val_score(clf, treino_x, treino_y, cv=5, scoring='roc_auc')"
   ]
  },
  {
   "cell_type": "code",
   "execution_count": 16,
   "id": "f1350b03",
   "metadata": {},
   "outputs": [
    {
     "data": {
      "image/png": "[encoded data removed]",
      "text/plain": [
       "<Figure size 432x288 with 1 Axes>"
      ]
     },
     "metadata": {
      "needs_background": "light"
     },
     "output_type": "display_data"
    }
   ],
   "source": [
    "from sklearn.metrics import RocCurveDisplay\n",
    "clf_disp = RocCurveDisplay.from_estimator(clf, teste_x, teste_y)"
   ]
  },
  {
   "cell_type": "code",
   "execution_count": 17,
   "id": "e0b0cd29",
   "metadata": {},
   "outputs": [
    {
     "name": "stdout",
     "output_type": "stream",
     "text": [
      "[[5114  250]\n",
      " [ 713  705]]\n"
     ]
    }
   ],
   "source": [
    "from sklearn.metrics import confusion_matrix\n",
    "print(confusion_matrix(teste_y, previsoes))"
   ]
  },
  {
   "cell_type": "code",
   "execution_count": 18,
   "id": "eabe3734",
   "metadata": {},
   "outputs": [
    {
     "name": "stdout",
     "output_type": "stream",
     "text": [
      "Accuracy com cross validation, 10 = [85.20, 86.64]\n"
     ]
    }
   ],
   "source": [
    "from sklearn.model_selection import KFold\n",
    "\n",
    "SEED = 301\n",
    "np.random.seed(SEED)\n",
    "\n",
    "cv = KFold(n_splits = 10)\n",
    "modelo = tree.DecisionTreeClassifier(max_depth=3)\n",
    "results = cross_validate(modelo, x, y, cv = cv, return_train_score=False)\n",
    "media = results['test_score'].mean()\n",
    "desvio_padrao = results['test_score'].std()* desvio_padrao * 100\n",
    "print(\"Accuracy com cross validation, 10 = [%.2f, %.2f]\" % ((media - 2 * desvio_padrao)*100, (media + 2 * desvio_padrao) * 100))"
   ]
  },
  {
   "cell_type": "code",
   "execution_count": 39,
   "id": "27981f98",
   "metadata": {},
   "outputs": [
    {
     "name": "stdout",
     "output_type": "stream",
     "text": [
      "Accuracy com cross validation, 10 = [87.66, 88.14]\n"
     ]
    }
   ],
   "source": [
    "from sklearn.model_selection import KFold\n",
    "\n",
    "SEED = 301\n",
    "np.random.seed(SEED)\n",
    "\n",
    "cv = KFold(n_splits = 10, shuffle=True)\n",
    "modelo = tree.DecisionTreeClassifier(max_depth=3)\n",
    "results = cross_validate(modelo, x, y, cv = cv, return_train_score=False)\n",
    "media = results['test_score'].mean()\n",
    "desvio_padrao = results['test_score'].std()* desvio_padrao * 100\n",
    "print(\"Accuracy com cross validation, 10 = [%.2f, %.2f]\" % ((media - 2 * desvio_padrao)*100, (media + 2 * desvio_padrao) * 100))"
   ]
  },
  {
   "cell_type": "markdown",
   "id": "b1fc2469",
   "metadata": {},
   "source": [
    "## Agora transformando os dados categóricos"
   ]
  },
  {
   "cell_type": "code",
   "execution_count": 19,
   "id": "9921fe1a",
   "metadata": {},
   "outputs": [
    {
     "data": {
      "text/html": [
       "<div>\n",
       "<style scoped>\n",
       "    .dataframe tbody tr th:only-of-type {\n",
       "        vertical-align: middle;\n",
       "    }\n",
       "\n",
       "    .dataframe tbody tr th {\n",
       "        vertical-align: top;\n",
       "    }\n",
       "\n",
       "    .dataframe thead th {\n",
       "        text-align: right;\n",
       "    }\n",
       "</style>\n",
       "<table border=\"1\" class=\"dataframe\">\n",
       "  <thead>\n",
       "    <tr style=\"text-align: right;\">\n",
       "      <th></th>\n",
       "      <th>tipo_imovel_alugado</th>\n",
       "      <th>tipo_imovel_financiado</th>\n",
       "      <th>tipo_imovel_outro</th>\n",
       "      <th>tipo_imovel_proprio</th>\n",
       "      <th>motivo_emprestimo_ensino</th>\n",
       "      <th>motivo_emprestimo_pessoal</th>\n",
       "      <th>motivo_emprestimo_quitar</th>\n",
       "      <th>motivo_emprestimo_reforma</th>\n",
       "      <th>motivo_emprestimo_risco</th>\n",
       "      <th>motivo_emprestimo_saude</th>\n",
       "      <th>grupo_A</th>\n",
       "      <th>grupo_B</th>\n",
       "      <th>grupo_C</th>\n",
       "      <th>grupo_D</th>\n",
       "      <th>grupo_E</th>\n",
       "      <th>grupo_F</th>\n",
       "      <th>grupo_G</th>\n",
       "    </tr>\n",
       "  </thead>\n",
       "  <tbody>\n",
       "    <tr>\n",
       "      <th>0</th>\n",
       "      <td>1</td>\n",
       "      <td>0</td>\n",
       "      <td>0</td>\n",
       "      <td>0</td>\n",
       "      <td>1</td>\n",
       "      <td>0</td>\n",
       "      <td>0</td>\n",
       "      <td>0</td>\n",
       "      <td>0</td>\n",
       "      <td>0</td>\n",
       "      <td>0</td>\n",
       "      <td>1</td>\n",
       "      <td>0</td>\n",
       "      <td>0</td>\n",
       "      <td>0</td>\n",
       "      <td>0</td>\n",
       "      <td>0</td>\n",
       "    </tr>\n",
       "    <tr>\n",
       "      <th>1</th>\n",
       "      <td>0</td>\n",
       "      <td>1</td>\n",
       "      <td>0</td>\n",
       "      <td>0</td>\n",
       "      <td>1</td>\n",
       "      <td>0</td>\n",
       "      <td>0</td>\n",
       "      <td>0</td>\n",
       "      <td>0</td>\n",
       "      <td>0</td>\n",
       "      <td>1</td>\n",
       "      <td>0</td>\n",
       "      <td>0</td>\n",
       "      <td>0</td>\n",
       "      <td>0</td>\n",
       "      <td>0</td>\n",
       "      <td>0</td>\n",
       "    </tr>\n",
       "    <tr>\n",
       "      <th>2</th>\n",
       "      <td>0</td>\n",
       "      <td>1</td>\n",
       "      <td>0</td>\n",
       "      <td>0</td>\n",
       "      <td>0</td>\n",
       "      <td>0</td>\n",
       "      <td>0</td>\n",
       "      <td>0</td>\n",
       "      <td>0</td>\n",
       "      <td>1</td>\n",
       "      <td>0</td>\n",
       "      <td>0</td>\n",
       "      <td>1</td>\n",
       "      <td>0</td>\n",
       "      <td>0</td>\n",
       "      <td>0</td>\n",
       "      <td>0</td>\n",
       "    </tr>\n",
       "    <tr>\n",
       "      <th>3</th>\n",
       "      <td>1</td>\n",
       "      <td>0</td>\n",
       "      <td>0</td>\n",
       "      <td>0</td>\n",
       "      <td>0</td>\n",
       "      <td>0</td>\n",
       "      <td>0</td>\n",
       "      <td>0</td>\n",
       "      <td>0</td>\n",
       "      <td>1</td>\n",
       "      <td>0</td>\n",
       "      <td>1</td>\n",
       "      <td>0</td>\n",
       "      <td>0</td>\n",
       "      <td>0</td>\n",
       "      <td>0</td>\n",
       "      <td>0</td>\n",
       "    </tr>\n",
       "    <tr>\n",
       "      <th>4</th>\n",
       "      <td>0</td>\n",
       "      <td>0</td>\n",
       "      <td>0</td>\n",
       "      <td>1</td>\n",
       "      <td>1</td>\n",
       "      <td>0</td>\n",
       "      <td>0</td>\n",
       "      <td>0</td>\n",
       "      <td>0</td>\n",
       "      <td>0</td>\n",
       "      <td>1</td>\n",
       "      <td>0</td>\n",
       "      <td>0</td>\n",
       "      <td>0</td>\n",
       "      <td>0</td>\n",
       "      <td>0</td>\n",
       "      <td>0</td>\n",
       "    </tr>\n",
       "    <tr>\n",
       "      <th>...</th>\n",
       "      <td>...</td>\n",
       "      <td>...</td>\n",
       "      <td>...</td>\n",
       "      <td>...</td>\n",
       "      <td>...</td>\n",
       "      <td>...</td>\n",
       "      <td>...</td>\n",
       "      <td>...</td>\n",
       "      <td>...</td>\n",
       "      <td>...</td>\n",
       "      <td>...</td>\n",
       "      <td>...</td>\n",
       "      <td>...</td>\n",
       "      <td>...</td>\n",
       "      <td>...</td>\n",
       "      <td>...</td>\n",
       "      <td>...</td>\n",
       "    </tr>\n",
       "    <tr>\n",
       "      <th>27121</th>\n",
       "      <td>0</td>\n",
       "      <td>1</td>\n",
       "      <td>0</td>\n",
       "      <td>0</td>\n",
       "      <td>0</td>\n",
       "      <td>0</td>\n",
       "      <td>0</td>\n",
       "      <td>1</td>\n",
       "      <td>0</td>\n",
       "      <td>0</td>\n",
       "      <td>0</td>\n",
       "      <td>0</td>\n",
       "      <td>0</td>\n",
       "      <td>0</td>\n",
       "      <td>1</td>\n",
       "      <td>0</td>\n",
       "      <td>0</td>\n",
       "    </tr>\n",
       "    <tr>\n",
       "      <th>27122</th>\n",
       "      <td>1</td>\n",
       "      <td>0</td>\n",
       "      <td>0</td>\n",
       "      <td>0</td>\n",
       "      <td>1</td>\n",
       "      <td>0</td>\n",
       "      <td>0</td>\n",
       "      <td>0</td>\n",
       "      <td>0</td>\n",
       "      <td>0</td>\n",
       "      <td>0</td>\n",
       "      <td>1</td>\n",
       "      <td>0</td>\n",
       "      <td>0</td>\n",
       "      <td>0</td>\n",
       "      <td>0</td>\n",
       "      <td>0</td>\n",
       "    </tr>\n",
       "    <tr>\n",
       "      <th>27123</th>\n",
       "      <td>0</td>\n",
       "      <td>1</td>\n",
       "      <td>0</td>\n",
       "      <td>0</td>\n",
       "      <td>0</td>\n",
       "      <td>0</td>\n",
       "      <td>1</td>\n",
       "      <td>0</td>\n",
       "      <td>0</td>\n",
       "      <td>0</td>\n",
       "      <td>1</td>\n",
       "      <td>0</td>\n",
       "      <td>0</td>\n",
       "      <td>0</td>\n",
       "      <td>0</td>\n",
       "      <td>0</td>\n",
       "      <td>0</td>\n",
       "    </tr>\n",
       "    <tr>\n",
       "      <th>27124</th>\n",
       "      <td>0</td>\n",
       "      <td>1</td>\n",
       "      <td>0</td>\n",
       "      <td>0</td>\n",
       "      <td>0</td>\n",
       "      <td>0</td>\n",
       "      <td>0</td>\n",
       "      <td>0</td>\n",
       "      <td>0</td>\n",
       "      <td>1</td>\n",
       "      <td>0</td>\n",
       "      <td>0</td>\n",
       "      <td>1</td>\n",
       "      <td>0</td>\n",
       "      <td>0</td>\n",
       "      <td>0</td>\n",
       "      <td>0</td>\n",
       "    </tr>\n",
       "    <tr>\n",
       "      <th>27125</th>\n",
       "      <td>1</td>\n",
       "      <td>0</td>\n",
       "      <td>0</td>\n",
       "      <td>0</td>\n",
       "      <td>1</td>\n",
       "      <td>0</td>\n",
       "      <td>0</td>\n",
       "      <td>0</td>\n",
       "      <td>0</td>\n",
       "      <td>0</td>\n",
       "      <td>0</td>\n",
       "      <td>1</td>\n",
       "      <td>0</td>\n",
       "      <td>0</td>\n",
       "      <td>0</td>\n",
       "      <td>0</td>\n",
       "      <td>0</td>\n",
       "    </tr>\n",
       "  </tbody>\n",
       "</table>\n",
       "<p>27126 rows × 17 columns</p>\n",
       "</div>"
      ],
      "text/plain": [
       "       tipo_imovel_alugado  tipo_imovel_financiado  tipo_imovel_outro  \\\n",
       "0                        1                       0                  0   \n",
       "1                        0                       1                  0   \n",
       "2                        0                       1                  0   \n",
       "3                        1                       0                  0   \n",
       "4                        0                       0                  0   \n",
       "...                    ...                     ...                ...   \n",
       "27121                    0                       1                  0   \n",
       "27122                    1                       0                  0   \n",
       "27123                    0                       1                  0   \n",
       "27124                    0                       1                  0   \n",
       "27125                    1                       0                  0   \n",
       "\n",
       "       tipo_imovel_proprio  motivo_emprestimo_ensino  \\\n",
       "0                        0                         1   \n",
       "1                        0                         1   \n",
       "2                        0                         0   \n",
       "3                        0                         0   \n",
       "4                        1                         1   \n",
       "...                    ...                       ...   \n",
       "27121                    0                         0   \n",
       "27122                    0                         1   \n",
       "27123                    0                         0   \n",
       "27124                    0                         0   \n",
       "27125                    0                         1   \n",
       "\n",
       "       motivo_emprestimo_pessoal  motivo_emprestimo_quitar  \\\n",
       "0                              0                         0   \n",
       "1                              0                         0   \n",
       "2                              0                         0   \n",
       "3                              0                         0   \n",
       "4                              0                         0   \n",
       "...                          ...                       ...   \n",
       "27121                          0                         0   \n",
       "27122                          0                         0   \n",
       "27123                          0                         1   \n",
       "27124                          0                         0   \n",
       "27125                          0                         0   \n",
       "\n",
       "       motivo_emprestimo_reforma  motivo_emprestimo_risco  \\\n",
       "0                              0                        0   \n",
       "1                              0                        0   \n",
       "2                              0                        0   \n",
       "3                              0                        0   \n",
       "4                              0                        0   \n",
       "...                          ...                      ...   \n",
       "27121                          1                        0   \n",
       "27122                          0                        0   \n",
       "27123                          0                        0   \n",
       "27124                          0                        0   \n",
       "27125                          0                        0   \n",
       "\n",
       "       motivo_emprestimo_saude  grupo_A  grupo_B  grupo_C  grupo_D  grupo_E  \\\n",
       "0                            0        0        1        0        0        0   \n",
       "1                            0        1        0        0        0        0   \n",
       "2                            1        0        0        1        0        0   \n",
       "3                            1        0        1        0        0        0   \n",
       "4                            0        1        0        0        0        0   \n",
       "...                        ...      ...      ...      ...      ...      ...   \n",
       "27121                        0        0        0        0        0        1   \n",
       "27122                        0        0        1        0        0        0   \n",
       "27123                        0        1        0        0        0        0   \n",
       "27124                        1        0        0        1        0        0   \n",
       "27125                        0        0        1        0        0        0   \n",
       "\n",
       "       grupo_F  grupo_G  \n",
       "0            0        0  \n",
       "1            0        0  \n",
       "2            0        0  \n",
       "3            0        0  \n",
       "4            0        0  \n",
       "...        ...      ...  \n",
       "27121        0        0  \n",
       "27122        0        0  \n",
       "27123        0        0  \n",
       "27124        0        0  \n",
       "27125        0        0  \n",
       "\n",
       "[27126 rows x 17 columns]"
      ]
     },
     "execution_count": 19,
     "metadata": {},
     "output_type": "execute_result"
    }
   ],
   "source": [
    "df_dummies = pd.get_dummies(dados.drop(['id_cliente', 'id_emprestimo', 'id_historico', \n",
    "        'idade', 'salario', 'tempo_trabalhando',\n",
    "       'valor_emprestimo', 'juros', 'emp_sal', 'tempo_cliente',\n",
    "       'INADIMPLENCIA', 'RISCO_INADIMPLENCIA'], axis = 1))\n",
    "df_dummies"
   ]
  },
  {
   "cell_type": "code",
   "execution_count": 20,
   "id": "482b3974",
   "metadata": {},
   "outputs": [],
   "source": [
    "df_modificado = dados[['id_cliente', 'id_emprestimo', 'id_historico', \n",
    "        'idade', 'salario', 'tempo_trabalhando',\n",
    "       'valor_emprestimo', 'juros', 'emp_sal', 'tempo_cliente',\n",
    "       'INADIMPLENCIA', 'RISCO_INADIMPLENCIA']]"
   ]
  },
  {
   "cell_type": "code",
   "execution_count": 21,
   "id": "f1524c00",
   "metadata": {},
   "outputs": [
    {
     "data": {
      "text/html": [
       "<div>\n",
       "<style scoped>\n",
       "    .dataframe tbody tr th:only-of-type {\n",
       "        vertical-align: middle;\n",
       "    }\n",
       "\n",
       "    .dataframe tbody tr th {\n",
       "        vertical-align: top;\n",
       "    }\n",
       "\n",
       "    .dataframe thead th {\n",
       "        text-align: right;\n",
       "    }\n",
       "</style>\n",
       "<table border=\"1\" class=\"dataframe\">\n",
       "  <thead>\n",
       "    <tr style=\"text-align: right;\">\n",
       "      <th></th>\n",
       "      <th>id_cliente</th>\n",
       "      <th>id_emprestimo</th>\n",
       "      <th>id_historico</th>\n",
       "      <th>idade</th>\n",
       "      <th>salario</th>\n",
       "      <th>tempo_trabalhando</th>\n",
       "      <th>valor_emprestimo</th>\n",
       "      <th>juros</th>\n",
       "      <th>emp_sal</th>\n",
       "      <th>tempo_cliente</th>\n",
       "      <th>...</th>\n",
       "      <th>motivo_emprestimo_reforma</th>\n",
       "      <th>motivo_emprestimo_risco</th>\n",
       "      <th>motivo_emprestimo_saude</th>\n",
       "      <th>grupo_A</th>\n",
       "      <th>grupo_B</th>\n",
       "      <th>grupo_C</th>\n",
       "      <th>grupo_D</th>\n",
       "      <th>grupo_E</th>\n",
       "      <th>grupo_F</th>\n",
       "      <th>grupo_G</th>\n",
       "    </tr>\n",
       "  </thead>\n",
       "  <tbody>\n",
       "    <tr>\n",
       "      <th>0</th>\n",
       "      <td>AspC7qDK-5Esh</td>\n",
       "      <td>kZHfWgGv-0dWJ</td>\n",
       "      <td>UwfbzeaW-9tQt</td>\n",
       "      <td>21</td>\n",
       "      <td>60000</td>\n",
       "      <td>2</td>\n",
       "      <td>8000</td>\n",
       "      <td>11.26</td>\n",
       "      <td>0.13</td>\n",
       "      <td>3</td>\n",
       "      <td>...</td>\n",
       "      <td>0</td>\n",
       "      <td>0</td>\n",
       "      <td>0</td>\n",
       "      <td>0</td>\n",
       "      <td>1</td>\n",
       "      <td>0</td>\n",
       "      <td>0</td>\n",
       "      <td>0</td>\n",
       "      <td>0</td>\n",
       "      <td>0</td>\n",
       "    </tr>\n",
       "    <tr>\n",
       "      <th>1</th>\n",
       "      <td>2NjYU2iT-fGSm</td>\n",
       "      <td>j7elJxsY-eTEQ</td>\n",
       "      <td>viRQ2WYn-yJ2G</td>\n",
       "      <td>40</td>\n",
       "      <td>70000</td>\n",
       "      <td>6</td>\n",
       "      <td>18000</td>\n",
       "      <td>7.90</td>\n",
       "      <td>0.26</td>\n",
       "      <td>14</td>\n",
       "      <td>...</td>\n",
       "      <td>0</td>\n",
       "      <td>0</td>\n",
       "      <td>0</td>\n",
       "      <td>1</td>\n",
       "      <td>0</td>\n",
       "      <td>0</td>\n",
       "      <td>0</td>\n",
       "      <td>0</td>\n",
       "      <td>0</td>\n",
       "      <td>0</td>\n",
       "    </tr>\n",
       "    <tr>\n",
       "      <th>2</th>\n",
       "      <td>nTOKgZCT-YPUD</td>\n",
       "      <td>t9dKvc6a-4eAL</td>\n",
       "      <td>IEHObaim-KPC9</td>\n",
       "      <td>29</td>\n",
       "      <td>115000</td>\n",
       "      <td>3</td>\n",
       "      <td>22000</td>\n",
       "      <td>15.23</td>\n",
       "      <td>0.19</td>\n",
       "      <td>7</td>\n",
       "      <td>...</td>\n",
       "      <td>0</td>\n",
       "      <td>0</td>\n",
       "      <td>1</td>\n",
       "      <td>0</td>\n",
       "      <td>0</td>\n",
       "      <td>1</td>\n",
       "      <td>0</td>\n",
       "      <td>0</td>\n",
       "      <td>0</td>\n",
       "      <td>0</td>\n",
       "    </tr>\n",
       "    <tr>\n",
       "      <th>3</th>\n",
       "      <td>J3jGNZeh-OzZE</td>\n",
       "      <td>NaelpPC5-t2kz</td>\n",
       "      <td>GvqL52S8-S8OH</td>\n",
       "      <td>26</td>\n",
       "      <td>84996</td>\n",
       "      <td>0</td>\n",
       "      <td>9000</td>\n",
       "      <td>11.26</td>\n",
       "      <td>0.11</td>\n",
       "      <td>2</td>\n",
       "      <td>...</td>\n",
       "      <td>0</td>\n",
       "      <td>0</td>\n",
       "      <td>1</td>\n",
       "      <td>0</td>\n",
       "      <td>1</td>\n",
       "      <td>0</td>\n",
       "      <td>0</td>\n",
       "      <td>0</td>\n",
       "      <td>0</td>\n",
       "      <td>0</td>\n",
       "    </tr>\n",
       "    <tr>\n",
       "      <th>4</th>\n",
       "      <td>OQXEoNPl-hL0f</td>\n",
       "      <td>QxdBboWP-KKFh</td>\n",
       "      <td>Ue0IMCKa-d0AQ</td>\n",
       "      <td>23</td>\n",
       "      <td>24000</td>\n",
       "      <td>7</td>\n",
       "      <td>5000</td>\n",
       "      <td>7.49</td>\n",
       "      <td>0.21</td>\n",
       "      <td>2</td>\n",
       "      <td>...</td>\n",
       "      <td>0</td>\n",
       "      <td>0</td>\n",
       "      <td>0</td>\n",
       "      <td>1</td>\n",
       "      <td>0</td>\n",
       "      <td>0</td>\n",
       "      <td>0</td>\n",
       "      <td>0</td>\n",
       "      <td>0</td>\n",
       "      <td>0</td>\n",
       "    </tr>\n",
       "  </tbody>\n",
       "</table>\n",
       "<p>5 rows × 29 columns</p>\n",
       "</div>"
      ],
      "text/plain": [
       "      id_cliente  id_emprestimo   id_historico  idade  salario  \\\n",
       "0  AspC7qDK-5Esh  kZHfWgGv-0dWJ  UwfbzeaW-9tQt     21    60000   \n",
       "1  2NjYU2iT-fGSm  j7elJxsY-eTEQ  viRQ2WYn-yJ2G     40    70000   \n",
       "2  nTOKgZCT-YPUD  t9dKvc6a-4eAL  IEHObaim-KPC9     29   115000   \n",
       "3  J3jGNZeh-OzZE  NaelpPC5-t2kz  GvqL52S8-S8OH     26    84996   \n",
       "4  OQXEoNPl-hL0f  QxdBboWP-KKFh  Ue0IMCKa-d0AQ     23    24000   \n",
       "\n",
       "   tempo_trabalhando  valor_emprestimo  juros  emp_sal  tempo_cliente  ...  \\\n",
       "0                  2              8000  11.26     0.13              3  ...   \n",
       "1                  6             18000   7.90     0.26             14  ...   \n",
       "2                  3             22000  15.23     0.19              7  ...   \n",
       "3                  0              9000  11.26     0.11              2  ...   \n",
       "4                  7              5000   7.49     0.21              2  ...   \n",
       "\n",
       "   motivo_emprestimo_reforma  motivo_emprestimo_risco  \\\n",
       "0                          0                        0   \n",
       "1                          0                        0   \n",
       "2                          0                        0   \n",
       "3                          0                        0   \n",
       "4                          0                        0   \n",
       "\n",
       "   motivo_emprestimo_saude  grupo_A  grupo_B  grupo_C  grupo_D  grupo_E  \\\n",
       "0                        0        0        1        0        0        0   \n",
       "1                        0        1        0        0        0        0   \n",
       "2                        1        0        0        1        0        0   \n",
       "3                        1        0        1        0        0        0   \n",
       "4                        0        1        0        0        0        0   \n",
       "\n",
       "   grupo_F  grupo_G  \n",
       "0        0        0  \n",
       "1        0        0  \n",
       "2        0        0  \n",
       "3        0        0  \n",
       "4        0        0  \n",
       "\n",
       "[5 rows x 29 columns]"
      ]
     },
     "execution_count": 21,
     "metadata": {},
     "output_type": "execute_result"
    }
   ],
   "source": [
    "dados_final = pd.concat([df_modificado, df_dummies], axis = 1)\n",
    "dados_final.head()"
   ]
  },
  {
   "cell_type": "code",
   "execution_count": 22,
   "id": "88c27fe4",
   "metadata": {},
   "outputs": [],
   "source": [
    "dados_final.to_csv('dados.csv', index = False)"
   ]
  },
  {
   "cell_type": "code",
   "execution_count": 23,
   "id": "995322f2",
   "metadata": {},
   "outputs": [],
   "source": [
    "x = dados_final.drop(['id_cliente', 'id_emprestimo', 'id_historico', 'RISCO_INADIMPLENCIA'], axis = 1)\n",
    "y = dados_final['RISCO_INADIMPLENCIA']"
   ]
  },
  {
   "cell_type": "code",
   "execution_count": 24,
   "id": "081745de",
   "metadata": {},
   "outputs": [
    {
     "name": "stdout",
     "output_type": "stream",
     "text": [
      "Treinaremos com 20344 elementos e testaremos com 6782 elementos\n",
      "A acurácia do dummy classifier foi 79.09%\n"
     ]
    }
   ],
   "source": [
    "treino_x, teste_x, treino_y, teste_y = train_test_split(x, y, test_size = 0.25, stratify = y)\n",
    "dummy_clf = DummyClassifier()\n",
    "dummy_clf.fit(treino_x, treino_y)\n",
    "acuracia = dummy_clf.score(teste_x, teste_y) * 100\n",
    "print(\"Treinaremos com %d elementos e testaremos com %d elementos\" % (len(treino_x), len(teste_y)))\n",
    "print(\"A acurácia do dummy classifier foi %.2f%%\" % acuracia)"
   ]
  },
  {
   "cell_type": "code",
   "execution_count": 25,
   "id": "fad8bada",
   "metadata": {},
   "outputs": [
    {
     "name": "stdout",
     "output_type": "stream",
     "text": [
      "A acurácia foi 88.00%\n"
     ]
    }
   ],
   "source": [
    "clf = tree.DecisionTreeClassifier(max_depth=3)\n",
    "clf = clf.fit(treino_x, treino_y)\n",
    "previsoes = clf.predict(teste_x)\n",
    "\n",
    "acuracia = accuracy_score(teste_y, previsoes) * 100\n",
    "print(\"A acurácia foi %.2f%%\" % acuracia)"
   ]
  },
  {
   "cell_type": "code",
   "execution_count": 26,
   "id": "45cd12b8",
   "metadata": {},
   "outputs": [
    {
     "data": {
      "text/plain": [
       "Index(['id_cliente', 'id_emprestimo', 'id_historico', 'idade', 'salario',\n",
       "       'tempo_trabalhando', 'valor_emprestimo', 'juros', 'emp_sal',\n",
       "       'tempo_cliente', 'INADIMPLENCIA', 'RISCO_INADIMPLENCIA',\n",
       "       'tipo_imovel_alugado', 'tipo_imovel_financiado', 'tipo_imovel_outro',\n",
       "       'tipo_imovel_proprio', 'motivo_emprestimo_ensino',\n",
       "       'motivo_emprestimo_pessoal', 'motivo_emprestimo_quitar',\n",
       "       'motivo_emprestimo_reforma', 'motivo_emprestimo_risco',\n",
       "       'motivo_emprestimo_saude', 'grupo_A', 'grupo_B', 'grupo_C', 'grupo_D',\n",
       "       'grupo_E', 'grupo_F', 'grupo_G'],\n",
       "      dtype='object')"
      ]
     },
     "execution_count": 26,
     "metadata": {},
     "output_type": "execute_result"
    }
   ],
   "source": [
    "dados_final.columns"
   ]
  },
  {
   "cell_type": "code",
   "execution_count": 27,
   "id": "338a9590",
   "metadata": {},
   "outputs": [
    {
     "data": {
      "image/png": "[encoded data removed]",
      "text/plain": [
       "<Figure size 1152x720 with 1 Axes>"
      ]
     },
     "metadata": {
      "needs_background": "light"
     },
     "output_type": "display_data"
    }
   ],
   "source": [
    "import matplotlib.pyplot as plt\n",
    "plt.figure(figsize=(16,10))  \n",
    "tree.plot_tree(clf, feature_names=['idade', 'salario',\n",
    "       'tempo_trabalhando', 'valor_emprestimo', 'juros', 'emp_sal',\n",
    "       'tempo_cliente', 'INADIMPLENCIA', 'RISCO_INADIMPLENCIA',\n",
    "       'tipo_imovel_alugado', 'tipo_imovel_financiado', 'tipo_imovel_outro',\n",
    "       'tipo_imovel_proprio', 'motivo_emprestimo_ensino',\n",
    "       'motivo_emprestimo_pessoal', 'motivo_emprestimo_quitar',\n",
    "       'motivo_emprestimo_reforma', 'motivo_emprestimo_risco',\n",
    "       'motivo_emprestimo_saude', 'grupo_A', 'grupo_B', 'grupo_C', 'grupo_D',\n",
    "       'grupo_E', 'grupo_F', 'grupo_G'], fontsize=10)\n",
    "plt.show()"
   ]
  },
  {
   "cell_type": "code",
   "execution_count": 28,
   "id": "93665b9b",
   "metadata": {},
   "outputs": [
    {
     "name": "stdout",
     "output_type": "stream",
     "text": [
      "Accuracy com cross validation, cv = 5 = [87.63, 88.39]\n"
     ]
    }
   ],
   "source": [
    "modelo = tree.DecisionTreeClassifier(max_depth=3)\n",
    "results = cross_validate(modelo, x, y, cv = 5, return_train_score=False)\n",
    "media = results['test_score'].mean()\n",
    "desvio_padrao = results['test_score'].std()\n",
    "print(\"Accuracy com cross validation, cv = 5 = [%.2f, %.2f]\" % ((media - 2 * desvio_padrao)*100, (media + 2 * desvio_padrao) * 100))"
   ]
  },
  {
   "cell_type": "code",
   "execution_count": 29,
   "id": "6c8aac13",
   "metadata": {},
   "outputs": [
    {
     "name": "stdout",
     "output_type": "stream",
     "text": [
      "Accuracy com cross validation, cv = 5 = [87.51, 88.22]\n"
     ]
    }
   ],
   "source": [
    "clf = tree.DecisionTreeClassifier(max_depth=3)\n",
    "clf = clf.fit(treino_x, treino_y)\n",
    "previsoes = clf.predict(teste_x)\n",
    "media = cross_val_score(clf, treino_x, treino_y, cv=5).mean()\n",
    "desvio_padrao = cross_val_score(clf, treino_x, treino_y, cv=5).std()\n",
    "print(\"Accuracy com cross validation, cv = 5 = [%.2f, %.2f]\" % ((media - 2 * desvio_padrao)*100, (media + 2 * desvio_padrao) * 100))"
   ]
  },
  {
   "cell_type": "code",
   "execution_count": 30,
   "id": "db240059",
   "metadata": {},
   "outputs": [
    {
     "data": {
      "text/plain": [
       "{'fit_time': array([0.05086398, 0.03893018, 0.031914  , 0.02892089, 0.029531  ]),\n",
       " 'score_time': array([0.00398898, 0.00298786, 0.00199938, 0.00199175, 0.00199437]),\n",
       " 'test_score': array([0.8816808 , 0.88221198, 0.88036866, 0.87686636, 0.87926267])}"
      ]
     },
     "execution_count": 30,
     "metadata": {},
     "output_type": "execute_result"
    }
   ],
   "source": [
    "cross_validate(modelo, x, y, cv = 5)"
   ]
  },
  {
   "cell_type": "code",
   "execution_count": 31,
   "id": "04f65737",
   "metadata": {},
   "outputs": [
    {
     "data": {
      "text/plain": [
       "array([0.87957729, 0.88129762, 0.87711969, 0.87884001, 0.87635202])"
      ]
     },
     "execution_count": 31,
     "metadata": {},
     "output_type": "execute_result"
    }
   ],
   "source": [
    "cross_val_score(clf, treino_x, treino_y, cv=5)"
   ]
  },
  {
   "cell_type": "code",
   "execution_count": 32,
   "id": "75670028",
   "metadata": {},
   "outputs": [
    {
     "data": {
      "text/plain": [
       "array([0.64492754, 0.65226782, 0.7005988 , 0.64249456, 0.60111023])"
      ]
     },
     "execution_count": 32,
     "metadata": {},
     "output_type": "execute_result"
    }
   ],
   "source": [
    "cross_val_score(clf, treino_x, treino_y, cv=5, scoring='f1')"
   ]
  },
  {
   "cell_type": "code",
   "execution_count": 33,
   "id": "c53d95af",
   "metadata": {},
   "outputs": [
    {
     "data": {
      "text/plain": [
       "array([0.87957729, 0.88129762, 0.87711969, 0.87884001, 0.87635202])"
      ]
     },
     "execution_count": 33,
     "metadata": {},
     "output_type": "execute_result"
    }
   ],
   "source": [
    "cross_val_score(clf, treino_x, treino_y, cv=5, scoring='accuracy')"
   ]
  },
  {
   "cell_type": "code",
   "execution_count": 34,
   "id": "298afa01",
   "metadata": {},
   "outputs": [
    {
     "data": {
      "text/plain": [
       "array([0.68340569, 0.68358819, 0.68694419, 0.67988473, 0.69137583])"
      ]
     },
     "execution_count": 34,
     "metadata": {},
     "output_type": "execute_result"
    }
   ],
   "source": [
    "cross_val_score(clf, treino_x, treino_y, cv=5, scoring='average_precision')"
   ]
  },
  {
   "cell_type": "code",
   "execution_count": 35,
   "id": "de8de3d3",
   "metadata": {},
   "outputs": [
    {
     "data": {
      "text/plain": [
       "array([0.83962264, 0.84044527, 0.71428571, 0.83901515, 0.92214112])"
      ]
     },
     "execution_count": 35,
     "metadata": {},
     "output_type": "execute_result"
    }
   ],
   "source": [
    "cross_val_score(clf, treino_x, treino_y, cv=5, scoring='precision')"
   ]
  },
  {
   "cell_type": "code",
   "execution_count": 36,
   "id": "c9879585",
   "metadata": {},
   "outputs": [
    {
     "data": {
      "text/plain": [
       "array([0.52352941, 0.53294118, 0.68742656, 0.52056404, 0.44588235])"
      ]
     },
     "execution_count": 36,
     "metadata": {},
     "output_type": "execute_result"
    }
   ],
   "source": [
    "cross_val_score(clf, treino_x, treino_y, cv=5, scoring='recall')"
   ]
  },
  {
   "cell_type": "code",
   "execution_count": 37,
   "id": "85442195",
   "metadata": {},
   "outputs": [
    {
     "data": {
      "text/plain": [
       "array([0.82508817, 0.82817006, 0.83142999, 0.82794033, 0.8377348 ])"
      ]
     },
     "execution_count": 37,
     "metadata": {},
     "output_type": "execute_result"
    }
   ],
   "source": [
    "cross_val_score(clf, treino_x, treino_y, cv=5, scoring='roc_auc')"
   ]
  },
  {
   "cell_type": "code",
   "execution_count": 38,
   "id": "d3374b39",
   "metadata": {},
   "outputs": [
    {
     "data": {
      "image/png": "[encoded data removed]",
      "text/plain": [
       "<Figure size 432x288 with 1 Axes>"
      ]
     },
     "metadata": {
      "needs_background": "light"
     },
     "output_type": "display_data"
    }
   ],
   "source": [
    "clf_disp = RocCurveDisplay.from_estimator(clf, teste_x, teste_y)"
   ]
  },
  {
   "cell_type": "code",
   "execution_count": 40,
   "id": "de3046c8",
   "metadata": {},
   "outputs": [
    {
     "name": "stdout",
     "output_type": "stream",
     "text": [
      "[[6582  159]\n",
      " [ 949  930]]\n"
     ]
    }
   ],
   "source": [
    "print(confusion_matrix(teste_y, previsoes))"
   ]
  },
  {
   "cell_type": "code",
   "execution_count": null,
   "id": "ac1928f3",
   "metadata": {},
   "outputs": [],
   "source": []
  }
 ],
 "metadata": {
  "kernelspec": {
   "display_name": "Python 3 (ipykernel)",
   "language": "python",
   "name": "python3"
  },
  "language_info": {
   "codemirror_mode": {
    "name": "ipython",
    "version": 3
   },
   "file_extension": ".py",
   "mimetype": "text/x-python",
   "name": "python",
   "nbconvert_exporter": "python",
   "pygments_lexer": "ipython3",
   "version": "3.9.7"
  }
 },
 "nbformat": 4,
 "nbformat_minor": 5
}
