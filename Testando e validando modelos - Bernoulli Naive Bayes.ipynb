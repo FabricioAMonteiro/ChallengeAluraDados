{
 "cells": [
  {
   "cell_type": "code",
   "execution_count": 38,
   "id": "c42434ae",
   "metadata": {},
   "outputs": [],
   "source": [
    "import pandas as pd\n",
    "import numpy as np"
   ]
  },
  {
   "cell_type": "code",
   "execution_count": 39,
   "id": "546826af",
   "metadata": {},
   "outputs": [
    {
     "data": {
      "text/html": [
       "<div>\n",
       "<style scoped>\n",
       "    .dataframe tbody tr th:only-of-type {\n",
       "        vertical-align: middle;\n",
       "    }\n",
       "\n",
       "    .dataframe tbody tr th {\n",
       "        vertical-align: top;\n",
       "    }\n",
       "\n",
       "    .dataframe thead th {\n",
       "        text-align: right;\n",
       "    }\n",
       "</style>\n",
       "<table border=\"1\" class=\"dataframe\">\n",
       "  <thead>\n",
       "    <tr style=\"text-align: right;\">\n",
       "      <th></th>\n",
       "      <th>id_cliente</th>\n",
       "      <th>id_emprestimo</th>\n",
       "      <th>id_historico</th>\n",
       "      <th>tipo_imovel</th>\n",
       "      <th>motivo_emprestimo</th>\n",
       "      <th>grupo</th>\n",
       "      <th>idade</th>\n",
       "      <th>salario</th>\n",
       "      <th>tempo_trabalhando</th>\n",
       "      <th>valor_emprestimo</th>\n",
       "      <th>juros</th>\n",
       "      <th>emp_sal</th>\n",
       "      <th>tempo_cliente</th>\n",
       "      <th>INADIMPLENCIA</th>\n",
       "      <th>RISCO_INADIMPLENCIA</th>\n",
       "    </tr>\n",
       "  </thead>\n",
       "  <tbody>\n",
       "    <tr>\n",
       "      <th>0</th>\n",
       "      <td>AspC7qDK-5Esh</td>\n",
       "      <td>kZHfWgGv-0dWJ</td>\n",
       "      <td>UwfbzeaW-9tQt</td>\n",
       "      <td>alugado</td>\n",
       "      <td>ensino</td>\n",
       "      <td>B</td>\n",
       "      <td>21.0</td>\n",
       "      <td>60000.0</td>\n",
       "      <td>2.0</td>\n",
       "      <td>8000.0</td>\n",
       "      <td>11.26</td>\n",
       "      <td>0.13</td>\n",
       "      <td>3.0</td>\n",
       "      <td>0.0</td>\n",
       "      <td>0.0</td>\n",
       "    </tr>\n",
       "    <tr>\n",
       "      <th>1</th>\n",
       "      <td>2NjYU2iT-fGSm</td>\n",
       "      <td>j7elJxsY-eTEQ</td>\n",
       "      <td>viRQ2WYn-yJ2G</td>\n",
       "      <td>financiado</td>\n",
       "      <td>ensino</td>\n",
       "      <td>A</td>\n",
       "      <td>40.0</td>\n",
       "      <td>70000.0</td>\n",
       "      <td>6.0</td>\n",
       "      <td>18000.0</td>\n",
       "      <td>7.90</td>\n",
       "      <td>0.26</td>\n",
       "      <td>14.0</td>\n",
       "      <td>0.0</td>\n",
       "      <td>0.0</td>\n",
       "    </tr>\n",
       "    <tr>\n",
       "      <th>2</th>\n",
       "      <td>nTOKgZCT-YPUD</td>\n",
       "      <td>t9dKvc6a-4eAL</td>\n",
       "      <td>IEHObaim-KPC9</td>\n",
       "      <td>financiado</td>\n",
       "      <td>saude</td>\n",
       "      <td>C</td>\n",
       "      <td>29.0</td>\n",
       "      <td>115000.0</td>\n",
       "      <td>3.0</td>\n",
       "      <td>22000.0</td>\n",
       "      <td>15.23</td>\n",
       "      <td>0.19</td>\n",
       "      <td>7.0</td>\n",
       "      <td>1.0</td>\n",
       "      <td>0.0</td>\n",
       "    </tr>\n",
       "    <tr>\n",
       "      <th>3</th>\n",
       "      <td>J3jGNZeh-OzZE</td>\n",
       "      <td>NaelpPC5-t2kz</td>\n",
       "      <td>GvqL52S8-S8OH</td>\n",
       "      <td>alugado</td>\n",
       "      <td>saude</td>\n",
       "      <td>B</td>\n",
       "      <td>26.0</td>\n",
       "      <td>84996.0</td>\n",
       "      <td>0.0</td>\n",
       "      <td>9000.0</td>\n",
       "      <td>11.26</td>\n",
       "      <td>0.11</td>\n",
       "      <td>2.0</td>\n",
       "      <td>0.0</td>\n",
       "      <td>0.0</td>\n",
       "    </tr>\n",
       "    <tr>\n",
       "      <th>4</th>\n",
       "      <td>flpZfspk-bUuL</td>\n",
       "      <td>4NHe4vfi-QLvW</td>\n",
       "      <td>fbc8cPEp-uJEB</td>\n",
       "      <td>alugado</td>\n",
       "      <td>quitar</td>\n",
       "      <td>A</td>\n",
       "      <td>23.0</td>\n",
       "      <td>54500.0</td>\n",
       "      <td>2.0</td>\n",
       "      <td>8000.0</td>\n",
       "      <td>11.26</td>\n",
       "      <td>0.15</td>\n",
       "      <td>2.0</td>\n",
       "      <td>0.0</td>\n",
       "      <td>0.0</td>\n",
       "    </tr>\n",
       "    <tr>\n",
       "      <th>...</th>\n",
       "      <td>...</td>\n",
       "      <td>...</td>\n",
       "      <td>...</td>\n",
       "      <td>...</td>\n",
       "      <td>...</td>\n",
       "      <td>...</td>\n",
       "      <td>...</td>\n",
       "      <td>...</td>\n",
       "      <td>...</td>\n",
       "      <td>...</td>\n",
       "      <td>...</td>\n",
       "      <td>...</td>\n",
       "      <td>...</td>\n",
       "      <td>...</td>\n",
       "      <td>...</td>\n",
       "    </tr>\n",
       "    <tr>\n",
       "      <th>34473</th>\n",
       "      <td>IuYkEXvw-YDnc</td>\n",
       "      <td>IT0YNmM9-xJUf</td>\n",
       "      <td>q0YwGXaQ-ZTgQ</td>\n",
       "      <td>alugado</td>\n",
       "      <td>saude</td>\n",
       "      <td>D</td>\n",
       "      <td>39.0</td>\n",
       "      <td>33996.0</td>\n",
       "      <td>6.0</td>\n",
       "      <td>4000.0</td>\n",
       "      <td>11.49</td>\n",
       "      <td>0.12</td>\n",
       "      <td>13.0</td>\n",
       "      <td>0.0</td>\n",
       "      <td>1.0</td>\n",
       "    </tr>\n",
       "    <tr>\n",
       "      <th>34474</th>\n",
       "      <td>toJSgLh4-Sf0s</td>\n",
       "      <td>dBBYeSyf-N3y2</td>\n",
       "      <td>QU4yUUO4-sZ0f</td>\n",
       "      <td>financiado</td>\n",
       "      <td>reforma</td>\n",
       "      <td>A</td>\n",
       "      <td>24.0</td>\n",
       "      <td>36000.0</td>\n",
       "      <td>6.0</td>\n",
       "      <td>14775.0</td>\n",
       "      <td>6.62</td>\n",
       "      <td>0.41</td>\n",
       "      <td>4.0</td>\n",
       "      <td>0.0</td>\n",
       "      <td>0.0</td>\n",
       "    </tr>\n",
       "    <tr>\n",
       "      <th>34475</th>\n",
       "      <td>ezodwdzy-IgP3</td>\n",
       "      <td>Z0OQkNXo-noen</td>\n",
       "      <td>W6NpiRzO-8o5z</td>\n",
       "      <td>financiado</td>\n",
       "      <td>quitar</td>\n",
       "      <td>A</td>\n",
       "      <td>27.0</td>\n",
       "      <td>39600.0</td>\n",
       "      <td>11.0</td>\n",
       "      <td>4800.0</td>\n",
       "      <td>6.76</td>\n",
       "      <td>0.12</td>\n",
       "      <td>9.0</td>\n",
       "      <td>0.0</td>\n",
       "      <td>0.0</td>\n",
       "    </tr>\n",
       "    <tr>\n",
       "      <th>34476</th>\n",
       "      <td>zcvLEBEd-JHhI</td>\n",
       "      <td>EtCzqy1B-QYEL</td>\n",
       "      <td>3fcjJLaj-Bkio</td>\n",
       "      <td>financiado</td>\n",
       "      <td>saude</td>\n",
       "      <td>C</td>\n",
       "      <td>30.0</td>\n",
       "      <td>39996.0</td>\n",
       "      <td>8.0</td>\n",
       "      <td>10000.0</td>\n",
       "      <td>12.73</td>\n",
       "      <td>0.25</td>\n",
       "      <td>6.0</td>\n",
       "      <td>0.0</td>\n",
       "      <td>0.0</td>\n",
       "    </tr>\n",
       "    <tr>\n",
       "      <th>34477</th>\n",
       "      <td>zHG1040U-BAsd</td>\n",
       "      <td>Jb3kZcsS-4i5B</td>\n",
       "      <td>zoPPIv63-aGvX</td>\n",
       "      <td>alugado</td>\n",
       "      <td>ensino</td>\n",
       "      <td>B</td>\n",
       "      <td>26.0</td>\n",
       "      <td>54996.0</td>\n",
       "      <td>8.0</td>\n",
       "      <td>20000.0</td>\n",
       "      <td>12.18</td>\n",
       "      <td>0.36</td>\n",
       "      <td>4.0</td>\n",
       "      <td>0.0</td>\n",
       "      <td>1.0</td>\n",
       "    </tr>\n",
       "  </tbody>\n",
       "</table>\n",
       "<p>34478 rows × 15 columns</p>\n",
       "</div>"
      ],
      "text/plain": [
       "          id_cliente  id_emprestimo   id_historico tipo_imovel  \\\n",
       "0      AspC7qDK-5Esh  kZHfWgGv-0dWJ  UwfbzeaW-9tQt     alugado   \n",
       "1      2NjYU2iT-fGSm  j7elJxsY-eTEQ  viRQ2WYn-yJ2G  financiado   \n",
       "2      nTOKgZCT-YPUD  t9dKvc6a-4eAL  IEHObaim-KPC9  financiado   \n",
       "3      J3jGNZeh-OzZE  NaelpPC5-t2kz  GvqL52S8-S8OH     alugado   \n",
       "4      flpZfspk-bUuL  4NHe4vfi-QLvW  fbc8cPEp-uJEB     alugado   \n",
       "...              ...            ...            ...         ...   \n",
       "34473  IuYkEXvw-YDnc  IT0YNmM9-xJUf  q0YwGXaQ-ZTgQ     alugado   \n",
       "34474  toJSgLh4-Sf0s  dBBYeSyf-N3y2  QU4yUUO4-sZ0f  financiado   \n",
       "34475  ezodwdzy-IgP3  Z0OQkNXo-noen  W6NpiRzO-8o5z  financiado   \n",
       "34476  zcvLEBEd-JHhI  EtCzqy1B-QYEL  3fcjJLaj-Bkio  financiado   \n",
       "34477  zHG1040U-BAsd  Jb3kZcsS-4i5B  zoPPIv63-aGvX     alugado   \n",
       "\n",
       "      motivo_emprestimo grupo  idade   salario  tempo_trabalhando  \\\n",
       "0                ensino     B   21.0   60000.0                2.0   \n",
       "1                ensino     A   40.0   70000.0                6.0   \n",
       "2                 saude     C   29.0  115000.0                3.0   \n",
       "3                 saude     B   26.0   84996.0                0.0   \n",
       "4                quitar     A   23.0   54500.0                2.0   \n",
       "...                 ...   ...    ...       ...                ...   \n",
       "34473             saude     D   39.0   33996.0                6.0   \n",
       "34474           reforma     A   24.0   36000.0                6.0   \n",
       "34475            quitar     A   27.0   39600.0               11.0   \n",
       "34476             saude     C   30.0   39996.0                8.0   \n",
       "34477            ensino     B   26.0   54996.0                8.0   \n",
       "\n",
       "       valor_emprestimo  juros  emp_sal  tempo_cliente  INADIMPLENCIA  \\\n",
       "0                8000.0  11.26     0.13            3.0            0.0   \n",
       "1               18000.0   7.90     0.26           14.0            0.0   \n",
       "2               22000.0  15.23     0.19            7.0            1.0   \n",
       "3                9000.0  11.26     0.11            2.0            0.0   \n",
       "4                8000.0  11.26     0.15            2.0            0.0   \n",
       "...                 ...    ...      ...            ...            ...   \n",
       "34473            4000.0  11.49     0.12           13.0            0.0   \n",
       "34474           14775.0   6.62     0.41            4.0            0.0   \n",
       "34475            4800.0   6.76     0.12            9.0            0.0   \n",
       "34476           10000.0  12.73     0.25            6.0            0.0   \n",
       "34477           20000.0  12.18     0.36            4.0            0.0   \n",
       "\n",
       "       RISCO_INADIMPLENCIA  \n",
       "0                      0.0  \n",
       "1                      0.0  \n",
       "2                      0.0  \n",
       "3                      0.0  \n",
       "4                      0.0  \n",
       "...                    ...  \n",
       "34473                  1.0  \n",
       "34474                  0.0  \n",
       "34475                  0.0  \n",
       "34476                  0.0  \n",
       "34477                  1.0  \n",
       "\n",
       "[34478 rows x 15 columns]"
      ]
     },
     "execution_count": 39,
     "metadata": {},
     "output_type": "execute_result"
    }
   ],
   "source": [
    "dados = pd.read_csv('dados_alura.csv')\n",
    "dados"
   ]
  },
  {
   "cell_type": "code",
   "execution_count": 40,
   "id": "131e6e97",
   "metadata": {},
   "outputs": [
    {
     "data": {
      "text/plain": [
       "id_cliente             0\n",
       "id_emprestimo          0\n",
       "id_historico           0\n",
       "tipo_imovel            0\n",
       "motivo_emprestimo      0\n",
       "grupo                  0\n",
       "idade                  0\n",
       "salario                0\n",
       "tempo_trabalhando      0\n",
       "valor_emprestimo       0\n",
       "juros                  0\n",
       "emp_sal                0\n",
       "tempo_cliente          0\n",
       "INADIMPLENCIA          0\n",
       "RISCO_INADIMPLENCIA    0\n",
       "dtype: int64"
      ]
     },
     "execution_count": 40,
     "metadata": {},
     "output_type": "execute_result"
    }
   ],
   "source": [
    "dados.isnull().sum()"
   ]
  },
  {
   "cell_type": "markdown",
   "id": "f60dc3bd",
   "metadata": {},
   "source": [
    "## Testando apenas com os dados numéricos"
   ]
  },
  {
   "cell_type": "code",
   "execution_count": 41,
   "id": "48424fe2",
   "metadata": {},
   "outputs": [
    {
     "name": "stdout",
     "output_type": "stream",
     "text": [
      "Treinaremos com 25858 elementos e testaremos com 8620 elementos\n",
      "A acurácia do dummy classifier foi 78.20%\n"
     ]
    }
   ],
   "source": [
    "from sklearn.model_selection import train_test_split\n",
    "from sklearn.dummy import DummyClassifier\n",
    "from sklearn.metrics import accuracy_score\n",
    "\n",
    "x = dados[['idade', 'salario', 'tempo_trabalhando', 'valor_emprestimo', 'juros', 'emp_sal', 'tempo_cliente', 'INADIMPLENCIA']]\n",
    "y = dados['RISCO_INADIMPLENCIA']\n",
    "SEED = 1\n",
    "np.random.seed(SEED)\n",
    "\n",
    "treino_x, teste_x, treino_y, teste_y = train_test_split(x, y, test_size = 0.25, stratify = y)\n",
    "dummy_clf = DummyClassifier()\n",
    "dummy_clf.fit(treino_x, treino_y)\n",
    "acuracia = dummy_clf.score(teste_x, teste_y) * 100\n",
    "print(\"Treinaremos com %d elementos e testaremos com %d elementos\" % (len(treino_x), len(teste_y)))\n",
    "print(\"A acurácia do dummy classifier foi %.2f%%\" % acuracia)"
   ]
  },
  {
   "cell_type": "code",
   "execution_count": 42,
   "id": "dc8ffb0e",
   "metadata": {},
   "outputs": [],
   "source": [
    "bina = np.median(treino_x)"
   ]
  },
  {
   "cell_type": "code",
   "execution_count": 43,
   "id": "a65959fc",
   "metadata": {},
   "outputs": [
    {
     "name": "stdout",
     "output_type": "stream",
     "text": [
      "A acurácia foi 78.20%\n"
     ]
    }
   ],
   "source": [
    "from sklearn.naive_bayes import BernoulliNB\n",
    "bnb = BernoulliNB(binarize=bina)\n",
    "clf = bnb.fit(treino_x, treino_y)\n",
    "previsoes = clf.predict(teste_x)\n",
    "\n",
    "acuracia = accuracy_score(teste_y, previsoes) * 100\n",
    "print(\"A acurácia foi %.2f%%\" % acuracia)"
   ]
  },
  {
   "cell_type": "code",
   "execution_count": 44,
   "id": "d3315bfc",
   "metadata": {},
   "outputs": [
    {
     "name": "stdout",
     "output_type": "stream",
     "text": [
      "Accuracy com cross validation, cv = 5 = [78.19, 78.21]\n"
     ]
    }
   ],
   "source": [
    "from sklearn.model_selection import cross_validate\n",
    "modelo = BernoulliNB(binarize=bina)\n",
    "results = cross_validate(modelo, x, y, cv = 5, return_train_score=False)\n",
    "media = results['test_score'].mean()\n",
    "desvio_padrao = results['test_score'].std()\n",
    "print(\"Accuracy com cross validation, cv = 5 = [%.2f, %.2f]\" % ((media - 2 * desvio_padrao)*100, (media + 2 * desvio_padrao) * 100))"
   ]
  },
  {
   "cell_type": "code",
   "execution_count": 45,
   "id": "9c427d23",
   "metadata": {},
   "outputs": [
    {
     "name": "stdout",
     "output_type": "stream",
     "text": [
      "Accuracy com cross validation, cv = 5 = [78.18, 78.21]\n"
     ]
    }
   ],
   "source": [
    "from sklearn.model_selection import cross_val_score\n",
    "bnb = BernoulliNB(binarize=bina)\n",
    "clf = bnb.fit(treino_x, treino_y)\n",
    "previsoes = bnb.predict(teste_x)\n",
    "media = cross_val_score(clf, treino_x, treino_y, cv=5).mean()\n",
    "desvio_padrao = cross_val_score(clf, treino_x, treino_y, cv=5).std()\n",
    "print(\"Accuracy com cross validation, cv = 5 = [%.2f, %.2f]\" % ((media - 2 * desvio_padrao)*100, (media + 2 * desvio_padrao) * 100))"
   ]
  },
  {
   "cell_type": "code",
   "execution_count": 46,
   "id": "fffdde12",
   "metadata": {},
   "outputs": [
    {
     "data": {
      "text/plain": [
       "{'fit_time': array([0.01781058, 0.01849365, 0.02652121, 0.03341722, 0.03029013]),\n",
       " 'score_time': array([0.        , 0.00609612, 0.        , 0.0070231 , 0.0105741 ]),\n",
       " 'test_score': array([0.78204756, 0.78190255, 0.78190255, 0.78201595, 0.78201595])}"
      ]
     },
     "execution_count": 46,
     "metadata": {},
     "output_type": "execute_result"
    }
   ],
   "source": [
    "cross_validate(modelo, x, y, cv = 5)"
   ]
  },
  {
   "cell_type": "code",
   "execution_count": 47,
   "id": "c3b9721c",
   "metadata": {},
   "outputs": [
    {
     "data": {
      "text/plain": [
       "array([0.78190255, 0.78190255, 0.78190255, 0.78205376, 0.78205376])"
      ]
     },
     "execution_count": 47,
     "metadata": {},
     "output_type": "execute_result"
    }
   ],
   "source": [
    "cross_val_score(clf, treino_x, treino_y, cv=5)"
   ]
  },
  {
   "cell_type": "code",
   "execution_count": 49,
   "id": "37d80c78",
   "metadata": {},
   "outputs": [
    {
     "data": {
      "text/plain": [
       "array([0.78190255, 0.78190255, 0.78190255, 0.78205376, 0.78205376])"
      ]
     },
     "execution_count": 49,
     "metadata": {},
     "output_type": "execute_result"
    }
   ],
   "source": [
    "cross_val_score(clf, treino_x, treino_y, cv=5, scoring='accuracy')"
   ]
  },
  {
   "cell_type": "code",
   "execution_count": 50,
   "id": "c5023894",
   "metadata": {},
   "outputs": [
    {
     "data": {
      "text/plain": [
       "array([0.27113834, 0.27097973, 0.26302645, 0.27406805, 0.26771217])"
      ]
     },
     "execution_count": 50,
     "metadata": {},
     "output_type": "execute_result"
    }
   ],
   "source": [
    "cross_val_score(clf, treino_x, treino_y, cv=5, scoring='average_precision')"
   ]
  },
  {
   "cell_type": "code",
   "execution_count": 52,
   "id": "1ac6913c",
   "metadata": {},
   "outputs": [
    {
     "data": {
      "text/plain": [
       "array([0.61440335, 0.61631495, 0.60250147, 0.62164351, 0.61191029])"
      ]
     },
     "execution_count": 52,
     "metadata": {},
     "output_type": "execute_result"
    }
   ],
   "source": [
    "cross_val_score(clf, treino_x, treino_y, cv=5, scoring='roc_auc')"
   ]
  },
  {
   "cell_type": "code",
   "execution_count": 53,
   "id": "6a4a2a0a",
   "metadata": {},
   "outputs": [
    {
     "data": {
      "image/png": "[encoded data removed]",
      "text/plain": [
       "<Figure size 432x288 with 1 Axes>"
      ]
     },
     "metadata": {
      "needs_background": "light"
     },
     "output_type": "display_data"
    }
   ],
   "source": [
    "from sklearn.metrics import RocCurveDisplay\n",
    "clf_disp = RocCurveDisplay.from_estimator(clf, teste_x, teste_y)"
   ]
  },
  {
   "cell_type": "code",
   "execution_count": 54,
   "id": "0b77acfb",
   "metadata": {},
   "outputs": [
    {
     "name": "stdout",
     "output_type": "stream",
     "text": [
      "[[6741    0]\n",
      " [1879    0]]\n"
     ]
    }
   ],
   "source": [
    "from sklearn.metrics import confusion_matrix\n",
    "print(confusion_matrix(teste_y, previsoes))"
   ]
  },
  {
   "cell_type": "markdown",
   "id": "731da09e",
   "metadata": {},
   "source": [
    "## Agora transformando os dados categóricos"
   ]
  },
  {
   "cell_type": "code",
   "execution_count": 24,
   "id": "cb245cf5",
   "metadata": {},
   "outputs": [
    {
     "data": {
      "text/html": [
       "<div>\n",
       "<style scoped>\n",
       "    .dataframe tbody tr th:only-of-type {\n",
       "        vertical-align: middle;\n",
       "    }\n",
       "\n",
       "    .dataframe tbody tr th {\n",
       "        vertical-align: top;\n",
       "    }\n",
       "\n",
       "    .dataframe thead th {\n",
       "        text-align: right;\n",
       "    }\n",
       "</style>\n",
       "<table border=\"1\" class=\"dataframe\">\n",
       "  <thead>\n",
       "    <tr style=\"text-align: right;\">\n",
       "      <th></th>\n",
       "      <th>tipo_imovel_alugado</th>\n",
       "      <th>tipo_imovel_financiado</th>\n",
       "      <th>tipo_imovel_outro</th>\n",
       "      <th>tipo_imovel_proprio</th>\n",
       "      <th>motivo_emprestimo_ensino</th>\n",
       "      <th>motivo_emprestimo_pessoal</th>\n",
       "      <th>motivo_emprestimo_quitar</th>\n",
       "      <th>motivo_emprestimo_reforma</th>\n",
       "      <th>motivo_emprestimo_risco</th>\n",
       "      <th>motivo_emprestimo_saude</th>\n",
       "      <th>grupo_A</th>\n",
       "      <th>grupo_B</th>\n",
       "      <th>grupo_C</th>\n",
       "      <th>grupo_D</th>\n",
       "      <th>grupo_E</th>\n",
       "      <th>grupo_F</th>\n",
       "      <th>grupo_G</th>\n",
       "    </tr>\n",
       "  </thead>\n",
       "  <tbody>\n",
       "    <tr>\n",
       "      <th>0</th>\n",
       "      <td>1</td>\n",
       "      <td>0</td>\n",
       "      <td>0</td>\n",
       "      <td>0</td>\n",
       "      <td>1</td>\n",
       "      <td>0</td>\n",
       "      <td>0</td>\n",
       "      <td>0</td>\n",
       "      <td>0</td>\n",
       "      <td>0</td>\n",
       "      <td>0</td>\n",
       "      <td>1</td>\n",
       "      <td>0</td>\n",
       "      <td>0</td>\n",
       "      <td>0</td>\n",
       "      <td>0</td>\n",
       "      <td>0</td>\n",
       "    </tr>\n",
       "    <tr>\n",
       "      <th>1</th>\n",
       "      <td>0</td>\n",
       "      <td>1</td>\n",
       "      <td>0</td>\n",
       "      <td>0</td>\n",
       "      <td>1</td>\n",
       "      <td>0</td>\n",
       "      <td>0</td>\n",
       "      <td>0</td>\n",
       "      <td>0</td>\n",
       "      <td>0</td>\n",
       "      <td>1</td>\n",
       "      <td>0</td>\n",
       "      <td>0</td>\n",
       "      <td>0</td>\n",
       "      <td>0</td>\n",
       "      <td>0</td>\n",
       "      <td>0</td>\n",
       "    </tr>\n",
       "    <tr>\n",
       "      <th>2</th>\n",
       "      <td>0</td>\n",
       "      <td>1</td>\n",
       "      <td>0</td>\n",
       "      <td>0</td>\n",
       "      <td>0</td>\n",
       "      <td>0</td>\n",
       "      <td>0</td>\n",
       "      <td>0</td>\n",
       "      <td>0</td>\n",
       "      <td>1</td>\n",
       "      <td>0</td>\n",
       "      <td>0</td>\n",
       "      <td>1</td>\n",
       "      <td>0</td>\n",
       "      <td>0</td>\n",
       "      <td>0</td>\n",
       "      <td>0</td>\n",
       "    </tr>\n",
       "    <tr>\n",
       "      <th>3</th>\n",
       "      <td>1</td>\n",
       "      <td>0</td>\n",
       "      <td>0</td>\n",
       "      <td>0</td>\n",
       "      <td>0</td>\n",
       "      <td>0</td>\n",
       "      <td>0</td>\n",
       "      <td>0</td>\n",
       "      <td>0</td>\n",
       "      <td>1</td>\n",
       "      <td>0</td>\n",
       "      <td>1</td>\n",
       "      <td>0</td>\n",
       "      <td>0</td>\n",
       "      <td>0</td>\n",
       "      <td>0</td>\n",
       "      <td>0</td>\n",
       "    </tr>\n",
       "    <tr>\n",
       "      <th>4</th>\n",
       "      <td>1</td>\n",
       "      <td>0</td>\n",
       "      <td>0</td>\n",
       "      <td>0</td>\n",
       "      <td>0</td>\n",
       "      <td>0</td>\n",
       "      <td>1</td>\n",
       "      <td>0</td>\n",
       "      <td>0</td>\n",
       "      <td>0</td>\n",
       "      <td>1</td>\n",
       "      <td>0</td>\n",
       "      <td>0</td>\n",
       "      <td>0</td>\n",
       "      <td>0</td>\n",
       "      <td>0</td>\n",
       "      <td>0</td>\n",
       "    </tr>\n",
       "    <tr>\n",
       "      <th>...</th>\n",
       "      <td>...</td>\n",
       "      <td>...</td>\n",
       "      <td>...</td>\n",
       "      <td>...</td>\n",
       "      <td>...</td>\n",
       "      <td>...</td>\n",
       "      <td>...</td>\n",
       "      <td>...</td>\n",
       "      <td>...</td>\n",
       "      <td>...</td>\n",
       "      <td>...</td>\n",
       "      <td>...</td>\n",
       "      <td>...</td>\n",
       "      <td>...</td>\n",
       "      <td>...</td>\n",
       "      <td>...</td>\n",
       "      <td>...</td>\n",
       "    </tr>\n",
       "    <tr>\n",
       "      <th>34473</th>\n",
       "      <td>1</td>\n",
       "      <td>0</td>\n",
       "      <td>0</td>\n",
       "      <td>0</td>\n",
       "      <td>0</td>\n",
       "      <td>0</td>\n",
       "      <td>0</td>\n",
       "      <td>0</td>\n",
       "      <td>0</td>\n",
       "      <td>1</td>\n",
       "      <td>0</td>\n",
       "      <td>0</td>\n",
       "      <td>0</td>\n",
       "      <td>1</td>\n",
       "      <td>0</td>\n",
       "      <td>0</td>\n",
       "      <td>0</td>\n",
       "    </tr>\n",
       "    <tr>\n",
       "      <th>34474</th>\n",
       "      <td>0</td>\n",
       "      <td>1</td>\n",
       "      <td>0</td>\n",
       "      <td>0</td>\n",
       "      <td>0</td>\n",
       "      <td>0</td>\n",
       "      <td>0</td>\n",
       "      <td>1</td>\n",
       "      <td>0</td>\n",
       "      <td>0</td>\n",
       "      <td>1</td>\n",
       "      <td>0</td>\n",
       "      <td>0</td>\n",
       "      <td>0</td>\n",
       "      <td>0</td>\n",
       "      <td>0</td>\n",
       "      <td>0</td>\n",
       "    </tr>\n",
       "    <tr>\n",
       "      <th>34475</th>\n",
       "      <td>0</td>\n",
       "      <td>1</td>\n",
       "      <td>0</td>\n",
       "      <td>0</td>\n",
       "      <td>0</td>\n",
       "      <td>0</td>\n",
       "      <td>1</td>\n",
       "      <td>0</td>\n",
       "      <td>0</td>\n",
       "      <td>0</td>\n",
       "      <td>1</td>\n",
       "      <td>0</td>\n",
       "      <td>0</td>\n",
       "      <td>0</td>\n",
       "      <td>0</td>\n",
       "      <td>0</td>\n",
       "      <td>0</td>\n",
       "    </tr>\n",
       "    <tr>\n",
       "      <th>34476</th>\n",
       "      <td>0</td>\n",
       "      <td>1</td>\n",
       "      <td>0</td>\n",
       "      <td>0</td>\n",
       "      <td>0</td>\n",
       "      <td>0</td>\n",
       "      <td>0</td>\n",
       "      <td>0</td>\n",
       "      <td>0</td>\n",
       "      <td>1</td>\n",
       "      <td>0</td>\n",
       "      <td>0</td>\n",
       "      <td>1</td>\n",
       "      <td>0</td>\n",
       "      <td>0</td>\n",
       "      <td>0</td>\n",
       "      <td>0</td>\n",
       "    </tr>\n",
       "    <tr>\n",
       "      <th>34477</th>\n",
       "      <td>1</td>\n",
       "      <td>0</td>\n",
       "      <td>0</td>\n",
       "      <td>0</td>\n",
       "      <td>1</td>\n",
       "      <td>0</td>\n",
       "      <td>0</td>\n",
       "      <td>0</td>\n",
       "      <td>0</td>\n",
       "      <td>0</td>\n",
       "      <td>0</td>\n",
       "      <td>1</td>\n",
       "      <td>0</td>\n",
       "      <td>0</td>\n",
       "      <td>0</td>\n",
       "      <td>0</td>\n",
       "      <td>0</td>\n",
       "    </tr>\n",
       "  </tbody>\n",
       "</table>\n",
       "<p>34478 rows × 17 columns</p>\n",
       "</div>"
      ],
      "text/plain": [
       "       tipo_imovel_alugado  tipo_imovel_financiado  tipo_imovel_outro  \\\n",
       "0                        1                       0                  0   \n",
       "1                        0                       1                  0   \n",
       "2                        0                       1                  0   \n",
       "3                        1                       0                  0   \n",
       "4                        1                       0                  0   \n",
       "...                    ...                     ...                ...   \n",
       "34473                    1                       0                  0   \n",
       "34474                    0                       1                  0   \n",
       "34475                    0                       1                  0   \n",
       "34476                    0                       1                  0   \n",
       "34477                    1                       0                  0   \n",
       "\n",
       "       tipo_imovel_proprio  motivo_emprestimo_ensino  \\\n",
       "0                        0                         1   \n",
       "1                        0                         1   \n",
       "2                        0                         0   \n",
       "3                        0                         0   \n",
       "4                        0                         0   \n",
       "...                    ...                       ...   \n",
       "34473                    0                         0   \n",
       "34474                    0                         0   \n",
       "34475                    0                         0   \n",
       "34476                    0                         0   \n",
       "34477                    0                         1   \n",
       "\n",
       "       motivo_emprestimo_pessoal  motivo_emprestimo_quitar  \\\n",
       "0                              0                         0   \n",
       "1                              0                         0   \n",
       "2                              0                         0   \n",
       "3                              0                         0   \n",
       "4                              0                         1   \n",
       "...                          ...                       ...   \n",
       "34473                          0                         0   \n",
       "34474                          0                         0   \n",
       "34475                          0                         1   \n",
       "34476                          0                         0   \n",
       "34477                          0                         0   \n",
       "\n",
       "       motivo_emprestimo_reforma  motivo_emprestimo_risco  \\\n",
       "0                              0                        0   \n",
       "1                              0                        0   \n",
       "2                              0                        0   \n",
       "3                              0                        0   \n",
       "4                              0                        0   \n",
       "...                          ...                      ...   \n",
       "34473                          0                        0   \n",
       "34474                          1                        0   \n",
       "34475                          0                        0   \n",
       "34476                          0                        0   \n",
       "34477                          0                        0   \n",
       "\n",
       "       motivo_emprestimo_saude  grupo_A  grupo_B  grupo_C  grupo_D  grupo_E  \\\n",
       "0                            0        0        1        0        0        0   \n",
       "1                            0        1        0        0        0        0   \n",
       "2                            1        0        0        1        0        0   \n",
       "3                            1        0        1        0        0        0   \n",
       "4                            0        1        0        0        0        0   \n",
       "...                        ...      ...      ...      ...      ...      ...   \n",
       "34473                        1        0        0        0        1        0   \n",
       "34474                        0        1        0        0        0        0   \n",
       "34475                        0        1        0        0        0        0   \n",
       "34476                        1        0        0        1        0        0   \n",
       "34477                        0        0        1        0        0        0   \n",
       "\n",
       "       grupo_F  grupo_G  \n",
       "0            0        0  \n",
       "1            0        0  \n",
       "2            0        0  \n",
       "3            0        0  \n",
       "4            0        0  \n",
       "...        ...      ...  \n",
       "34473        0        0  \n",
       "34474        0        0  \n",
       "34475        0        0  \n",
       "34476        0        0  \n",
       "34477        0        0  \n",
       "\n",
       "[34478 rows x 17 columns]"
      ]
     },
     "execution_count": 24,
     "metadata": {},
     "output_type": "execute_result"
    }
   ],
   "source": [
    "df_dummies = pd.get_dummies(dados.drop(['id_cliente', 'id_emprestimo', 'id_historico', \n",
    "        'idade', 'salario', 'tempo_trabalhando',\n",
    "       'valor_emprestimo', 'juros', 'emp_sal', 'tempo_cliente',\n",
    "       'INADIMPLENCIA', 'RISCO_INADIMPLENCIA'], axis = 1))\n",
    "df_dummies"
   ]
  },
  {
   "cell_type": "code",
   "execution_count": 25,
   "id": "61e486cf",
   "metadata": {},
   "outputs": [],
   "source": [
    "df_modificado = dados[['id_cliente', 'id_emprestimo', 'id_historico', \n",
    "        'idade', 'salario', 'tempo_trabalhando',\n",
    "       'valor_emprestimo', 'juros', 'emp_sal', 'tempo_cliente',\n",
    "       'INADIMPLENCIA', 'RISCO_INADIMPLENCIA']]"
   ]
  },
  {
   "cell_type": "code",
   "execution_count": 26,
   "id": "63fa2131",
   "metadata": {},
   "outputs": [
    {
     "data": {
      "text/html": [
       "<div>\n",
       "<style scoped>\n",
       "    .dataframe tbody tr th:only-of-type {\n",
       "        vertical-align: middle;\n",
       "    }\n",
       "\n",
       "    .dataframe tbody tr th {\n",
       "        vertical-align: top;\n",
       "    }\n",
       "\n",
       "    .dataframe thead th {\n",
       "        text-align: right;\n",
       "    }\n",
       "</style>\n",
       "<table border=\"1\" class=\"dataframe\">\n",
       "  <thead>\n",
       "    <tr style=\"text-align: right;\">\n",
       "      <th></th>\n",
       "      <th>id_cliente</th>\n",
       "      <th>id_emprestimo</th>\n",
       "      <th>id_historico</th>\n",
       "      <th>idade</th>\n",
       "      <th>salario</th>\n",
       "      <th>tempo_trabalhando</th>\n",
       "      <th>valor_emprestimo</th>\n",
       "      <th>juros</th>\n",
       "      <th>emp_sal</th>\n",
       "      <th>tempo_cliente</th>\n",
       "      <th>...</th>\n",
       "      <th>motivo_emprestimo_reforma</th>\n",
       "      <th>motivo_emprestimo_risco</th>\n",
       "      <th>motivo_emprestimo_saude</th>\n",
       "      <th>grupo_A</th>\n",
       "      <th>grupo_B</th>\n",
       "      <th>grupo_C</th>\n",
       "      <th>grupo_D</th>\n",
       "      <th>grupo_E</th>\n",
       "      <th>grupo_F</th>\n",
       "      <th>grupo_G</th>\n",
       "    </tr>\n",
       "  </thead>\n",
       "  <tbody>\n",
       "    <tr>\n",
       "      <th>0</th>\n",
       "      <td>AspC7qDK-5Esh</td>\n",
       "      <td>kZHfWgGv-0dWJ</td>\n",
       "      <td>UwfbzeaW-9tQt</td>\n",
       "      <td>21.0</td>\n",
       "      <td>60000.0</td>\n",
       "      <td>2.0</td>\n",
       "      <td>8000.0</td>\n",
       "      <td>11.26</td>\n",
       "      <td>0.13</td>\n",
       "      <td>3.0</td>\n",
       "      <td>...</td>\n",
       "      <td>0</td>\n",
       "      <td>0</td>\n",
       "      <td>0</td>\n",
       "      <td>0</td>\n",
       "      <td>1</td>\n",
       "      <td>0</td>\n",
       "      <td>0</td>\n",
       "      <td>0</td>\n",
       "      <td>0</td>\n",
       "      <td>0</td>\n",
       "    </tr>\n",
       "    <tr>\n",
       "      <th>1</th>\n",
       "      <td>2NjYU2iT-fGSm</td>\n",
       "      <td>j7elJxsY-eTEQ</td>\n",
       "      <td>viRQ2WYn-yJ2G</td>\n",
       "      <td>40.0</td>\n",
       "      <td>70000.0</td>\n",
       "      <td>6.0</td>\n",
       "      <td>18000.0</td>\n",
       "      <td>7.90</td>\n",
       "      <td>0.26</td>\n",
       "      <td>14.0</td>\n",
       "      <td>...</td>\n",
       "      <td>0</td>\n",
       "      <td>0</td>\n",
       "      <td>0</td>\n",
       "      <td>1</td>\n",
       "      <td>0</td>\n",
       "      <td>0</td>\n",
       "      <td>0</td>\n",
       "      <td>0</td>\n",
       "      <td>0</td>\n",
       "      <td>0</td>\n",
       "    </tr>\n",
       "    <tr>\n",
       "      <th>2</th>\n",
       "      <td>nTOKgZCT-YPUD</td>\n",
       "      <td>t9dKvc6a-4eAL</td>\n",
       "      <td>IEHObaim-KPC9</td>\n",
       "      <td>29.0</td>\n",
       "      <td>115000.0</td>\n",
       "      <td>3.0</td>\n",
       "      <td>22000.0</td>\n",
       "      <td>15.23</td>\n",
       "      <td>0.19</td>\n",
       "      <td>7.0</td>\n",
       "      <td>...</td>\n",
       "      <td>0</td>\n",
       "      <td>0</td>\n",
       "      <td>1</td>\n",
       "      <td>0</td>\n",
       "      <td>0</td>\n",
       "      <td>1</td>\n",
       "      <td>0</td>\n",
       "      <td>0</td>\n",
       "      <td>0</td>\n",
       "      <td>0</td>\n",
       "    </tr>\n",
       "    <tr>\n",
       "      <th>3</th>\n",
       "      <td>J3jGNZeh-OzZE</td>\n",
       "      <td>NaelpPC5-t2kz</td>\n",
       "      <td>GvqL52S8-S8OH</td>\n",
       "      <td>26.0</td>\n",
       "      <td>84996.0</td>\n",
       "      <td>0.0</td>\n",
       "      <td>9000.0</td>\n",
       "      <td>11.26</td>\n",
       "      <td>0.11</td>\n",
       "      <td>2.0</td>\n",
       "      <td>...</td>\n",
       "      <td>0</td>\n",
       "      <td>0</td>\n",
       "      <td>1</td>\n",
       "      <td>0</td>\n",
       "      <td>1</td>\n",
       "      <td>0</td>\n",
       "      <td>0</td>\n",
       "      <td>0</td>\n",
       "      <td>0</td>\n",
       "      <td>0</td>\n",
       "    </tr>\n",
       "    <tr>\n",
       "      <th>4</th>\n",
       "      <td>flpZfspk-bUuL</td>\n",
       "      <td>4NHe4vfi-QLvW</td>\n",
       "      <td>fbc8cPEp-uJEB</td>\n",
       "      <td>23.0</td>\n",
       "      <td>54500.0</td>\n",
       "      <td>2.0</td>\n",
       "      <td>8000.0</td>\n",
       "      <td>11.26</td>\n",
       "      <td>0.15</td>\n",
       "      <td>2.0</td>\n",
       "      <td>...</td>\n",
       "      <td>0</td>\n",
       "      <td>0</td>\n",
       "      <td>0</td>\n",
       "      <td>1</td>\n",
       "      <td>0</td>\n",
       "      <td>0</td>\n",
       "      <td>0</td>\n",
       "      <td>0</td>\n",
       "      <td>0</td>\n",
       "      <td>0</td>\n",
       "    </tr>\n",
       "  </tbody>\n",
       "</table>\n",
       "<p>5 rows × 29 columns</p>\n",
       "</div>"
      ],
      "text/plain": [
       "      id_cliente  id_emprestimo   id_historico  idade   salario  \\\n",
       "0  AspC7qDK-5Esh  kZHfWgGv-0dWJ  UwfbzeaW-9tQt   21.0   60000.0   \n",
       "1  2NjYU2iT-fGSm  j7elJxsY-eTEQ  viRQ2WYn-yJ2G   40.0   70000.0   \n",
       "2  nTOKgZCT-YPUD  t9dKvc6a-4eAL  IEHObaim-KPC9   29.0  115000.0   \n",
       "3  J3jGNZeh-OzZE  NaelpPC5-t2kz  GvqL52S8-S8OH   26.0   84996.0   \n",
       "4  flpZfspk-bUuL  4NHe4vfi-QLvW  fbc8cPEp-uJEB   23.0   54500.0   \n",
       "\n",
       "   tempo_trabalhando  valor_emprestimo  juros  emp_sal  tempo_cliente  ...  \\\n",
       "0                2.0            8000.0  11.26     0.13            3.0  ...   \n",
       "1                6.0           18000.0   7.90     0.26           14.0  ...   \n",
       "2                3.0           22000.0  15.23     0.19            7.0  ...   \n",
       "3                0.0            9000.0  11.26     0.11            2.0  ...   \n",
       "4                2.0            8000.0  11.26     0.15            2.0  ...   \n",
       "\n",
       "   motivo_emprestimo_reforma  motivo_emprestimo_risco  \\\n",
       "0                          0                        0   \n",
       "1                          0                        0   \n",
       "2                          0                        0   \n",
       "3                          0                        0   \n",
       "4                          0                        0   \n",
       "\n",
       "   motivo_emprestimo_saude  grupo_A  grupo_B  grupo_C  grupo_D  grupo_E  \\\n",
       "0                        0        0        1        0        0        0   \n",
       "1                        0        1        0        0        0        0   \n",
       "2                        1        0        0        1        0        0   \n",
       "3                        1        0        1        0        0        0   \n",
       "4                        0        1        0        0        0        0   \n",
       "\n",
       "   grupo_F  grupo_G  \n",
       "0        0        0  \n",
       "1        0        0  \n",
       "2        0        0  \n",
       "3        0        0  \n",
       "4        0        0  \n",
       "\n",
       "[5 rows x 29 columns]"
      ]
     },
     "execution_count": 26,
     "metadata": {},
     "output_type": "execute_result"
    }
   ],
   "source": [
    "dados_final = pd.concat([df_modificado, df_dummies], axis = 1)\n",
    "dados_final.head()"
   ]
  },
  {
   "cell_type": "code",
   "execution_count": 27,
   "id": "d98c3bbf",
   "metadata": {},
   "outputs": [],
   "source": [
    "x = dados_final.drop(['id_cliente', 'id_emprestimo', 'id_historico', 'RISCO_INADIMPLENCIA'], axis = 1)\n",
    "y = dados_final['RISCO_INADIMPLENCIA']"
   ]
  },
  {
   "cell_type": "code",
   "execution_count": 28,
   "id": "a23e9370",
   "metadata": {
    "scrolled": true
   },
   "outputs": [
    {
     "name": "stdout",
     "output_type": "stream",
     "text": [
      "Treinaremos com 25858 elementos e testaremos com 8620 elementos\n",
      "A acurácia do dummy classifier foi 78.20%\n"
     ]
    }
   ],
   "source": [
    "treino_x, teste_x, treino_y, teste_y = train_test_split(x, y, test_size = 0.25, stratify = y)\n",
    "dummy_clf = DummyClassifier()\n",
    "dummy_clf.fit(treino_x, treino_y)\n",
    "acuracia = dummy_clf.score(teste_x, teste_y) * 100\n",
    "print(\"Treinaremos com %d elementos e testaremos com %d elementos\" % (len(treino_x), len(teste_y)))\n",
    "print(\"A acurácia do dummy classifier foi %.2f%%\" % acuracia)"
   ]
  },
  {
   "cell_type": "code",
   "execution_count": 13,
   "id": "1d83fdbd",
   "metadata": {},
   "outputs": [
    {
     "name": "stdout",
     "output_type": "stream",
     "text": [
      "Accuracy com cross validation, cv = 5 = [78.18, 78.21]\n"
     ]
    }
   ],
   "source": [
    "from sklearn.model_selection import cross_val_score\n",
    "bnb = BernoulliNB(binarize=bina)\n",
    "clf = bnb.fit(treino_x, treino_y)\n",
    "previsoes = bnb.predict(teste_x)\n",
    "media = cross_val_score(clf, treino_x, treino_y, cv=5).mean()\n",
    "desvio_padrao = cross_val_score(clf, treino_x, treino_y, cv=5).std()\n",
    "print(\"Accuracy com cross validation, cv = 5 = [%.2f, %.2f]\" % ((media - 2 * desvio_padrao)*100, (media + 2 * desvio_padrao) * 100))"
   ]
  },
  {
   "cell_type": "code",
   "execution_count": 14,
   "id": "ff3e92b7",
   "metadata": {},
   "outputs": [
    {
     "data": {
      "text/plain": [
       "{'fit_time': array([0.03317833, 0.0265336 , 0.02280188, 0.03059816, 0.0170753 ]),\n",
       " 'score_time': array([0.00691557, 0.00751758, 0.00395942, 0.00609756, 0.00969458]),\n",
       " 'test_score': array([0.78204756, 0.78190255, 0.78190255, 0.78201595, 0.78201595])}"
      ]
     },
     "execution_count": 14,
     "metadata": {},
     "output_type": "execute_result"
    }
   ],
   "source": [
    "cross_validate(modelo, x, y, cv = 5)"
   ]
  },
  {
   "cell_type": "code",
   "execution_count": 15,
   "id": "07e1a1d8",
   "metadata": {},
   "outputs": [
    {
     "data": {
      "text/plain": [
       "array([0.78190255, 0.78190255, 0.78190255, 0.78205376, 0.78205376])"
      ]
     },
     "execution_count": 15,
     "metadata": {},
     "output_type": "execute_result"
    }
   ],
   "source": [
    "cross_val_score(clf, treino_x, treino_y, cv=5)"
   ]
  },
  {
   "cell_type": "code",
   "execution_count": 16,
   "id": "a6ecae8e",
   "metadata": {},
   "outputs": [
    {
     "data": {
      "text/plain": [
       "array([0., 0., 0., 0., 0.])"
      ]
     },
     "execution_count": 16,
     "metadata": {},
     "output_type": "execute_result"
    }
   ],
   "source": [
    "cross_val_score(clf, treino_x, treino_y, cv=5, scoring='f1')"
   ]
  },
  {
   "cell_type": "code",
   "execution_count": 17,
   "id": "204a5083",
   "metadata": {},
   "outputs": [
    {
     "data": {
      "text/plain": [
       "array([0.78190255, 0.78190255, 0.78190255, 0.78205376, 0.78205376])"
      ]
     },
     "execution_count": 17,
     "metadata": {},
     "output_type": "execute_result"
    }
   ],
   "source": [
    "cross_val_score(clf, treino_x, treino_y, cv=5, scoring='accuracy')"
   ]
  },
  {
   "cell_type": "code",
   "execution_count": 18,
   "id": "c8dcfeab",
   "metadata": {},
   "outputs": [
    {
     "data": {
      "text/plain": [
       "array([0.27113834, 0.27097973, 0.26302645, 0.27406805, 0.26771217])"
      ]
     },
     "execution_count": 18,
     "metadata": {},
     "output_type": "execute_result"
    }
   ],
   "source": [
    "cross_val_score(clf, treino_x, treino_y, cv=5, scoring='average_precision')"
   ]
  },
  {
   "cell_type": "code",
   "execution_count": 20,
   "id": "be15dd38",
   "metadata": {},
   "outputs": [
    {
     "data": {
      "text/plain": [
       "array([0., 0., 0., 0., 0.])"
      ]
     },
     "execution_count": 20,
     "metadata": {},
     "output_type": "execute_result"
    }
   ],
   "source": [
    "cross_val_score(clf, treino_x, treino_y, cv=5, scoring='recall')"
   ]
  },
  {
   "cell_type": "code",
   "execution_count": 21,
   "id": "60ee5c40",
   "metadata": {},
   "outputs": [
    {
     "data": {
      "text/plain": [
       "array([0.61440335, 0.61631495, 0.60250147, 0.62164351, 0.61191029])"
      ]
     },
     "execution_count": 21,
     "metadata": {},
     "output_type": "execute_result"
    }
   ],
   "source": [
    "cross_val_score(clf, treino_x, treino_y, cv=5, scoring='roc_auc')"
   ]
  },
  {
   "cell_type": "code",
   "execution_count": 22,
   "id": "73fd123f",
   "metadata": {},
   "outputs": [
    {
     "data": {
      "image/png": "[encoded data removed]",
      "text/plain": [
       "<Figure size 432x288 with 1 Axes>"
      ]
     },
     "metadata": {
      "needs_background": "light"
     },
     "output_type": "display_data"
    }
   ],
   "source": [
    "from sklearn.metrics import RocCurveDisplay\n",
    "clf_disp = RocCurveDisplay.from_estimator(clf, teste_x, teste_y)"
   ]
  },
  {
   "cell_type": "code",
   "execution_count": 23,
   "id": "f1b8d3fb",
   "metadata": {},
   "outputs": [
    {
     "name": "stdout",
     "output_type": "stream",
     "text": [
      "[[6741    0]\n",
      " [1879    0]]\n"
     ]
    }
   ],
   "source": [
    "from sklearn.metrics import confusion_matrix\n",
    "print(confusion_matrix(teste_y, previsoes))"
   ]
  },
  {
   "cell_type": "markdown",
   "id": "2d6b2251",
   "metadata": {},
   "source": [
    "## Agora transformando os dados categóricos"
   ]
  },
  {
   "cell_type": "code",
   "execution_count": 24,
   "id": "5808f7aa",
   "metadata": {},
   "outputs": [
    {
     "data": {
      "text/html": [
       "<div>\n",
       "<style scoped>\n",
       "    .dataframe tbody tr th:only-of-type {\n",
       "        vertical-align: middle;\n",
       "    }\n",
       "\n",
       "    .dataframe tbody tr th {\n",
       "        vertical-align: top;\n",
       "    }\n",
       "\n",
       "    .dataframe thead th {\n",
       "        text-align: right;\n",
       "    }\n",
       "</style>\n",
       "<table border=\"1\" class=\"dataframe\">\n",
       "  <thead>\n",
       "    <tr style=\"text-align: right;\">\n",
       "      <th></th>\n",
       "      <th>tipo_imovel_alugado</th>\n",
       "      <th>tipo_imovel_financiado</th>\n",
       "      <th>tipo_imovel_outro</th>\n",
       "      <th>tipo_imovel_proprio</th>\n",
       "      <th>motivo_emprestimo_ensino</th>\n",
       "      <th>motivo_emprestimo_pessoal</th>\n",
       "      <th>motivo_emprestimo_quitar</th>\n",
       "      <th>motivo_emprestimo_reforma</th>\n",
       "      <th>motivo_emprestimo_risco</th>\n",
       "      <th>motivo_emprestimo_saude</th>\n",
       "      <th>grupo_A</th>\n",
       "      <th>grupo_B</th>\n",
       "      <th>grupo_C</th>\n",
       "      <th>grupo_D</th>\n",
       "      <th>grupo_E</th>\n",
       "      <th>grupo_F</th>\n",
       "      <th>grupo_G</th>\n",
       "    </tr>\n",
       "  </thead>\n",
       "  <tbody>\n",
       "    <tr>\n",
       "      <th>0</th>\n",
       "      <td>1</td>\n",
       "      <td>0</td>\n",
       "      <td>0</td>\n",
       "      <td>0</td>\n",
       "      <td>1</td>\n",
       "      <td>0</td>\n",
       "      <td>0</td>\n",
       "      <td>0</td>\n",
       "      <td>0</td>\n",
       "      <td>0</td>\n",
       "      <td>0</td>\n",
       "      <td>1</td>\n",
       "      <td>0</td>\n",
       "      <td>0</td>\n",
       "      <td>0</td>\n",
       "      <td>0</td>\n",
       "      <td>0</td>\n",
       "    </tr>\n",
       "    <tr>\n",
       "      <th>1</th>\n",
       "      <td>0</td>\n",
       "      <td>1</td>\n",
       "      <td>0</td>\n",
       "      <td>0</td>\n",
       "      <td>1</td>\n",
       "      <td>0</td>\n",
       "      <td>0</td>\n",
       "      <td>0</td>\n",
       "      <td>0</td>\n",
       "      <td>0</td>\n",
       "      <td>1</td>\n",
       "      <td>0</td>\n",
       "      <td>0</td>\n",
       "      <td>0</td>\n",
       "      <td>0</td>\n",
       "      <td>0</td>\n",
       "      <td>0</td>\n",
       "    </tr>\n",
       "    <tr>\n",
       "      <th>2</th>\n",
       "      <td>0</td>\n",
       "      <td>1</td>\n",
       "      <td>0</td>\n",
       "      <td>0</td>\n",
       "      <td>0</td>\n",
       "      <td>0</td>\n",
       "      <td>0</td>\n",
       "      <td>0</td>\n",
       "      <td>0</td>\n",
       "      <td>1</td>\n",
       "      <td>0</td>\n",
       "      <td>0</td>\n",
       "      <td>1</td>\n",
       "      <td>0</td>\n",
       "      <td>0</td>\n",
       "      <td>0</td>\n",
       "      <td>0</td>\n",
       "    </tr>\n",
       "    <tr>\n",
       "      <th>3</th>\n",
       "      <td>1</td>\n",
       "      <td>0</td>\n",
       "      <td>0</td>\n",
       "      <td>0</td>\n",
       "      <td>0</td>\n",
       "      <td>0</td>\n",
       "      <td>0</td>\n",
       "      <td>0</td>\n",
       "      <td>0</td>\n",
       "      <td>1</td>\n",
       "      <td>0</td>\n",
       "      <td>1</td>\n",
       "      <td>0</td>\n",
       "      <td>0</td>\n",
       "      <td>0</td>\n",
       "      <td>0</td>\n",
       "      <td>0</td>\n",
       "    </tr>\n",
       "    <tr>\n",
       "      <th>4</th>\n",
       "      <td>1</td>\n",
       "      <td>0</td>\n",
       "      <td>0</td>\n",
       "      <td>0</td>\n",
       "      <td>0</td>\n",
       "      <td>0</td>\n",
       "      <td>1</td>\n",
       "      <td>0</td>\n",
       "      <td>0</td>\n",
       "      <td>0</td>\n",
       "      <td>1</td>\n",
       "      <td>0</td>\n",
       "      <td>0</td>\n",
       "      <td>0</td>\n",
       "      <td>0</td>\n",
       "      <td>0</td>\n",
       "      <td>0</td>\n",
       "    </tr>\n",
       "    <tr>\n",
       "      <th>...</th>\n",
       "      <td>...</td>\n",
       "      <td>...</td>\n",
       "      <td>...</td>\n",
       "      <td>...</td>\n",
       "      <td>...</td>\n",
       "      <td>...</td>\n",
       "      <td>...</td>\n",
       "      <td>...</td>\n",
       "      <td>...</td>\n",
       "      <td>...</td>\n",
       "      <td>...</td>\n",
       "      <td>...</td>\n",
       "      <td>...</td>\n",
       "      <td>...</td>\n",
       "      <td>...</td>\n",
       "      <td>...</td>\n",
       "      <td>...</td>\n",
       "    </tr>\n",
       "    <tr>\n",
       "      <th>34473</th>\n",
       "      <td>1</td>\n",
       "      <td>0</td>\n",
       "      <td>0</td>\n",
       "      <td>0</td>\n",
       "      <td>0</td>\n",
       "      <td>0</td>\n",
       "      <td>0</td>\n",
       "      <td>0</td>\n",
       "      <td>0</td>\n",
       "      <td>1</td>\n",
       "      <td>0</td>\n",
       "      <td>0</td>\n",
       "      <td>0</td>\n",
       "      <td>1</td>\n",
       "      <td>0</td>\n",
       "      <td>0</td>\n",
       "      <td>0</td>\n",
       "    </tr>\n",
       "    <tr>\n",
       "      <th>34474</th>\n",
       "      <td>0</td>\n",
       "      <td>1</td>\n",
       "      <td>0</td>\n",
       "      <td>0</td>\n",
       "      <td>0</td>\n",
       "      <td>0</td>\n",
       "      <td>0</td>\n",
       "      <td>1</td>\n",
       "      <td>0</td>\n",
       "      <td>0</td>\n",
       "      <td>1</td>\n",
       "      <td>0</td>\n",
       "      <td>0</td>\n",
       "      <td>0</td>\n",
       "      <td>0</td>\n",
       "      <td>0</td>\n",
       "      <td>0</td>\n",
       "    </tr>\n",
       "    <tr>\n",
       "      <th>34475</th>\n",
       "      <td>0</td>\n",
       "      <td>1</td>\n",
       "      <td>0</td>\n",
       "      <td>0</td>\n",
       "      <td>0</td>\n",
       "      <td>0</td>\n",
       "      <td>1</td>\n",
       "      <td>0</td>\n",
       "      <td>0</td>\n",
       "      <td>0</td>\n",
       "      <td>1</td>\n",
       "      <td>0</td>\n",
       "      <td>0</td>\n",
       "      <td>0</td>\n",
       "      <td>0</td>\n",
       "      <td>0</td>\n",
       "      <td>0</td>\n",
       "    </tr>\n",
       "    <tr>\n",
       "      <th>34476</th>\n",
       "      <td>0</td>\n",
       "      <td>1</td>\n",
       "      <td>0</td>\n",
       "      <td>0</td>\n",
       "      <td>0</td>\n",
       "      <td>0</td>\n",
       "      <td>0</td>\n",
       "      <td>0</td>\n",
       "      <td>0</td>\n",
       "      <td>1</td>\n",
       "      <td>0</td>\n",
       "      <td>0</td>\n",
       "      <td>1</td>\n",
       "      <td>0</td>\n",
       "      <td>0</td>\n",
       "      <td>0</td>\n",
       "      <td>0</td>\n",
       "    </tr>\n",
       "    <tr>\n",
       "      <th>34477</th>\n",
       "      <td>1</td>\n",
       "      <td>0</td>\n",
       "      <td>0</td>\n",
       "      <td>0</td>\n",
       "      <td>1</td>\n",
       "      <td>0</td>\n",
       "      <td>0</td>\n",
       "      <td>0</td>\n",
       "      <td>0</td>\n",
       "      <td>0</td>\n",
       "      <td>0</td>\n",
       "      <td>1</td>\n",
       "      <td>0</td>\n",
       "      <td>0</td>\n",
       "      <td>0</td>\n",
       "      <td>0</td>\n",
       "      <td>0</td>\n",
       "    </tr>\n",
       "  </tbody>\n",
       "</table>\n",
       "<p>34478 rows × 17 columns</p>\n",
       "</div>"
      ],
      "text/plain": [
       "       tipo_imovel_alugado  tipo_imovel_financiado  tipo_imovel_outro  \\\n",
       "0                        1                       0                  0   \n",
       "1                        0                       1                  0   \n",
       "2                        0                       1                  0   \n",
       "3                        1                       0                  0   \n",
       "4                        1                       0                  0   \n",
       "...                    ...                     ...                ...   \n",
       "34473                    1                       0                  0   \n",
       "34474                    0                       1                  0   \n",
       "34475                    0                       1                  0   \n",
       "34476                    0                       1                  0   \n",
       "34477                    1                       0                  0   \n",
       "\n",
       "       tipo_imovel_proprio  motivo_emprestimo_ensino  \\\n",
       "0                        0                         1   \n",
       "1                        0                         1   \n",
       "2                        0                         0   \n",
       "3                        0                         0   \n",
       "4                        0                         0   \n",
       "...                    ...                       ...   \n",
       "34473                    0                         0   \n",
       "34474                    0                         0   \n",
       "34475                    0                         0   \n",
       "34476                    0                         0   \n",
       "34477                    0                         1   \n",
       "\n",
       "       motivo_emprestimo_pessoal  motivo_emprestimo_quitar  \\\n",
       "0                              0                         0   \n",
       "1                              0                         0   \n",
       "2                              0                         0   \n",
       "3                              0                         0   \n",
       "4                              0                         1   \n",
       "...                          ...                       ...   \n",
       "34473                          0                         0   \n",
       "34474                          0                         0   \n",
       "34475                          0                         1   \n",
       "34476                          0                         0   \n",
       "34477                          0                         0   \n",
       "\n",
       "       motivo_emprestimo_reforma  motivo_emprestimo_risco  \\\n",
       "0                              0                        0   \n",
       "1                              0                        0   \n",
       "2                              0                        0   \n",
       "3                              0                        0   \n",
       "4                              0                        0   \n",
       "...                          ...                      ...   \n",
       "34473                          0                        0   \n",
       "34474                          1                        0   \n",
       "34475                          0                        0   \n",
       "34476                          0                        0   \n",
       "34477                          0                        0   \n",
       "\n",
       "       motivo_emprestimo_saude  grupo_A  grupo_B  grupo_C  grupo_D  grupo_E  \\\n",
       "0                            0        0        1        0        0        0   \n",
       "1                            0        1        0        0        0        0   \n",
       "2                            1        0        0        1        0        0   \n",
       "3                            1        0        1        0        0        0   \n",
       "4                            0        1        0        0        0        0   \n",
       "...                        ...      ...      ...      ...      ...      ...   \n",
       "34473                        1        0        0        0        1        0   \n",
       "34474                        0        1        0        0        0        0   \n",
       "34475                        0        1        0        0        0        0   \n",
       "34476                        1        0        0        1        0        0   \n",
       "34477                        0        0        1        0        0        0   \n",
       "\n",
       "       grupo_F  grupo_G  \n",
       "0            0        0  \n",
       "1            0        0  \n",
       "2            0        0  \n",
       "3            0        0  \n",
       "4            0        0  \n",
       "...        ...      ...  \n",
       "34473        0        0  \n",
       "34474        0        0  \n",
       "34475        0        0  \n",
       "34476        0        0  \n",
       "34477        0        0  \n",
       "\n",
       "[34478 rows x 17 columns]"
      ]
     },
     "execution_count": 24,
     "metadata": {},
     "output_type": "execute_result"
    }
   ],
   "source": [
    "df_dummies = pd.get_dummies(dados.drop(['id_cliente', 'id_emprestimo', 'id_historico', \n",
    "        'idade', 'salario', 'tempo_trabalhando',\n",
    "       'valor_emprestimo', 'juros', 'emp_sal', 'tempo_cliente',\n",
    "       'INADIMPLENCIA', 'RISCO_INADIMPLENCIA'], axis = 1))\n",
    "df_dummies"
   ]
  },
  {
   "cell_type": "code",
   "execution_count": 25,
   "id": "dc588b70",
   "metadata": {},
   "outputs": [],
   "source": [
    "df_modificado = dados[['id_cliente', 'id_emprestimo', 'id_historico', \n",
    "        'idade', 'salario', 'tempo_trabalhando',\n",
    "       'valor_emprestimo', 'juros', 'emp_sal', 'tempo_cliente',\n",
    "       'INADIMPLENCIA', 'RISCO_INADIMPLENCIA']]"
   ]
  },
  {
   "cell_type": "code",
   "execution_count": 26,
   "id": "4721c000",
   "metadata": {},
   "outputs": [
    {
     "data": {
      "text/html": [
       "<div>\n",
       "<style scoped>\n",
       "    .dataframe tbody tr th:only-of-type {\n",
       "        vertical-align: middle;\n",
       "    }\n",
       "\n",
       "    .dataframe tbody tr th {\n",
       "        vertical-align: top;\n",
       "    }\n",
       "\n",
       "    .dataframe thead th {\n",
       "        text-align: right;\n",
       "    }\n",
       "</style>\n",
       "<table border=\"1\" class=\"dataframe\">\n",
       "  <thead>\n",
       "    <tr style=\"text-align: right;\">\n",
       "      <th></th>\n",
       "      <th>id_cliente</th>\n",
       "      <th>id_emprestimo</th>\n",
       "      <th>id_historico</th>\n",
       "      <th>idade</th>\n",
       "      <th>salario</th>\n",
       "      <th>tempo_trabalhando</th>\n",
       "      <th>valor_emprestimo</th>\n",
       "      <th>juros</th>\n",
       "      <th>emp_sal</th>\n",
       "      <th>tempo_cliente</th>\n",
       "      <th>...</th>\n",
       "      <th>motivo_emprestimo_reforma</th>\n",
       "      <th>motivo_emprestimo_risco</th>\n",
       "      <th>motivo_emprestimo_saude</th>\n",
       "      <th>grupo_A</th>\n",
       "      <th>grupo_B</th>\n",
       "      <th>grupo_C</th>\n",
       "      <th>grupo_D</th>\n",
       "      <th>grupo_E</th>\n",
       "      <th>grupo_F</th>\n",
       "      <th>grupo_G</th>\n",
       "    </tr>\n",
       "  </thead>\n",
       "  <tbody>\n",
       "    <tr>\n",
       "      <th>0</th>\n",
       "      <td>AspC7qDK-5Esh</td>\n",
       "      <td>kZHfWgGv-0dWJ</td>\n",
       "      <td>UwfbzeaW-9tQt</td>\n",
       "      <td>21.0</td>\n",
       "      <td>60000.0</td>\n",
       "      <td>2.0</td>\n",
       "      <td>8000.0</td>\n",
       "      <td>11.26</td>\n",
       "      <td>0.13</td>\n",
       "      <td>3.0</td>\n",
       "      <td>...</td>\n",
       "      <td>0</td>\n",
       "      <td>0</td>\n",
       "      <td>0</td>\n",
       "      <td>0</td>\n",
       "      <td>1</td>\n",
       "      <td>0</td>\n",
       "      <td>0</td>\n",
       "      <td>0</td>\n",
       "      <td>0</td>\n",
       "      <td>0</td>\n",
       "    </tr>\n",
       "    <tr>\n",
       "      <th>1</th>\n",
       "      <td>2NjYU2iT-fGSm</td>\n",
       "      <td>j7elJxsY-eTEQ</td>\n",
       "      <td>viRQ2WYn-yJ2G</td>\n",
       "      <td>40.0</td>\n",
       "      <td>70000.0</td>\n",
       "      <td>6.0</td>\n",
       "      <td>18000.0</td>\n",
       "      <td>7.90</td>\n",
       "      <td>0.26</td>\n",
       "      <td>14.0</td>\n",
       "      <td>...</td>\n",
       "      <td>0</td>\n",
       "      <td>0</td>\n",
       "      <td>0</td>\n",
       "      <td>1</td>\n",
       "      <td>0</td>\n",
       "      <td>0</td>\n",
       "      <td>0</td>\n",
       "      <td>0</td>\n",
       "      <td>0</td>\n",
       "      <td>0</td>\n",
       "    </tr>\n",
       "    <tr>\n",
       "      <th>2</th>\n",
       "      <td>nTOKgZCT-YPUD</td>\n",
       "      <td>t9dKvc6a-4eAL</td>\n",
       "      <td>IEHObaim-KPC9</td>\n",
       "      <td>29.0</td>\n",
       "      <td>115000.0</td>\n",
       "      <td>3.0</td>\n",
       "      <td>22000.0</td>\n",
       "      <td>15.23</td>\n",
       "      <td>0.19</td>\n",
       "      <td>7.0</td>\n",
       "      <td>...</td>\n",
       "      <td>0</td>\n",
       "      <td>0</td>\n",
       "      <td>1</td>\n",
       "      <td>0</td>\n",
       "      <td>0</td>\n",
       "      <td>1</td>\n",
       "      <td>0</td>\n",
       "      <td>0</td>\n",
       "      <td>0</td>\n",
       "      <td>0</td>\n",
       "    </tr>\n",
       "    <tr>\n",
       "      <th>3</th>\n",
       "      <td>J3jGNZeh-OzZE</td>\n",
       "      <td>NaelpPC5-t2kz</td>\n",
       "      <td>GvqL52S8-S8OH</td>\n",
       "      <td>26.0</td>\n",
       "      <td>84996.0</td>\n",
       "      <td>0.0</td>\n",
       "      <td>9000.0</td>\n",
       "      <td>11.26</td>\n",
       "      <td>0.11</td>\n",
       "      <td>2.0</td>\n",
       "      <td>...</td>\n",
       "      <td>0</td>\n",
       "      <td>0</td>\n",
       "      <td>1</td>\n",
       "      <td>0</td>\n",
       "      <td>1</td>\n",
       "      <td>0</td>\n",
       "      <td>0</td>\n",
       "      <td>0</td>\n",
       "      <td>0</td>\n",
       "      <td>0</td>\n",
       "    </tr>\n",
       "    <tr>\n",
       "      <th>4</th>\n",
       "      <td>flpZfspk-bUuL</td>\n",
       "      <td>4NHe4vfi-QLvW</td>\n",
       "      <td>fbc8cPEp-uJEB</td>\n",
       "      <td>23.0</td>\n",
       "      <td>54500.0</td>\n",
       "      <td>2.0</td>\n",
       "      <td>8000.0</td>\n",
       "      <td>11.26</td>\n",
       "      <td>0.15</td>\n",
       "      <td>2.0</td>\n",
       "      <td>...</td>\n",
       "      <td>0</td>\n",
       "      <td>0</td>\n",
       "      <td>0</td>\n",
       "      <td>1</td>\n",
       "      <td>0</td>\n",
       "      <td>0</td>\n",
       "      <td>0</td>\n",
       "      <td>0</td>\n",
       "      <td>0</td>\n",
       "      <td>0</td>\n",
       "    </tr>\n",
       "  </tbody>\n",
       "</table>\n",
       "<p>5 rows × 29 columns</p>\n",
       "</div>"
      ],
      "text/plain": [
       "      id_cliente  id_emprestimo   id_historico  idade   salario  \\\n",
       "0  AspC7qDK-5Esh  kZHfWgGv-0dWJ  UwfbzeaW-9tQt   21.0   60000.0   \n",
       "1  2NjYU2iT-fGSm  j7elJxsY-eTEQ  viRQ2WYn-yJ2G   40.0   70000.0   \n",
       "2  nTOKgZCT-YPUD  t9dKvc6a-4eAL  IEHObaim-KPC9   29.0  115000.0   \n",
       "3  J3jGNZeh-OzZE  NaelpPC5-t2kz  GvqL52S8-S8OH   26.0   84996.0   \n",
       "4  flpZfspk-bUuL  4NHe4vfi-QLvW  fbc8cPEp-uJEB   23.0   54500.0   \n",
       "\n",
       "   tempo_trabalhando  valor_emprestimo  juros  emp_sal  tempo_cliente  ...  \\\n",
       "0                2.0            8000.0  11.26     0.13            3.0  ...   \n",
       "1                6.0           18000.0   7.90     0.26           14.0  ...   \n",
       "2                3.0           22000.0  15.23     0.19            7.0  ...   \n",
       "3                0.0            9000.0  11.26     0.11            2.0  ...   \n",
       "4                2.0            8000.0  11.26     0.15            2.0  ...   \n",
       "\n",
       "   motivo_emprestimo_reforma  motivo_emprestimo_risco  \\\n",
       "0                          0                        0   \n",
       "1                          0                        0   \n",
       "2                          0                        0   \n",
       "3                          0                        0   \n",
       "4                          0                        0   \n",
       "\n",
       "   motivo_emprestimo_saude  grupo_A  grupo_B  grupo_C  grupo_D  grupo_E  \\\n",
       "0                        0        0        1        0        0        0   \n",
       "1                        0        1        0        0        0        0   \n",
       "2                        1        0        0        1        0        0   \n",
       "3                        1        0        1        0        0        0   \n",
       "4                        0        1        0        0        0        0   \n",
       "\n",
       "   grupo_F  grupo_G  \n",
       "0        0        0  \n",
       "1        0        0  \n",
       "2        0        0  \n",
       "3        0        0  \n",
       "4        0        0  \n",
       "\n",
       "[5 rows x 29 columns]"
      ]
     },
     "execution_count": 26,
     "metadata": {},
     "output_type": "execute_result"
    }
   ],
   "source": [
    "dados_final = pd.concat([df_modificado, df_dummies], axis = 1)\n",
    "dados_final.head()"
   ]
  },
  {
   "cell_type": "code",
   "execution_count": 27,
   "id": "0c12d77a",
   "metadata": {},
   "outputs": [],
   "source": [
    "x = dados_final.drop(['id_cliente', 'id_emprestimo', 'id_historico', 'RISCO_INADIMPLENCIA'], axis = 1)\n",
    "y = dados_final['RISCO_INADIMPLENCIA']"
   ]
  },
  {
   "cell_type": "code",
   "execution_count": 28,
   "id": "b885b108",
   "metadata": {},
   "outputs": [
    {
     "name": "stdout",
     "output_type": "stream",
     "text": [
      "Treinaremos com 25858 elementos e testaremos com 8620 elementos\n",
      "A acurácia do dummy classifier foi 78.20%\n"
     ]
    }
   ],
   "source": [
    "treino_x, teste_x, treino_y, teste_y = train_test_split(x, y, test_size = 0.25, stratify = y)\n",
    "dummy_clf = DummyClassifier()\n",
    "dummy_clf.fit(treino_x, treino_y)\n",
    "acuracia = dummy_clf.score(teste_x, teste_y) * 100\n",
    "print(\"Treinaremos com %d elementos e testaremos com %d elementos\" % (len(treino_x), len(teste_y)))\n",
    "print(\"A acurácia do dummy classifier foi %.2f%%\" % acuracia)"
   ]
  },
  {
   "cell_type": "code",
   "execution_count": 13,
   "id": "cdeada0a",
   "metadata": {},
   "outputs": [
    {
     "name": "stdout",
     "output_type": "stream",
     "text": [
      "Accuracy com cross validation, cv = 5 = [78.18, 78.21]\n"
     ]
    }
   ],
   "source": [
    "from sklearn.model_selection import cross_val_score\n",
    "bnb = BernoulliNB(binarize=bina)\n",
    "clf = bnb.fit(treino_x, treino_y)\n",
    "previsoes = bnb.predict(teste_x)\n",
    "media = cross_val_score(clf, treino_x, treino_y, cv=5).mean()\n",
    "desvio_padrao = cross_val_score(clf, treino_x, treino_y, cv=5).std()\n",
    "print(\"Accuracy com cross validation, cv = 5 = [%.2f, %.2f]\" % ((media - 2 * desvio_padrao)*100, (media + 2 * desvio_padrao) * 100))"
   ]
  },
  {
   "cell_type": "code",
   "execution_count": 30,
   "id": "16d85ff6",
   "metadata": {},
   "outputs": [
    {
     "data": {
      "text/plain": [
       "{'fit_time': array([0.03720856, 0.04924536, 0.04991198, 0.04916549, 0.05081749]),\n",
       " 'score_time': array([0.01430917, 0.00871086, 0.01040459, 0.00815296, 0.01487708]),\n",
       " 'test_score': array([0.78204756, 0.78190255, 0.78190255, 0.78201595, 0.78201595])}"
      ]
     },
     "execution_count": 30,
     "metadata": {},
     "output_type": "execute_result"
    }
   ],
   "source": [
    "cross_validate(modelo, x, y, cv = 5)"
   ]
  },
  {
   "cell_type": "code",
   "execution_count": 31,
   "id": "50285cc7",
   "metadata": {},
   "outputs": [
    {
     "data": {
      "text/plain": [
       "array([0.78190255, 0.78190255, 0.78190255, 0.78205376, 0.78205376])"
      ]
     },
     "execution_count": 31,
     "metadata": {},
     "output_type": "execute_result"
    }
   ],
   "source": [
    "cross_val_score(clf, treino_x, treino_y, cv=5)"
   ]
  },
  {
   "cell_type": "code",
   "execution_count": 32,
   "id": "738f117c",
   "metadata": {},
   "outputs": [
    {
     "data": {
      "text/plain": [
       "array([0., 0., 0., 0., 0.])"
      ]
     },
     "execution_count": 32,
     "metadata": {},
     "output_type": "execute_result"
    }
   ],
   "source": [
    "cross_val_score(clf, treino_x, treino_y, cv=5, scoring='f1')"
   ]
  },
  {
   "cell_type": "code",
   "execution_count": 33,
   "id": "f91ec4d1",
   "metadata": {},
   "outputs": [
    {
     "data": {
      "text/plain": [
       "array([0.78190255, 0.78190255, 0.78190255, 0.78205376, 0.78205376])"
      ]
     },
     "execution_count": 33,
     "metadata": {},
     "output_type": "execute_result"
    }
   ],
   "source": [
    "cross_val_score(clf, treino_x, treino_y, cv=5, scoring='accuracy')"
   ]
  },
  {
   "cell_type": "code",
   "execution_count": 34,
   "id": "9b181e27",
   "metadata": {},
   "outputs": [
    {
     "data": {
      "text/plain": [
       "array([0.26332949, 0.27015138, 0.26458703, 0.27136798, 0.27092923])"
      ]
     },
     "execution_count": 34,
     "metadata": {},
     "output_type": "execute_result"
    }
   ],
   "source": [
    "cross_val_score(clf, treino_x, treino_y, cv=5, scoring='average_precision')"
   ]
  },
  {
   "cell_type": "code",
   "execution_count": 35,
   "id": "86ea8621",
   "metadata": {},
   "outputs": [
    {
     "data": {
      "text/plain": [
       "array([0., 0., 0., 0., 0.])"
      ]
     },
     "execution_count": 35,
     "metadata": {},
     "output_type": "execute_result"
    }
   ],
   "source": [
    "cross_val_score(clf, treino_x, treino_y, cv=5, scoring='recall')"
   ]
  },
  {
   "cell_type": "code",
   "execution_count": 36,
   "id": "1823e4b1",
   "metadata": {},
   "outputs": [
    {
     "data": {
      "text/plain": [
       "array([0.6032797 , 0.61264565, 0.60425008, 0.6188101 , 0.61553962])"
      ]
     },
     "execution_count": 36,
     "metadata": {},
     "output_type": "execute_result"
    }
   ],
   "source": [
    "cross_val_score(clf, treino_x, treino_y, cv=5, scoring='roc_auc')"
   ]
  },
  {
   "cell_type": "code",
   "execution_count": 37,
   "id": "5653edb5",
   "metadata": {},
   "outputs": [
    {
     "name": "stderr",
     "output_type": "stream",
     "text": [
      "C:\\Users\\fabri\\anaconda3\\lib\\site-packages\\sklearn\\base.py:493: FutureWarning: The feature names should match those that were passed during fit. Starting version 1.2, an error will be raised.\n",
      "Feature names unseen at fit time:\n",
      "- grupo_A\n",
      "- grupo_B\n",
      "- grupo_C\n",
      "- grupo_D\n",
      "- grupo_E\n",
      "- ...\n",
      "\n",
      "  warnings.warn(message, FutureWarning)\n"
     ]
    },
    {
     "ename": "ValueError",
     "evalue": "X has 25 features, but BernoulliNB is expecting 8 features as input.",
     "output_type": "error",
     "traceback": [
      "\u001b[1;31m---------------------------------------------------------------------------\u001b[0m",
      "\u001b[1;31mValueError\u001b[0m                                Traceback (most recent call last)",
      "\u001b[1;32m~\\AppData\\Local\\Temp\\ipykernel_12072\\3643812239.py\u001b[0m in \u001b[0;36m<module>\u001b[1;34m\u001b[0m\n\u001b[0;32m      1\u001b[0m \u001b[1;32mfrom\u001b[0m \u001b[0msklearn\u001b[0m\u001b[1;33m.\u001b[0m\u001b[0mmetrics\u001b[0m \u001b[1;32mimport\u001b[0m \u001b[0mRocCurveDisplay\u001b[0m\u001b[1;33m\u001b[0m\u001b[1;33m\u001b[0m\u001b[0m\n\u001b[1;32m----> 2\u001b[1;33m \u001b[0mclf_disp\u001b[0m \u001b[1;33m=\u001b[0m \u001b[0mRocCurveDisplay\u001b[0m\u001b[1;33m.\u001b[0m\u001b[0mfrom_estimator\u001b[0m\u001b[1;33m(\u001b[0m\u001b[0mclf\u001b[0m\u001b[1;33m,\u001b[0m \u001b[0mteste_x\u001b[0m\u001b[1;33m,\u001b[0m \u001b[0mteste_y\u001b[0m\u001b[1;33m)\u001b[0m\u001b[1;33m\u001b[0m\u001b[1;33m\u001b[0m\u001b[0m\n\u001b[0m",
      "\u001b[1;32m~\\anaconda3\\lib\\site-packages\\sklearn\\metrics\\_plot\\roc_curve.py\u001b[0m in \u001b[0;36mfrom_estimator\u001b[1;34m(cls, estimator, X, y, sample_weight, drop_intermediate, response_method, pos_label, name, ax, **kwargs)\u001b[0m\n\u001b[0;32m    229\u001b[0m         \u001b[0mname\u001b[0m \u001b[1;33m=\u001b[0m \u001b[0mestimator\u001b[0m\u001b[1;33m.\u001b[0m\u001b[0m__class__\u001b[0m\u001b[1;33m.\u001b[0m\u001b[0m__name__\u001b[0m \u001b[1;32mif\u001b[0m \u001b[0mname\u001b[0m \u001b[1;32mis\u001b[0m \u001b[1;32mNone\u001b[0m \u001b[1;32melse\u001b[0m \u001b[0mname\u001b[0m\u001b[1;33m\u001b[0m\u001b[1;33m\u001b[0m\u001b[0m\n\u001b[0;32m    230\u001b[0m \u001b[1;33m\u001b[0m\u001b[0m\n\u001b[1;32m--> 231\u001b[1;33m         y_pred, pos_label = _get_response(\n\u001b[0m\u001b[0;32m    232\u001b[0m             \u001b[0mX\u001b[0m\u001b[1;33m,\u001b[0m\u001b[1;33m\u001b[0m\u001b[1;33m\u001b[0m\u001b[0m\n\u001b[0;32m    233\u001b[0m             \u001b[0mestimator\u001b[0m\u001b[1;33m,\u001b[0m\u001b[1;33m\u001b[0m\u001b[1;33m\u001b[0m\u001b[0m\n",
      "\u001b[1;32m~\\anaconda3\\lib\\site-packages\\sklearn\\metrics\\_plot\\base.py\u001b[0m in \u001b[0;36m_get_response\u001b[1;34m(X, estimator, response_method, pos_label)\u001b[0m\n\u001b[0;32m     90\u001b[0m \u001b[1;33m\u001b[0m\u001b[0m\n\u001b[0;32m     91\u001b[0m     \u001b[0mprediction_method\u001b[0m \u001b[1;33m=\u001b[0m \u001b[0m_check_classifier_response_method\u001b[0m\u001b[1;33m(\u001b[0m\u001b[0mestimator\u001b[0m\u001b[1;33m,\u001b[0m \u001b[0mresponse_method\u001b[0m\u001b[1;33m)\u001b[0m\u001b[1;33m\u001b[0m\u001b[1;33m\u001b[0m\u001b[0m\n\u001b[1;32m---> 92\u001b[1;33m     \u001b[0my_pred\u001b[0m \u001b[1;33m=\u001b[0m \u001b[0mprediction_method\u001b[0m\u001b[1;33m(\u001b[0m\u001b[0mX\u001b[0m\u001b[1;33m)\u001b[0m\u001b[1;33m\u001b[0m\u001b[1;33m\u001b[0m\u001b[0m\n\u001b[0m\u001b[0;32m     93\u001b[0m     \u001b[1;32mif\u001b[0m \u001b[0mpos_label\u001b[0m \u001b[1;32mis\u001b[0m \u001b[1;32mnot\u001b[0m \u001b[1;32mNone\u001b[0m\u001b[1;33m:\u001b[0m\u001b[1;33m\u001b[0m\u001b[1;33m\u001b[0m\u001b[0m\n\u001b[0;32m     94\u001b[0m         \u001b[1;32mtry\u001b[0m\u001b[1;33m:\u001b[0m\u001b[1;33m\u001b[0m\u001b[1;33m\u001b[0m\u001b[0m\n",
      "\u001b[1;32m~\\anaconda3\\lib\\site-packages\\sklearn\\naive_bayes.py\u001b[0m in \u001b[0;36mpredict_proba\u001b[1;34m(self, X)\u001b[0m\n\u001b[0;32m    121\u001b[0m             \u001b[0morder\u001b[0m\u001b[1;33m,\u001b[0m \u001b[1;32mas\u001b[0m \u001b[0mthey\u001b[0m \u001b[0mappear\u001b[0m \u001b[1;32min\u001b[0m \u001b[0mthe\u001b[0m \u001b[0mattribute\u001b[0m \u001b[1;33m:\u001b[0m\u001b[0mterm\u001b[0m\u001b[1;33m:\u001b[0m\u001b[0;31m`\u001b[0m\u001b[0mclasses_\u001b[0m\u001b[0;31m`\u001b[0m\u001b[1;33m.\u001b[0m\u001b[1;33m\u001b[0m\u001b[1;33m\u001b[0m\u001b[0m\n\u001b[0;32m    122\u001b[0m         \"\"\"\n\u001b[1;32m--> 123\u001b[1;33m         \u001b[1;32mreturn\u001b[0m \u001b[0mnp\u001b[0m\u001b[1;33m.\u001b[0m\u001b[0mexp\u001b[0m\u001b[1;33m(\u001b[0m\u001b[0mself\u001b[0m\u001b[1;33m.\u001b[0m\u001b[0mpredict_log_proba\u001b[0m\u001b[1;33m(\u001b[0m\u001b[0mX\u001b[0m\u001b[1;33m)\u001b[0m\u001b[1;33m)\u001b[0m\u001b[1;33m\u001b[0m\u001b[1;33m\u001b[0m\u001b[0m\n\u001b[0m\u001b[0;32m    124\u001b[0m \u001b[1;33m\u001b[0m\u001b[0m\n\u001b[0;32m    125\u001b[0m \u001b[1;33m\u001b[0m\u001b[0m\n",
      "\u001b[1;32m~\\anaconda3\\lib\\site-packages\\sklearn\\naive_bayes.py\u001b[0m in \u001b[0;36mpredict_log_proba\u001b[1;34m(self, X)\u001b[0m\n\u001b[0;32m     99\u001b[0m         \"\"\"\n\u001b[0;32m    100\u001b[0m         \u001b[0mcheck_is_fitted\u001b[0m\u001b[1;33m(\u001b[0m\u001b[0mself\u001b[0m\u001b[1;33m)\u001b[0m\u001b[1;33m\u001b[0m\u001b[1;33m\u001b[0m\u001b[0m\n\u001b[1;32m--> 101\u001b[1;33m         \u001b[0mX\u001b[0m \u001b[1;33m=\u001b[0m \u001b[0mself\u001b[0m\u001b[1;33m.\u001b[0m\u001b[0m_check_X\u001b[0m\u001b[1;33m(\u001b[0m\u001b[0mX\u001b[0m\u001b[1;33m)\u001b[0m\u001b[1;33m\u001b[0m\u001b[1;33m\u001b[0m\u001b[0m\n\u001b[0m\u001b[0;32m    102\u001b[0m         \u001b[0mjll\u001b[0m \u001b[1;33m=\u001b[0m \u001b[0mself\u001b[0m\u001b[1;33m.\u001b[0m\u001b[0m_joint_log_likelihood\u001b[0m\u001b[1;33m(\u001b[0m\u001b[0mX\u001b[0m\u001b[1;33m)\u001b[0m\u001b[1;33m\u001b[0m\u001b[1;33m\u001b[0m\u001b[0m\n\u001b[0;32m    103\u001b[0m         \u001b[1;31m# normalize by P(x) = P(f_1, ..., f_n)\u001b[0m\u001b[1;33m\u001b[0m\u001b[1;33m\u001b[0m\u001b[0m\n",
      "\u001b[1;32m~\\anaconda3\\lib\\site-packages\\sklearn\\naive_bayes.py\u001b[0m in \u001b[0;36m_check_X\u001b[1;34m(self, X)\u001b[0m\n\u001b[0;32m   1109\u001b[0m     \u001b[1;32mdef\u001b[0m \u001b[0m_check_X\u001b[0m\u001b[1;33m(\u001b[0m\u001b[0mself\u001b[0m\u001b[1;33m,\u001b[0m \u001b[0mX\u001b[0m\u001b[1;33m)\u001b[0m\u001b[1;33m:\u001b[0m\u001b[1;33m\u001b[0m\u001b[1;33m\u001b[0m\u001b[0m\n\u001b[0;32m   1110\u001b[0m         \u001b[1;34m\"\"\"Validate X, used only in predict* methods.\"\"\"\u001b[0m\u001b[1;33m\u001b[0m\u001b[1;33m\u001b[0m\u001b[0m\n\u001b[1;32m-> 1111\u001b[1;33m         \u001b[0mX\u001b[0m \u001b[1;33m=\u001b[0m \u001b[0msuper\u001b[0m\u001b[1;33m(\u001b[0m\u001b[1;33m)\u001b[0m\u001b[1;33m.\u001b[0m\u001b[0m_check_X\u001b[0m\u001b[1;33m(\u001b[0m\u001b[0mX\u001b[0m\u001b[1;33m)\u001b[0m\u001b[1;33m\u001b[0m\u001b[1;33m\u001b[0m\u001b[0m\n\u001b[0m\u001b[0;32m   1112\u001b[0m         \u001b[1;32mif\u001b[0m \u001b[0mself\u001b[0m\u001b[1;33m.\u001b[0m\u001b[0mbinarize\u001b[0m \u001b[1;32mis\u001b[0m \u001b[1;32mnot\u001b[0m \u001b[1;32mNone\u001b[0m\u001b[1;33m:\u001b[0m\u001b[1;33m\u001b[0m\u001b[1;33m\u001b[0m\u001b[0m\n\u001b[0;32m   1113\u001b[0m             \u001b[0mX\u001b[0m \u001b[1;33m=\u001b[0m \u001b[0mbinarize\u001b[0m\u001b[1;33m(\u001b[0m\u001b[0mX\u001b[0m\u001b[1;33m,\u001b[0m \u001b[0mthreshold\u001b[0m\u001b[1;33m=\u001b[0m\u001b[0mself\u001b[0m\u001b[1;33m.\u001b[0m\u001b[0mbinarize\u001b[0m\u001b[1;33m)\u001b[0m\u001b[1;33m\u001b[0m\u001b[1;33m\u001b[0m\u001b[0m\n",
      "\u001b[1;32m~\\anaconda3\\lib\\site-packages\\sklearn\\naive_bayes.py\u001b[0m in \u001b[0;36m_check_X\u001b[1;34m(self, X)\u001b[0m\n\u001b[0;32m    547\u001b[0m     \u001b[1;32mdef\u001b[0m \u001b[0m_check_X\u001b[0m\u001b[1;33m(\u001b[0m\u001b[0mself\u001b[0m\u001b[1;33m,\u001b[0m \u001b[0mX\u001b[0m\u001b[1;33m)\u001b[0m\u001b[1;33m:\u001b[0m\u001b[1;33m\u001b[0m\u001b[1;33m\u001b[0m\u001b[0m\n\u001b[0;32m    548\u001b[0m         \u001b[1;34m\"\"\"Validate X, used only in predict* methods.\"\"\"\u001b[0m\u001b[1;33m\u001b[0m\u001b[1;33m\u001b[0m\u001b[0m\n\u001b[1;32m--> 549\u001b[1;33m         \u001b[1;32mreturn\u001b[0m \u001b[0mself\u001b[0m\u001b[1;33m.\u001b[0m\u001b[0m_validate_data\u001b[0m\u001b[1;33m(\u001b[0m\u001b[0mX\u001b[0m\u001b[1;33m,\u001b[0m \u001b[0maccept_sparse\u001b[0m\u001b[1;33m=\u001b[0m\u001b[1;34m\"csr\"\u001b[0m\u001b[1;33m,\u001b[0m \u001b[0mreset\u001b[0m\u001b[1;33m=\u001b[0m\u001b[1;32mFalse\u001b[0m\u001b[1;33m)\u001b[0m\u001b[1;33m\u001b[0m\u001b[1;33m\u001b[0m\u001b[0m\n\u001b[0m\u001b[0;32m    550\u001b[0m \u001b[1;33m\u001b[0m\u001b[0m\n\u001b[0;32m    551\u001b[0m     \u001b[1;32mdef\u001b[0m \u001b[0m_check_X_y\u001b[0m\u001b[1;33m(\u001b[0m\u001b[0mself\u001b[0m\u001b[1;33m,\u001b[0m \u001b[0mX\u001b[0m\u001b[1;33m,\u001b[0m \u001b[0my\u001b[0m\u001b[1;33m,\u001b[0m \u001b[0mreset\u001b[0m\u001b[1;33m=\u001b[0m\u001b[1;32mTrue\u001b[0m\u001b[1;33m)\u001b[0m\u001b[1;33m:\u001b[0m\u001b[1;33m\u001b[0m\u001b[1;33m\u001b[0m\u001b[0m\n",
      "\u001b[1;32m~\\anaconda3\\lib\\site-packages\\sklearn\\base.py\u001b[0m in \u001b[0;36m_validate_data\u001b[1;34m(self, X, y, reset, validate_separately, **check_params)\u001b[0m\n\u001b[0;32m    598\u001b[0m \u001b[1;33m\u001b[0m\u001b[0m\n\u001b[0;32m    599\u001b[0m         \u001b[1;32mif\u001b[0m \u001b[1;32mnot\u001b[0m \u001b[0mno_val_X\u001b[0m \u001b[1;32mand\u001b[0m \u001b[0mcheck_params\u001b[0m\u001b[1;33m.\u001b[0m\u001b[0mget\u001b[0m\u001b[1;33m(\u001b[0m\u001b[1;34m\"ensure_2d\"\u001b[0m\u001b[1;33m,\u001b[0m \u001b[1;32mTrue\u001b[0m\u001b[1;33m)\u001b[0m\u001b[1;33m:\u001b[0m\u001b[1;33m\u001b[0m\u001b[1;33m\u001b[0m\u001b[0m\n\u001b[1;32m--> 600\u001b[1;33m             \u001b[0mself\u001b[0m\u001b[1;33m.\u001b[0m\u001b[0m_check_n_features\u001b[0m\u001b[1;33m(\u001b[0m\u001b[0mX\u001b[0m\u001b[1;33m,\u001b[0m \u001b[0mreset\u001b[0m\u001b[1;33m=\u001b[0m\u001b[0mreset\u001b[0m\u001b[1;33m)\u001b[0m\u001b[1;33m\u001b[0m\u001b[1;33m\u001b[0m\u001b[0m\n\u001b[0m\u001b[0;32m    601\u001b[0m \u001b[1;33m\u001b[0m\u001b[0m\n\u001b[0;32m    602\u001b[0m         \u001b[1;32mreturn\u001b[0m \u001b[0mout\u001b[0m\u001b[1;33m\u001b[0m\u001b[1;33m\u001b[0m\u001b[0m\n",
      "\u001b[1;32m~\\anaconda3\\lib\\site-packages\\sklearn\\base.py\u001b[0m in \u001b[0;36m_check_n_features\u001b[1;34m(self, X, reset)\u001b[0m\n\u001b[0;32m    398\u001b[0m \u001b[1;33m\u001b[0m\u001b[0m\n\u001b[0;32m    399\u001b[0m         \u001b[1;32mif\u001b[0m \u001b[0mn_features\u001b[0m \u001b[1;33m!=\u001b[0m \u001b[0mself\u001b[0m\u001b[1;33m.\u001b[0m\u001b[0mn_features_in_\u001b[0m\u001b[1;33m:\u001b[0m\u001b[1;33m\u001b[0m\u001b[1;33m\u001b[0m\u001b[0m\n\u001b[1;32m--> 400\u001b[1;33m             raise ValueError(\n\u001b[0m\u001b[0;32m    401\u001b[0m                 \u001b[1;34mf\"X has {n_features} features, but {self.__class__.__name__} \"\u001b[0m\u001b[1;33m\u001b[0m\u001b[1;33m\u001b[0m\u001b[0m\n\u001b[0;32m    402\u001b[0m                 \u001b[1;34mf\"is expecting {self.n_features_in_} features as input.\"\u001b[0m\u001b[1;33m\u001b[0m\u001b[1;33m\u001b[0m\u001b[0m\n",
      "\u001b[1;31mValueError\u001b[0m: X has 25 features, but BernoulliNB is expecting 8 features as input."
     ]
    }
   ],
   "source": [
    "from sklearn.metrics import RocCurveDisplay\n",
    "clf_disp = RocCurveDisplay.from_estimator(clf, teste_x, teste_y)"
   ]
  },
  {
   "cell_type": "code",
   "execution_count": 23,
   "id": "79971566",
   "metadata": {},
   "outputs": [
    {
     "name": "stdout",
     "output_type": "stream",
     "text": [
      "[[6741    0]\n",
      " [1879    0]]\n"
     ]
    }
   ],
   "source": [
    "from sklearn.metrics import confusion_matrix\n",
    "print(confusion_matrix(teste_y, previsoes))"
   ]
  },
  {
   "cell_type": "code",
   "execution_count": null,
   "id": "a72c852d",
   "metadata": {},
   "outputs": [],
   "source": []
  }
 ],
 "metadata": {
  "kernelspec": {
   "display_name": "Python 3 (ipykernel)",
   "language": "python",
   "name": "python3"
  },
  "language_info": {
   "codemirror_mode": {
    "name": "ipython",
    "version": 3
   },
   "file_extension": ".py",
   "mimetype": "text/x-python",
   "name": "python",
   "nbconvert_exporter": "python",
   "pygments_lexer": "ipython3",
   "version": "3.9.7"
  }
 },
 "nbformat": 4,
 "nbformat_minor": 5
}
