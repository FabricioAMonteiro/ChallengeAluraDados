{
 "cells": [
  {
   "cell_type": "code",
   "execution_count": 1,
   "id": "3213ac96",
   "metadata": {},
   "outputs": [],
   "source": [
    "import pandas as pd\n",
    "import numpy as np"
   ]
  },
  {
   "cell_type": "code",
   "execution_count": 2,
   "id": "488963a0",
   "metadata": {},
   "outputs": [
    {
     "data": {
      "text/html": [
       "<div>\n",
       "<style scoped>\n",
       "    .dataframe tbody tr th:only-of-type {\n",
       "        vertical-align: middle;\n",
       "    }\n",
       "\n",
       "    .dataframe tbody tr th {\n",
       "        vertical-align: top;\n",
       "    }\n",
       "\n",
       "    .dataframe thead th {\n",
       "        text-align: right;\n",
       "    }\n",
       "</style>\n",
       "<table border=\"1\" class=\"dataframe\">\n",
       "  <thead>\n",
       "    <tr style=\"text-align: right;\">\n",
       "      <th></th>\n",
       "      <th>id_cliente</th>\n",
       "      <th>id_emprestimo</th>\n",
       "      <th>id_historico</th>\n",
       "      <th>tipo_imovel</th>\n",
       "      <th>motivo_emprestimo</th>\n",
       "      <th>grupo</th>\n",
       "      <th>idade</th>\n",
       "      <th>salario</th>\n",
       "      <th>tempo_trabalhando</th>\n",
       "      <th>valor_emprestimo</th>\n",
       "      <th>juros</th>\n",
       "      <th>emp_sal</th>\n",
       "      <th>tempo_cliente</th>\n",
       "      <th>INADIMPLENCIA</th>\n",
       "      <th>RISCO_INADIMPLENCIA</th>\n",
       "    </tr>\n",
       "  </thead>\n",
       "  <tbody>\n",
       "    <tr>\n",
       "      <th>0</th>\n",
       "      <td>AspC7qDK-5Esh</td>\n",
       "      <td>kZHfWgGv-0dWJ</td>\n",
       "      <td>UwfbzeaW-9tQt</td>\n",
       "      <td>alugado</td>\n",
       "      <td>ensino</td>\n",
       "      <td>B</td>\n",
       "      <td>21.0</td>\n",
       "      <td>60000.0</td>\n",
       "      <td>2.0</td>\n",
       "      <td>8000.0</td>\n",
       "      <td>11.26</td>\n",
       "      <td>0.13</td>\n",
       "      <td>3.0</td>\n",
       "      <td>0.0</td>\n",
       "      <td>0.0</td>\n",
       "    </tr>\n",
       "    <tr>\n",
       "      <th>1</th>\n",
       "      <td>2NjYU2iT-fGSm</td>\n",
       "      <td>j7elJxsY-eTEQ</td>\n",
       "      <td>viRQ2WYn-yJ2G</td>\n",
       "      <td>financiado</td>\n",
       "      <td>ensino</td>\n",
       "      <td>A</td>\n",
       "      <td>40.0</td>\n",
       "      <td>70000.0</td>\n",
       "      <td>6.0</td>\n",
       "      <td>18000.0</td>\n",
       "      <td>7.90</td>\n",
       "      <td>0.26</td>\n",
       "      <td>14.0</td>\n",
       "      <td>0.0</td>\n",
       "      <td>0.0</td>\n",
       "    </tr>\n",
       "    <tr>\n",
       "      <th>2</th>\n",
       "      <td>nTOKgZCT-YPUD</td>\n",
       "      <td>t9dKvc6a-4eAL</td>\n",
       "      <td>IEHObaim-KPC9</td>\n",
       "      <td>financiado</td>\n",
       "      <td>saude</td>\n",
       "      <td>C</td>\n",
       "      <td>29.0</td>\n",
       "      <td>115000.0</td>\n",
       "      <td>3.0</td>\n",
       "      <td>22000.0</td>\n",
       "      <td>15.23</td>\n",
       "      <td>0.19</td>\n",
       "      <td>7.0</td>\n",
       "      <td>1.0</td>\n",
       "      <td>0.0</td>\n",
       "    </tr>\n",
       "    <tr>\n",
       "      <th>3</th>\n",
       "      <td>J3jGNZeh-OzZE</td>\n",
       "      <td>NaelpPC5-t2kz</td>\n",
       "      <td>GvqL52S8-S8OH</td>\n",
       "      <td>alugado</td>\n",
       "      <td>saude</td>\n",
       "      <td>B</td>\n",
       "      <td>26.0</td>\n",
       "      <td>84996.0</td>\n",
       "      <td>0.0</td>\n",
       "      <td>9000.0</td>\n",
       "      <td>11.26</td>\n",
       "      <td>0.11</td>\n",
       "      <td>2.0</td>\n",
       "      <td>0.0</td>\n",
       "      <td>0.0</td>\n",
       "    </tr>\n",
       "    <tr>\n",
       "      <th>4</th>\n",
       "      <td>flpZfspk-bUuL</td>\n",
       "      <td>4NHe4vfi-QLvW</td>\n",
       "      <td>fbc8cPEp-uJEB</td>\n",
       "      <td>alugado</td>\n",
       "      <td>quitar</td>\n",
       "      <td>A</td>\n",
       "      <td>23.0</td>\n",
       "      <td>54500.0</td>\n",
       "      <td>2.0</td>\n",
       "      <td>8000.0</td>\n",
       "      <td>11.26</td>\n",
       "      <td>0.15</td>\n",
       "      <td>2.0</td>\n",
       "      <td>0.0</td>\n",
       "      <td>0.0</td>\n",
       "    </tr>\n",
       "    <tr>\n",
       "      <th>...</th>\n",
       "      <td>...</td>\n",
       "      <td>...</td>\n",
       "      <td>...</td>\n",
       "      <td>...</td>\n",
       "      <td>...</td>\n",
       "      <td>...</td>\n",
       "      <td>...</td>\n",
       "      <td>...</td>\n",
       "      <td>...</td>\n",
       "      <td>...</td>\n",
       "      <td>...</td>\n",
       "      <td>...</td>\n",
       "      <td>...</td>\n",
       "      <td>...</td>\n",
       "      <td>...</td>\n",
       "    </tr>\n",
       "    <tr>\n",
       "      <th>34473</th>\n",
       "      <td>IuYkEXvw-YDnc</td>\n",
       "      <td>IT0YNmM9-xJUf</td>\n",
       "      <td>q0YwGXaQ-ZTgQ</td>\n",
       "      <td>alugado</td>\n",
       "      <td>saude</td>\n",
       "      <td>D</td>\n",
       "      <td>39.0</td>\n",
       "      <td>33996.0</td>\n",
       "      <td>6.0</td>\n",
       "      <td>4000.0</td>\n",
       "      <td>11.49</td>\n",
       "      <td>0.12</td>\n",
       "      <td>13.0</td>\n",
       "      <td>0.0</td>\n",
       "      <td>1.0</td>\n",
       "    </tr>\n",
       "    <tr>\n",
       "      <th>34474</th>\n",
       "      <td>toJSgLh4-Sf0s</td>\n",
       "      <td>dBBYeSyf-N3y2</td>\n",
       "      <td>QU4yUUO4-sZ0f</td>\n",
       "      <td>financiado</td>\n",
       "      <td>reforma</td>\n",
       "      <td>A</td>\n",
       "      <td>24.0</td>\n",
       "      <td>36000.0</td>\n",
       "      <td>6.0</td>\n",
       "      <td>14775.0</td>\n",
       "      <td>6.62</td>\n",
       "      <td>0.41</td>\n",
       "      <td>4.0</td>\n",
       "      <td>0.0</td>\n",
       "      <td>0.0</td>\n",
       "    </tr>\n",
       "    <tr>\n",
       "      <th>34475</th>\n",
       "      <td>ezodwdzy-IgP3</td>\n",
       "      <td>Z0OQkNXo-noen</td>\n",
       "      <td>W6NpiRzO-8o5z</td>\n",
       "      <td>financiado</td>\n",
       "      <td>quitar</td>\n",
       "      <td>A</td>\n",
       "      <td>27.0</td>\n",
       "      <td>39600.0</td>\n",
       "      <td>11.0</td>\n",
       "      <td>4800.0</td>\n",
       "      <td>6.76</td>\n",
       "      <td>0.12</td>\n",
       "      <td>9.0</td>\n",
       "      <td>0.0</td>\n",
       "      <td>0.0</td>\n",
       "    </tr>\n",
       "    <tr>\n",
       "      <th>34476</th>\n",
       "      <td>zcvLEBEd-JHhI</td>\n",
       "      <td>EtCzqy1B-QYEL</td>\n",
       "      <td>3fcjJLaj-Bkio</td>\n",
       "      <td>financiado</td>\n",
       "      <td>saude</td>\n",
       "      <td>C</td>\n",
       "      <td>30.0</td>\n",
       "      <td>39996.0</td>\n",
       "      <td>8.0</td>\n",
       "      <td>10000.0</td>\n",
       "      <td>12.73</td>\n",
       "      <td>0.25</td>\n",
       "      <td>6.0</td>\n",
       "      <td>0.0</td>\n",
       "      <td>0.0</td>\n",
       "    </tr>\n",
       "    <tr>\n",
       "      <th>34477</th>\n",
       "      <td>zHG1040U-BAsd</td>\n",
       "      <td>Jb3kZcsS-4i5B</td>\n",
       "      <td>zoPPIv63-aGvX</td>\n",
       "      <td>alugado</td>\n",
       "      <td>ensino</td>\n",
       "      <td>B</td>\n",
       "      <td>26.0</td>\n",
       "      <td>54996.0</td>\n",
       "      <td>8.0</td>\n",
       "      <td>20000.0</td>\n",
       "      <td>12.18</td>\n",
       "      <td>0.36</td>\n",
       "      <td>4.0</td>\n",
       "      <td>0.0</td>\n",
       "      <td>1.0</td>\n",
       "    </tr>\n",
       "  </tbody>\n",
       "</table>\n",
       "<p>34478 rows × 15 columns</p>\n",
       "</div>"
      ],
      "text/plain": [
       "          id_cliente  id_emprestimo   id_historico tipo_imovel  \\\n",
       "0      AspC7qDK-5Esh  kZHfWgGv-0dWJ  UwfbzeaW-9tQt     alugado   \n",
       "1      2NjYU2iT-fGSm  j7elJxsY-eTEQ  viRQ2WYn-yJ2G  financiado   \n",
       "2      nTOKgZCT-YPUD  t9dKvc6a-4eAL  IEHObaim-KPC9  financiado   \n",
       "3      J3jGNZeh-OzZE  NaelpPC5-t2kz  GvqL52S8-S8OH     alugado   \n",
       "4      flpZfspk-bUuL  4NHe4vfi-QLvW  fbc8cPEp-uJEB     alugado   \n",
       "...              ...            ...            ...         ...   \n",
       "34473  IuYkEXvw-YDnc  IT0YNmM9-xJUf  q0YwGXaQ-ZTgQ     alugado   \n",
       "34474  toJSgLh4-Sf0s  dBBYeSyf-N3y2  QU4yUUO4-sZ0f  financiado   \n",
       "34475  ezodwdzy-IgP3  Z0OQkNXo-noen  W6NpiRzO-8o5z  financiado   \n",
       "34476  zcvLEBEd-JHhI  EtCzqy1B-QYEL  3fcjJLaj-Bkio  financiado   \n",
       "34477  zHG1040U-BAsd  Jb3kZcsS-4i5B  zoPPIv63-aGvX     alugado   \n",
       "\n",
       "      motivo_emprestimo grupo  idade   salario  tempo_trabalhando  \\\n",
       "0                ensino     B   21.0   60000.0                2.0   \n",
       "1                ensino     A   40.0   70000.0                6.0   \n",
       "2                 saude     C   29.0  115000.0                3.0   \n",
       "3                 saude     B   26.0   84996.0                0.0   \n",
       "4                quitar     A   23.0   54500.0                2.0   \n",
       "...                 ...   ...    ...       ...                ...   \n",
       "34473             saude     D   39.0   33996.0                6.0   \n",
       "34474           reforma     A   24.0   36000.0                6.0   \n",
       "34475            quitar     A   27.0   39600.0               11.0   \n",
       "34476             saude     C   30.0   39996.0                8.0   \n",
       "34477            ensino     B   26.0   54996.0                8.0   \n",
       "\n",
       "       valor_emprestimo  juros  emp_sal  tempo_cliente  INADIMPLENCIA  \\\n",
       "0                8000.0  11.26     0.13            3.0            0.0   \n",
       "1               18000.0   7.90     0.26           14.0            0.0   \n",
       "2               22000.0  15.23     0.19            7.0            1.0   \n",
       "3                9000.0  11.26     0.11            2.0            0.0   \n",
       "4                8000.0  11.26     0.15            2.0            0.0   \n",
       "...                 ...    ...      ...            ...            ...   \n",
       "34473            4000.0  11.49     0.12           13.0            0.0   \n",
       "34474           14775.0   6.62     0.41            4.0            0.0   \n",
       "34475            4800.0   6.76     0.12            9.0            0.0   \n",
       "34476           10000.0  12.73     0.25            6.0            0.0   \n",
       "34477           20000.0  12.18     0.36            4.0            0.0   \n",
       "\n",
       "       RISCO_INADIMPLENCIA  \n",
       "0                      0.0  \n",
       "1                      0.0  \n",
       "2                      0.0  \n",
       "3                      0.0  \n",
       "4                      0.0  \n",
       "...                    ...  \n",
       "34473                  1.0  \n",
       "34474                  0.0  \n",
       "34475                  0.0  \n",
       "34476                  0.0  \n",
       "34477                  1.0  \n",
       "\n",
       "[34478 rows x 15 columns]"
      ]
     },
     "execution_count": 2,
     "metadata": {},
     "output_type": "execute_result"
    }
   ],
   "source": [
    "dados = pd.read_csv('dados_alura.csv')\n",
    "dados"
   ]
  },
  {
   "cell_type": "code",
   "execution_count": 3,
   "id": "0ee7950a",
   "metadata": {},
   "outputs": [
    {
     "data": {
      "text/plain": [
       "id_cliente             0\n",
       "id_emprestimo          0\n",
       "id_historico           0\n",
       "tipo_imovel            0\n",
       "motivo_emprestimo      0\n",
       "grupo                  0\n",
       "idade                  0\n",
       "salario                0\n",
       "tempo_trabalhando      0\n",
       "valor_emprestimo       0\n",
       "juros                  0\n",
       "emp_sal                0\n",
       "tempo_cliente          0\n",
       "INADIMPLENCIA          0\n",
       "RISCO_INADIMPLENCIA    0\n",
       "dtype: int64"
      ]
     },
     "execution_count": 3,
     "metadata": {},
     "output_type": "execute_result"
    }
   ],
   "source": [
    "dados.isnull().sum()"
   ]
  },
  {
   "cell_type": "markdown",
   "id": "a9c26c3e",
   "metadata": {},
   "source": [
    "## Testando apenas com os dados numéricos"
   ]
  },
  {
   "cell_type": "code",
   "execution_count": 4,
   "id": "ba9158bb",
   "metadata": {},
   "outputs": [
    {
     "name": "stdout",
     "output_type": "stream",
     "text": [
      "Treinaremos com 25858 elementos e testaremos com 8620 elementos\n",
      "A acurácia do dummy classifier foi 78.20%\n"
     ]
    }
   ],
   "source": [
    "from sklearn.model_selection import train_test_split\n",
    "from sklearn.dummy import DummyClassifier\n",
    "from sklearn.metrics import accuracy_score\n",
    "\n",
    "x = dados[['idade', 'salario', 'tempo_trabalhando', 'valor_emprestimo', 'juros', 'emp_sal', 'tempo_cliente', 'INADIMPLENCIA']]\n",
    "y = dados['RISCO_INADIMPLENCIA']\n",
    "SEED = 1\n",
    "np.random.seed(SEED)\n",
    "\n",
    "treino_x, teste_x, treino_y, teste_y = train_test_split(x, y, test_size = 0.25, stratify = y)\n",
    "dummy_clf = DummyClassifier()\n",
    "dummy_clf.fit(treino_x, treino_y)\n",
    "acuracia = dummy_clf.score(teste_x, teste_y) * 100\n",
    "print(\"Treinaremos com %d elementos e testaremos com %d elementos\" % (len(treino_x), len(teste_y)))\n",
    "print(\"A acurácia do dummy classifier foi %.2f%%\" % acuracia)"
   ]
  },
  {
   "cell_type": "markdown",
   "id": "865581d5",
   "metadata": {},
   "source": [
    "## Como os dados estão desbalanceados precisamos fazer ajustes, vamos usar o SMOTE."
   ]
  },
  {
   "cell_type": "code",
   "execution_count": 5,
   "id": "4701ee6c",
   "metadata": {},
   "outputs": [],
   "source": [
    "from imblearn.over_sampling import SMOTE\n",
    "\n",
    "smt = SMOTE()  # Instancia um objeto da classe SMOTE\n",
    "x, y = smt.fit_resample(x, y)  # Realiza a reamostragem do conjunto de dados"
   ]
  },
  {
   "cell_type": "code",
   "execution_count": 6,
   "id": "959c9802",
   "metadata": {},
   "outputs": [
    {
     "data": {
      "text/html": [
       "<div>\n",
       "<style scoped>\n",
       "    .dataframe tbody tr th:only-of-type {\n",
       "        vertical-align: middle;\n",
       "    }\n",
       "\n",
       "    .dataframe tbody tr th {\n",
       "        vertical-align: top;\n",
       "    }\n",
       "\n",
       "    .dataframe thead th {\n",
       "        text-align: right;\n",
       "    }\n",
       "</style>\n",
       "<table border=\"1\" class=\"dataframe\">\n",
       "  <thead>\n",
       "    <tr style=\"text-align: right;\">\n",
       "      <th></th>\n",
       "      <th>idade</th>\n",
       "      <th>salario</th>\n",
       "      <th>tempo_trabalhando</th>\n",
       "      <th>valor_emprestimo</th>\n",
       "      <th>juros</th>\n",
       "      <th>emp_sal</th>\n",
       "      <th>tempo_cliente</th>\n",
       "      <th>INADIMPLENCIA</th>\n",
       "      <th>RISCO_INADIMPLENCIA</th>\n",
       "    </tr>\n",
       "  </thead>\n",
       "  <tbody>\n",
       "    <tr>\n",
       "      <th>0</th>\n",
       "      <td>21.0</td>\n",
       "      <td>60000.0</td>\n",
       "      <td>2.0</td>\n",
       "      <td>8000.0</td>\n",
       "      <td>11.26</td>\n",
       "      <td>0.13</td>\n",
       "      <td>3.0</td>\n",
       "      <td>0.0</td>\n",
       "      <td>0.0</td>\n",
       "    </tr>\n",
       "    <tr>\n",
       "      <th>1</th>\n",
       "      <td>40.0</td>\n",
       "      <td>70000.0</td>\n",
       "      <td>6.0</td>\n",
       "      <td>18000.0</td>\n",
       "      <td>7.90</td>\n",
       "      <td>0.26</td>\n",
       "      <td>14.0</td>\n",
       "      <td>0.0</td>\n",
       "      <td>0.0</td>\n",
       "    </tr>\n",
       "  </tbody>\n",
       "</table>\n",
       "</div>"
      ],
      "text/plain": [
       "   idade  salario  tempo_trabalhando  valor_emprestimo  juros  emp_sal  \\\n",
       "0   21.0  60000.0                2.0            8000.0  11.26     0.13   \n",
       "1   40.0  70000.0                6.0           18000.0   7.90     0.26   \n",
       "\n",
       "   tempo_cliente  INADIMPLENCIA  RISCO_INADIMPLENCIA  \n",
       "0            3.0            0.0                  0.0  \n",
       "1           14.0            0.0                  0.0  "
      ]
     },
     "execution_count": 6,
     "metadata": {},
     "output_type": "execute_result"
    }
   ],
   "source": [
    "dados = pd.concat([x, y], axis=1)  # Concatena a variável target (y) com as features (x)\n",
    "\n",
    "# Verifica se o balanceamento e a concatenação estão corretos.\n",
    "dados.head(2)"
   ]
  },
  {
   "cell_type": "markdown",
   "id": "0ec2f7f7",
   "metadata": {},
   "source": [
    "## Agora precisamos 'escalar' os dados para que as distâncias possam ser calculadas pelo KNN "
   ]
  },
  {
   "cell_type": "code",
   "execution_count": 7,
   "id": "ce5e467d",
   "metadata": {},
   "outputs": [
    {
     "data": {
      "text/plain": [
       "array([[-1.12208814, -0.00260236, -0.66888176, ..., -0.55331203,\n",
       "        -0.71221946, -0.57421577],\n",
       "       [ 2.11419409,  0.2040532 ,  0.39272986, ...,  0.51946301,\n",
       "         2.15061756, -0.57421577],\n",
       "       [ 0.24055701,  1.1340032 , -0.40347885, ..., -0.05818509,\n",
       "         0.32881218,  2.02544481],\n",
       "       ...,\n",
       "       [ 0.19353952, -0.59255957, -0.90335673, ...,  1.57907556,\n",
       "        -0.31624062, -0.57421577],\n",
       "       [-0.65724587, -0.3125857 , -1.19968757, ...,  1.09711112,\n",
       "        -0.97247737, -0.57421577],\n",
       "       [ 0.67266835,  0.2040532 , -0.61971823, ..., -1.28835929,\n",
       "         0.04444904, -0.57421577]])"
      ]
     },
     "execution_count": 7,
     "metadata": {},
     "output_type": "execute_result"
    }
   ],
   "source": [
    "from sklearn.preprocessing import StandardScaler\n",
    "norm = StandardScaler()\n",
    "x_normalizado = norm.fit_transform(x)\n",
    "x_normalizado"
   ]
  },
  {
   "cell_type": "code",
   "execution_count": 8,
   "id": "12e637d1",
   "metadata": {},
   "outputs": [],
   "source": [
    "treino_x, teste_x, treino_y, teste_y = train_test_split(x_normalizado, y, test_size=0.3)"
   ]
  },
  {
   "cell_type": "code",
   "execution_count": 9,
   "id": "9cd63955",
   "metadata": {},
   "outputs": [
    {
     "name": "stdout",
     "output_type": "stream",
     "text": [
      "A acurácia foi 80.87%\n"
     ]
    }
   ],
   "source": [
    "from sklearn.neighbors import KNeighborsClassifier\n",
    "knn = KNeighborsClassifier(metric='euclidean')\n",
    "knn.fit(treino_x, treino_y)\n",
    "predito_knn = knn.predict(teste_x)\n",
    "acuracia = accuracy_score(teste_y, predito_knn) * 100\n",
    "print(\"A acurácia foi %.2f%%\" % acuracia)"
   ]
  },
  {
   "cell_type": "code",
   "execution_count": 10,
   "id": "0a374436",
   "metadata": {},
   "outputs": [
    {
     "name": "stdout",
     "output_type": "stream",
     "text": [
      "Accuracy com cross validation, cv = 5 = [78.13, 85.09]\n"
     ]
    }
   ],
   "source": [
    "from sklearn.model_selection import cross_validate\n",
    "modelo = knn\n",
    "results = cross_validate(modelo, x_normalizado, y, cv = 5, return_train_score=False)\n",
    "media = results['test_score'].mean()\n",
    "desvio_padrao = results['test_score'].std()\n",
    "print(\"Accuracy com cross validation, cv = 5 = [%.2f, %.2f]\" % ((media - 2 * desvio_padrao)*100, (media + 2 * desvio_padrao) * 100))"
   ]
  },
  {
   "cell_type": "code",
   "execution_count": 11,
   "id": "0b1f8c79",
   "metadata": {},
   "outputs": [
    {
     "name": "stdout",
     "output_type": "stream",
     "text": [
      "Accuracy com cross validation, cv = 5 = [79.50, 81.58]\n"
     ]
    }
   ],
   "source": [
    "from sklearn.model_selection import cross_val_score\n",
    "clf = knn\n",
    "clf = clf.fit(treino_x, treino_y)\n",
    "previsoes = clf.predict(teste_x)\n",
    "media = cross_val_score(clf, treino_x, treino_y, cv=5).mean()\n",
    "desvio_padrao = cross_val_score(clf, treino_x, treino_y, cv=5).std()\n",
    "print(\"Accuracy com cross validation, cv = 5 = [%.2f, %.2f]\" % ((media - 2 * desvio_padrao)*100, (media + 2 * desvio_padrao) * 100))"
   ]
  },
  {
   "cell_type": "code",
   "execution_count": 12,
   "id": "13b44756",
   "metadata": {},
   "outputs": [
    {
     "data": {
      "text/plain": [
       "{'fit_time': array([0.15157199, 0.07088232, 0.17164993, 0.15734863, 0.16122532]),\n",
       " 'score_time': array([1.11172676, 2.35383415, 2.28014159, 2.46542621, 2.06583524]),\n",
       " 'test_score': array([0.78331015, 0.8134446 , 0.82678042, 0.8307678 , 0.82631677])}"
      ]
     },
     "execution_count": 12,
     "metadata": {},
     "output_type": "execute_result"
    }
   ],
   "source": [
    "cross_validate(modelo, x_normalizado, y, cv = 5)"
   ]
  },
  {
   "cell_type": "code",
   "execution_count": 13,
   "id": "a2770e27",
   "metadata": {},
   "outputs": [
    {
     "data": {
      "text/plain": [
       "array([0.80818651, 0.79772155, 0.80209299, 0.80593456, 0.81295536])"
      ]
     },
     "execution_count": 13,
     "metadata": {},
     "output_type": "execute_result"
    }
   ],
   "source": [
    "cross_val_score(clf, treino_x, treino_y, cv=5)"
   ]
  },
  {
   "cell_type": "code",
   "execution_count": 14,
   "id": "fab27665",
   "metadata": {},
   "outputs": [
    {
     "data": {
      "text/plain": [
       "array([0.81076843, 0.79947472, 0.80274624, 0.8062938 , 0.81474679])"
      ]
     },
     "execution_count": 14,
     "metadata": {},
     "output_type": "execute_result"
    }
   ],
   "source": [
    "cross_val_score(clf, treino_x, treino_y, cv=5, scoring='f1')"
   ]
  },
  {
   "cell_type": "code",
   "execution_count": 15,
   "id": "6864ba6e",
   "metadata": {},
   "outputs": [
    {
     "data": {
      "text/plain": [
       "array([0.80818651, 0.79772155, 0.80209299, 0.80593456, 0.81295536])"
      ]
     },
     "execution_count": 15,
     "metadata": {},
     "output_type": "execute_result"
    }
   ],
   "source": [
    "cross_val_score(clf, treino_x, treino_y, cv=5, scoring='accuracy')"
   ]
  },
  {
   "cell_type": "code",
   "execution_count": 16,
   "id": "23b7ddbe",
   "metadata": {},
   "outputs": [
    {
     "data": {
      "text/plain": [
       "array([0.84672792, 0.84675031, 0.84874842, 0.85154552, 0.85182584])"
      ]
     },
     "execution_count": 16,
     "metadata": {},
     "output_type": "execute_result"
    }
   ],
   "source": [
    "cross_val_score(clf, treino_x, treino_y, cv=5, scoring='average_precision')"
   ]
  },
  {
   "cell_type": "code",
   "execution_count": 17,
   "id": "95d045ac",
   "metadata": {},
   "outputs": [
    {
     "data": {
      "text/plain": [
       "array([0.80113636, 0.79394888, 0.8014764 , 0.8061872 , 0.80838323])"
      ]
     },
     "execution_count": 17,
     "metadata": {},
     "output_type": "execute_result"
    }
   ],
   "source": [
    "cross_val_score(clf, treino_x, treino_y, cv=5, scoring='precision')"
   ]
  },
  {
   "cell_type": "code",
   "execution_count": 18,
   "id": "e5e9fb4e",
   "metadata": {},
   "outputs": [
    {
     "data": {
      "text/plain": [
       "array([0.82063492, 0.80507802, 0.8040201 , 0.80640042, 0.82121132])"
      ]
     },
     "execution_count": 18,
     "metadata": {},
     "output_type": "execute_result"
    }
   ],
   "source": [
    "cross_val_score(clf, treino_x, treino_y, cv=5, scoring='recall')"
   ]
  },
  {
   "cell_type": "code",
   "execution_count": 19,
   "id": "479bc418",
   "metadata": {},
   "outputs": [
    {
     "data": {
      "text/plain": [
       "array([0.87894407, 0.87540658, 0.8760594 , 0.87758626, 0.88181869])"
      ]
     },
     "execution_count": 19,
     "metadata": {},
     "output_type": "execute_result"
    }
   ],
   "source": [
    "cross_val_score(clf, treino_x, treino_y, cv=5, scoring='roc_auc')"
   ]
  },
  {
   "cell_type": "code",
   "execution_count": 20,
   "id": "be4e5e50",
   "metadata": {
    "scrolled": true
   },
   "outputs": [
    {
     "data": {
      "image/png": "[encoded data removed]",
      "text/plain": [
       "<Figure size 432x288 with 1 Axes>"
      ]
     },
     "metadata": {
      "needs_background": "light"
     },
     "output_type": "display_data"
    }
   ],
   "source": [
    "from sklearn.metrics import RocCurveDisplay\n",
    "clf_disp = RocCurveDisplay.from_estimator(clf, teste_x, teste_y)"
   ]
  },
  {
   "cell_type": "code",
   "execution_count": 21,
   "id": "bd06c91c",
   "metadata": {},
   "outputs": [
    {
     "name": "stdout",
     "output_type": "stream",
     "text": [
      "[[6537 1583]\n",
      " [1512 6545]]\n"
     ]
    }
   ],
   "source": [
    "from sklearn.metrics import confusion_matrix\n",
    "print(confusion_matrix(teste_y, previsoes))"
   ]
  },
  {
   "cell_type": "markdown",
   "id": "2b05c2e4",
   "metadata": {},
   "source": [
    "## Agora transformando os dados categóricos"
   ]
  },
  {
   "cell_type": "code",
   "execution_count": 22,
   "id": "71add4e2",
   "metadata": {},
   "outputs": [
    {
     "data": {
      "text/html": [
       "<div>\n",
       "<style scoped>\n",
       "    .dataframe tbody tr th:only-of-type {\n",
       "        vertical-align: middle;\n",
       "    }\n",
       "\n",
       "    .dataframe tbody tr th {\n",
       "        vertical-align: top;\n",
       "    }\n",
       "\n",
       "    .dataframe thead th {\n",
       "        text-align: right;\n",
       "    }\n",
       "</style>\n",
       "<table border=\"1\" class=\"dataframe\">\n",
       "  <thead>\n",
       "    <tr style=\"text-align: right;\">\n",
       "      <th></th>\n",
       "      <th>tipo_imovel_alugado</th>\n",
       "      <th>tipo_imovel_financiado</th>\n",
       "      <th>tipo_imovel_outro</th>\n",
       "      <th>tipo_imovel_proprio</th>\n",
       "      <th>motivo_emprestimo_ensino</th>\n",
       "      <th>motivo_emprestimo_pessoal</th>\n",
       "      <th>motivo_emprestimo_quitar</th>\n",
       "      <th>motivo_emprestimo_reforma</th>\n",
       "      <th>motivo_emprestimo_risco</th>\n",
       "      <th>motivo_emprestimo_saude</th>\n",
       "      <th>grupo_A</th>\n",
       "      <th>grupo_B</th>\n",
       "      <th>grupo_C</th>\n",
       "      <th>grupo_D</th>\n",
       "      <th>grupo_E</th>\n",
       "      <th>grupo_F</th>\n",
       "      <th>grupo_G</th>\n",
       "    </tr>\n",
       "  </thead>\n",
       "  <tbody>\n",
       "    <tr>\n",
       "      <th>0</th>\n",
       "      <td>1</td>\n",
       "      <td>0</td>\n",
       "      <td>0</td>\n",
       "      <td>0</td>\n",
       "      <td>1</td>\n",
       "      <td>0</td>\n",
       "      <td>0</td>\n",
       "      <td>0</td>\n",
       "      <td>0</td>\n",
       "      <td>0</td>\n",
       "      <td>0</td>\n",
       "      <td>1</td>\n",
       "      <td>0</td>\n",
       "      <td>0</td>\n",
       "      <td>0</td>\n",
       "      <td>0</td>\n",
       "      <td>0</td>\n",
       "    </tr>\n",
       "    <tr>\n",
       "      <th>1</th>\n",
       "      <td>0</td>\n",
       "      <td>1</td>\n",
       "      <td>0</td>\n",
       "      <td>0</td>\n",
       "      <td>1</td>\n",
       "      <td>0</td>\n",
       "      <td>0</td>\n",
       "      <td>0</td>\n",
       "      <td>0</td>\n",
       "      <td>0</td>\n",
       "      <td>1</td>\n",
       "      <td>0</td>\n",
       "      <td>0</td>\n",
       "      <td>0</td>\n",
       "      <td>0</td>\n",
       "      <td>0</td>\n",
       "      <td>0</td>\n",
       "    </tr>\n",
       "    <tr>\n",
       "      <th>2</th>\n",
       "      <td>0</td>\n",
       "      <td>1</td>\n",
       "      <td>0</td>\n",
       "      <td>0</td>\n",
       "      <td>0</td>\n",
       "      <td>0</td>\n",
       "      <td>0</td>\n",
       "      <td>0</td>\n",
       "      <td>0</td>\n",
       "      <td>1</td>\n",
       "      <td>0</td>\n",
       "      <td>0</td>\n",
       "      <td>1</td>\n",
       "      <td>0</td>\n",
       "      <td>0</td>\n",
       "      <td>0</td>\n",
       "      <td>0</td>\n",
       "    </tr>\n",
       "    <tr>\n",
       "      <th>3</th>\n",
       "      <td>1</td>\n",
       "      <td>0</td>\n",
       "      <td>0</td>\n",
       "      <td>0</td>\n",
       "      <td>0</td>\n",
       "      <td>0</td>\n",
       "      <td>0</td>\n",
       "      <td>0</td>\n",
       "      <td>0</td>\n",
       "      <td>1</td>\n",
       "      <td>0</td>\n",
       "      <td>1</td>\n",
       "      <td>0</td>\n",
       "      <td>0</td>\n",
       "      <td>0</td>\n",
       "      <td>0</td>\n",
       "      <td>0</td>\n",
       "    </tr>\n",
       "    <tr>\n",
       "      <th>4</th>\n",
       "      <td>1</td>\n",
       "      <td>0</td>\n",
       "      <td>0</td>\n",
       "      <td>0</td>\n",
       "      <td>0</td>\n",
       "      <td>0</td>\n",
       "      <td>1</td>\n",
       "      <td>0</td>\n",
       "      <td>0</td>\n",
       "      <td>0</td>\n",
       "      <td>1</td>\n",
       "      <td>0</td>\n",
       "      <td>0</td>\n",
       "      <td>0</td>\n",
       "      <td>0</td>\n",
       "      <td>0</td>\n",
       "      <td>0</td>\n",
       "    </tr>\n",
       "    <tr>\n",
       "      <th>...</th>\n",
       "      <td>...</td>\n",
       "      <td>...</td>\n",
       "      <td>...</td>\n",
       "      <td>...</td>\n",
       "      <td>...</td>\n",
       "      <td>...</td>\n",
       "      <td>...</td>\n",
       "      <td>...</td>\n",
       "      <td>...</td>\n",
       "      <td>...</td>\n",
       "      <td>...</td>\n",
       "      <td>...</td>\n",
       "      <td>...</td>\n",
       "      <td>...</td>\n",
       "      <td>...</td>\n",
       "      <td>...</td>\n",
       "      <td>...</td>\n",
       "    </tr>\n",
       "    <tr>\n",
       "      <th>34473</th>\n",
       "      <td>1</td>\n",
       "      <td>0</td>\n",
       "      <td>0</td>\n",
       "      <td>0</td>\n",
       "      <td>0</td>\n",
       "      <td>0</td>\n",
       "      <td>0</td>\n",
       "      <td>0</td>\n",
       "      <td>0</td>\n",
       "      <td>1</td>\n",
       "      <td>0</td>\n",
       "      <td>0</td>\n",
       "      <td>0</td>\n",
       "      <td>1</td>\n",
       "      <td>0</td>\n",
       "      <td>0</td>\n",
       "      <td>0</td>\n",
       "    </tr>\n",
       "    <tr>\n",
       "      <th>34474</th>\n",
       "      <td>0</td>\n",
       "      <td>1</td>\n",
       "      <td>0</td>\n",
       "      <td>0</td>\n",
       "      <td>0</td>\n",
       "      <td>0</td>\n",
       "      <td>0</td>\n",
       "      <td>1</td>\n",
       "      <td>0</td>\n",
       "      <td>0</td>\n",
       "      <td>1</td>\n",
       "      <td>0</td>\n",
       "      <td>0</td>\n",
       "      <td>0</td>\n",
       "      <td>0</td>\n",
       "      <td>0</td>\n",
       "      <td>0</td>\n",
       "    </tr>\n",
       "    <tr>\n",
       "      <th>34475</th>\n",
       "      <td>0</td>\n",
       "      <td>1</td>\n",
       "      <td>0</td>\n",
       "      <td>0</td>\n",
       "      <td>0</td>\n",
       "      <td>0</td>\n",
       "      <td>1</td>\n",
       "      <td>0</td>\n",
       "      <td>0</td>\n",
       "      <td>0</td>\n",
       "      <td>1</td>\n",
       "      <td>0</td>\n",
       "      <td>0</td>\n",
       "      <td>0</td>\n",
       "      <td>0</td>\n",
       "      <td>0</td>\n",
       "      <td>0</td>\n",
       "    </tr>\n",
       "    <tr>\n",
       "      <th>34476</th>\n",
       "      <td>0</td>\n",
       "      <td>1</td>\n",
       "      <td>0</td>\n",
       "      <td>0</td>\n",
       "      <td>0</td>\n",
       "      <td>0</td>\n",
       "      <td>0</td>\n",
       "      <td>0</td>\n",
       "      <td>0</td>\n",
       "      <td>1</td>\n",
       "      <td>0</td>\n",
       "      <td>0</td>\n",
       "      <td>1</td>\n",
       "      <td>0</td>\n",
       "      <td>0</td>\n",
       "      <td>0</td>\n",
       "      <td>0</td>\n",
       "    </tr>\n",
       "    <tr>\n",
       "      <th>34477</th>\n",
       "      <td>1</td>\n",
       "      <td>0</td>\n",
       "      <td>0</td>\n",
       "      <td>0</td>\n",
       "      <td>1</td>\n",
       "      <td>0</td>\n",
       "      <td>0</td>\n",
       "      <td>0</td>\n",
       "      <td>0</td>\n",
       "      <td>0</td>\n",
       "      <td>0</td>\n",
       "      <td>1</td>\n",
       "      <td>0</td>\n",
       "      <td>0</td>\n",
       "      <td>0</td>\n",
       "      <td>0</td>\n",
       "      <td>0</td>\n",
       "    </tr>\n",
       "  </tbody>\n",
       "</table>\n",
       "<p>34478 rows × 17 columns</p>\n",
       "</div>"
      ],
      "text/plain": [
       "       tipo_imovel_alugado  tipo_imovel_financiado  tipo_imovel_outro  \\\n",
       "0                        1                       0                  0   \n",
       "1                        0                       1                  0   \n",
       "2                        0                       1                  0   \n",
       "3                        1                       0                  0   \n",
       "4                        1                       0                  0   \n",
       "...                    ...                     ...                ...   \n",
       "34473                    1                       0                  0   \n",
       "34474                    0                       1                  0   \n",
       "34475                    0                       1                  0   \n",
       "34476                    0                       1                  0   \n",
       "34477                    1                       0                  0   \n",
       "\n",
       "       tipo_imovel_proprio  motivo_emprestimo_ensino  \\\n",
       "0                        0                         1   \n",
       "1                        0                         1   \n",
       "2                        0                         0   \n",
       "3                        0                         0   \n",
       "4                        0                         0   \n",
       "...                    ...                       ...   \n",
       "34473                    0                         0   \n",
       "34474                    0                         0   \n",
       "34475                    0                         0   \n",
       "34476                    0                         0   \n",
       "34477                    0                         1   \n",
       "\n",
       "       motivo_emprestimo_pessoal  motivo_emprestimo_quitar  \\\n",
       "0                              0                         0   \n",
       "1                              0                         0   \n",
       "2                              0                         0   \n",
       "3                              0                         0   \n",
       "4                              0                         1   \n",
       "...                          ...                       ...   \n",
       "34473                          0                         0   \n",
       "34474                          0                         0   \n",
       "34475                          0                         1   \n",
       "34476                          0                         0   \n",
       "34477                          0                         0   \n",
       "\n",
       "       motivo_emprestimo_reforma  motivo_emprestimo_risco  \\\n",
       "0                              0                        0   \n",
       "1                              0                        0   \n",
       "2                              0                        0   \n",
       "3                              0                        0   \n",
       "4                              0                        0   \n",
       "...                          ...                      ...   \n",
       "34473                          0                        0   \n",
       "34474                          1                        0   \n",
       "34475                          0                        0   \n",
       "34476                          0                        0   \n",
       "34477                          0                        0   \n",
       "\n",
       "       motivo_emprestimo_saude  grupo_A  grupo_B  grupo_C  grupo_D  grupo_E  \\\n",
       "0                            0        0        1        0        0        0   \n",
       "1                            0        1        0        0        0        0   \n",
       "2                            1        0        0        1        0        0   \n",
       "3                            1        0        1        0        0        0   \n",
       "4                            0        1        0        0        0        0   \n",
       "...                        ...      ...      ...      ...      ...      ...   \n",
       "34473                        1        0        0        0        1        0   \n",
       "34474                        0        1        0        0        0        0   \n",
       "34475                        0        1        0        0        0        0   \n",
       "34476                        1        0        0        1        0        0   \n",
       "34477                        0        0        1        0        0        0   \n",
       "\n",
       "       grupo_F  grupo_G  \n",
       "0            0        0  \n",
       "1            0        0  \n",
       "2            0        0  \n",
       "3            0        0  \n",
       "4            0        0  \n",
       "...        ...      ...  \n",
       "34473        0        0  \n",
       "34474        0        0  \n",
       "34475        0        0  \n",
       "34476        0        0  \n",
       "34477        0        0  \n",
       "\n",
       "[34478 rows x 17 columns]"
      ]
     },
     "execution_count": 22,
     "metadata": {},
     "output_type": "execute_result"
    }
   ],
   "source": [
    "dados = pd.read_csv('dados.csv')\n",
    "df_dummies = pd.get_dummies(dados.drop(['id_cliente', 'id_emprestimo', 'id_historico', \n",
    "        'idade', 'salario', 'tempo_trabalhando',\n",
    "       'valor_emprestimo', 'juros', 'emp_sal', 'tempo_cliente',\n",
    "       'INADIMPLENCIA', 'RISCO_INADIMPLENCIA'], axis = 1))\n",
    "df_dummies"
   ]
  },
  {
   "cell_type": "code",
   "execution_count": 23,
   "id": "c64d3978",
   "metadata": {},
   "outputs": [],
   "source": [
    "df_modificado = dados[['id_cliente', 'id_emprestimo', 'id_historico', \n",
    "        'idade', 'salario', 'tempo_trabalhando',\n",
    "       'valor_emprestimo', 'juros', 'emp_sal', 'tempo_cliente',\n",
    "       'INADIMPLENCIA', 'RISCO_INADIMPLENCIA']]"
   ]
  },
  {
   "cell_type": "code",
   "execution_count": 24,
   "id": "32de15c3",
   "metadata": {},
   "outputs": [
    {
     "data": {
      "text/html": [
       "<div>\n",
       "<style scoped>\n",
       "    .dataframe tbody tr th:only-of-type {\n",
       "        vertical-align: middle;\n",
       "    }\n",
       "\n",
       "    .dataframe tbody tr th {\n",
       "        vertical-align: top;\n",
       "    }\n",
       "\n",
       "    .dataframe thead th {\n",
       "        text-align: right;\n",
       "    }\n",
       "</style>\n",
       "<table border=\"1\" class=\"dataframe\">\n",
       "  <thead>\n",
       "    <tr style=\"text-align: right;\">\n",
       "      <th></th>\n",
       "      <th>id_cliente</th>\n",
       "      <th>id_emprestimo</th>\n",
       "      <th>id_historico</th>\n",
       "      <th>idade</th>\n",
       "      <th>salario</th>\n",
       "      <th>tempo_trabalhando</th>\n",
       "      <th>valor_emprestimo</th>\n",
       "      <th>juros</th>\n",
       "      <th>emp_sal</th>\n",
       "      <th>tempo_cliente</th>\n",
       "      <th>...</th>\n",
       "      <th>motivo_emprestimo_reforma</th>\n",
       "      <th>motivo_emprestimo_risco</th>\n",
       "      <th>motivo_emprestimo_saude</th>\n",
       "      <th>grupo_A</th>\n",
       "      <th>grupo_B</th>\n",
       "      <th>grupo_C</th>\n",
       "      <th>grupo_D</th>\n",
       "      <th>grupo_E</th>\n",
       "      <th>grupo_F</th>\n",
       "      <th>grupo_G</th>\n",
       "    </tr>\n",
       "  </thead>\n",
       "  <tbody>\n",
       "    <tr>\n",
       "      <th>0</th>\n",
       "      <td>AspC7qDK-5Esh</td>\n",
       "      <td>kZHfWgGv-0dWJ</td>\n",
       "      <td>UwfbzeaW-9tQt</td>\n",
       "      <td>21.0</td>\n",
       "      <td>60000.0</td>\n",
       "      <td>2.0</td>\n",
       "      <td>8000.0</td>\n",
       "      <td>11.26</td>\n",
       "      <td>0.13</td>\n",
       "      <td>3.0</td>\n",
       "      <td>...</td>\n",
       "      <td>0</td>\n",
       "      <td>0</td>\n",
       "      <td>0</td>\n",
       "      <td>0</td>\n",
       "      <td>1</td>\n",
       "      <td>0</td>\n",
       "      <td>0</td>\n",
       "      <td>0</td>\n",
       "      <td>0</td>\n",
       "      <td>0</td>\n",
       "    </tr>\n",
       "    <tr>\n",
       "      <th>1</th>\n",
       "      <td>2NjYU2iT-fGSm</td>\n",
       "      <td>j7elJxsY-eTEQ</td>\n",
       "      <td>viRQ2WYn-yJ2G</td>\n",
       "      <td>40.0</td>\n",
       "      <td>70000.0</td>\n",
       "      <td>6.0</td>\n",
       "      <td>18000.0</td>\n",
       "      <td>7.90</td>\n",
       "      <td>0.26</td>\n",
       "      <td>14.0</td>\n",
       "      <td>...</td>\n",
       "      <td>0</td>\n",
       "      <td>0</td>\n",
       "      <td>0</td>\n",
       "      <td>1</td>\n",
       "      <td>0</td>\n",
       "      <td>0</td>\n",
       "      <td>0</td>\n",
       "      <td>0</td>\n",
       "      <td>0</td>\n",
       "      <td>0</td>\n",
       "    </tr>\n",
       "    <tr>\n",
       "      <th>2</th>\n",
       "      <td>nTOKgZCT-YPUD</td>\n",
       "      <td>t9dKvc6a-4eAL</td>\n",
       "      <td>IEHObaim-KPC9</td>\n",
       "      <td>29.0</td>\n",
       "      <td>115000.0</td>\n",
       "      <td>3.0</td>\n",
       "      <td>22000.0</td>\n",
       "      <td>15.23</td>\n",
       "      <td>0.19</td>\n",
       "      <td>7.0</td>\n",
       "      <td>...</td>\n",
       "      <td>0</td>\n",
       "      <td>0</td>\n",
       "      <td>1</td>\n",
       "      <td>0</td>\n",
       "      <td>0</td>\n",
       "      <td>1</td>\n",
       "      <td>0</td>\n",
       "      <td>0</td>\n",
       "      <td>0</td>\n",
       "      <td>0</td>\n",
       "    </tr>\n",
       "    <tr>\n",
       "      <th>3</th>\n",
       "      <td>J3jGNZeh-OzZE</td>\n",
       "      <td>NaelpPC5-t2kz</td>\n",
       "      <td>GvqL52S8-S8OH</td>\n",
       "      <td>26.0</td>\n",
       "      <td>84996.0</td>\n",
       "      <td>0.0</td>\n",
       "      <td>9000.0</td>\n",
       "      <td>11.26</td>\n",
       "      <td>0.11</td>\n",
       "      <td>2.0</td>\n",
       "      <td>...</td>\n",
       "      <td>0</td>\n",
       "      <td>0</td>\n",
       "      <td>1</td>\n",
       "      <td>0</td>\n",
       "      <td>1</td>\n",
       "      <td>0</td>\n",
       "      <td>0</td>\n",
       "      <td>0</td>\n",
       "      <td>0</td>\n",
       "      <td>0</td>\n",
       "    </tr>\n",
       "    <tr>\n",
       "      <th>4</th>\n",
       "      <td>flpZfspk-bUuL</td>\n",
       "      <td>4NHe4vfi-QLvW</td>\n",
       "      <td>fbc8cPEp-uJEB</td>\n",
       "      <td>23.0</td>\n",
       "      <td>54500.0</td>\n",
       "      <td>2.0</td>\n",
       "      <td>8000.0</td>\n",
       "      <td>11.26</td>\n",
       "      <td>0.15</td>\n",
       "      <td>2.0</td>\n",
       "      <td>...</td>\n",
       "      <td>0</td>\n",
       "      <td>0</td>\n",
       "      <td>0</td>\n",
       "      <td>1</td>\n",
       "      <td>0</td>\n",
       "      <td>0</td>\n",
       "      <td>0</td>\n",
       "      <td>0</td>\n",
       "      <td>0</td>\n",
       "      <td>0</td>\n",
       "    </tr>\n",
       "  </tbody>\n",
       "</table>\n",
       "<p>5 rows × 29 columns</p>\n",
       "</div>"
      ],
      "text/plain": [
       "      id_cliente  id_emprestimo   id_historico  idade   salario  \\\n",
       "0  AspC7qDK-5Esh  kZHfWgGv-0dWJ  UwfbzeaW-9tQt   21.0   60000.0   \n",
       "1  2NjYU2iT-fGSm  j7elJxsY-eTEQ  viRQ2WYn-yJ2G   40.0   70000.0   \n",
       "2  nTOKgZCT-YPUD  t9dKvc6a-4eAL  IEHObaim-KPC9   29.0  115000.0   \n",
       "3  J3jGNZeh-OzZE  NaelpPC5-t2kz  GvqL52S8-S8OH   26.0   84996.0   \n",
       "4  flpZfspk-bUuL  4NHe4vfi-QLvW  fbc8cPEp-uJEB   23.0   54500.0   \n",
       "\n",
       "   tempo_trabalhando  valor_emprestimo  juros  emp_sal  tempo_cliente  ...  \\\n",
       "0                2.0            8000.0  11.26     0.13            3.0  ...   \n",
       "1                6.0           18000.0   7.90     0.26           14.0  ...   \n",
       "2                3.0           22000.0  15.23     0.19            7.0  ...   \n",
       "3                0.0            9000.0  11.26     0.11            2.0  ...   \n",
       "4                2.0            8000.0  11.26     0.15            2.0  ...   \n",
       "\n",
       "   motivo_emprestimo_reforma  motivo_emprestimo_risco  \\\n",
       "0                          0                        0   \n",
       "1                          0                        0   \n",
       "2                          0                        0   \n",
       "3                          0                        0   \n",
       "4                          0                        0   \n",
       "\n",
       "   motivo_emprestimo_saude  grupo_A  grupo_B  grupo_C  grupo_D  grupo_E  \\\n",
       "0                        0        0        1        0        0        0   \n",
       "1                        0        1        0        0        0        0   \n",
       "2                        1        0        0        1        0        0   \n",
       "3                        1        0        1        0        0        0   \n",
       "4                        0        1        0        0        0        0   \n",
       "\n",
       "   grupo_F  grupo_G  \n",
       "0        0        0  \n",
       "1        0        0  \n",
       "2        0        0  \n",
       "3        0        0  \n",
       "4        0        0  \n",
       "\n",
       "[5 rows x 29 columns]"
      ]
     },
     "execution_count": 24,
     "metadata": {},
     "output_type": "execute_result"
    }
   ],
   "source": [
    "dados_final = pd.concat([df_modificado, df_dummies], axis = 1)\n",
    "dados_final.head()"
   ]
  },
  {
   "cell_type": "code",
   "execution_count": 25,
   "id": "95aaa13f",
   "metadata": {},
   "outputs": [],
   "source": [
    "x = dados_final.drop(['id_cliente', 'id_emprestimo', 'id_historico', 'RISCO_INADIMPLENCIA'], axis = 1)\n",
    "y = dados_final['RISCO_INADIMPLENCIA']"
   ]
  },
  {
   "cell_type": "code",
   "execution_count": 26,
   "id": "f596a04c",
   "metadata": {},
   "outputs": [
    {
     "name": "stdout",
     "output_type": "stream",
     "text": [
      "Treinaremos com 25858 elementos e testaremos com 8620 elementos\n",
      "A acurácia do dummy classifier foi 78.20%\n"
     ]
    }
   ],
   "source": [
    "treino_x, teste_x, treino_y, teste_y = train_test_split(x, y, test_size = 0.25, stratify = y)\n",
    "dummy_clf = DummyClassifier()\n",
    "dummy_clf.fit(treino_x, treino_y)\n",
    "acuracia = dummy_clf.score(teste_x, teste_y) * 100\n",
    "print(\"Treinaremos com %d elementos e testaremos com %d elementos\" % (len(treino_x), len(teste_y)))\n",
    "print(\"A acurácia do dummy classifier foi %.2f%%\" % acuracia)"
   ]
  },
  {
   "cell_type": "code",
   "execution_count": 27,
   "id": "7e3caa90",
   "metadata": {},
   "outputs": [
    {
     "data": {
      "text/plain": [
       "array([[-1.08149709, -0.1116195 , -0.6876957 , ..., -0.17416087,\n",
       "        -0.08631992, -0.04312433],\n",
       "       [ 1.97663927,  0.07905265,  0.30373748, ..., -0.17416087,\n",
       "        -0.08631992, -0.04312433],\n",
       "       [ 0.20613927,  0.93707735, -0.43983741, ..., -0.17416087,\n",
       "        -0.08631992, -0.04312433],\n",
       "       ...,\n",
       "       [-0.11576982, -0.5005907 ,  1.54302896, ..., -0.17416087,\n",
       "        -0.08631992, -0.04312433],\n",
       "       [ 0.36709382, -0.49304008,  0.79945407, ..., -0.17416087,\n",
       "        -0.08631992, -0.04312433],\n",
       "       [-0.27672436, -0.20703185,  0.79945407, ..., -0.17416087,\n",
       "        -0.08631992, -0.04312433]])"
      ]
     },
     "execution_count": 27,
     "metadata": {},
     "output_type": "execute_result"
    }
   ],
   "source": [
    "norm = StandardScaler()\n",
    "x_normalizado = norm.fit_transform(x)\n",
    "x_normalizado"
   ]
  },
  {
   "cell_type": "code",
   "execution_count": 28,
   "id": "7abfd8cd",
   "metadata": {},
   "outputs": [],
   "source": [
    "treino_x, teste_x, treino_y, teste_y = train_test_split(x_normalizado, y, test_size=0.3)"
   ]
  },
  {
   "cell_type": "code",
   "execution_count": 29,
   "id": "2343fb7d",
   "metadata": {},
   "outputs": [
    {
     "name": "stdout",
     "output_type": "stream",
     "text": [
      "A acurácia foi 88.23%\n"
     ]
    }
   ],
   "source": [
    "knn = KNeighborsClassifier(metric='euclidean')\n",
    "knn.fit(treino_x, treino_y)\n",
    "predito_knn = knn.predict(teste_x)\n",
    "acuracia = accuracy_score(teste_y, predito_knn) * 100\n",
    "print(\"A acurácia foi %.2f%%\" % acuracia)"
   ]
  },
  {
   "cell_type": "code",
   "execution_count": 30,
   "id": "be9a87db",
   "metadata": {},
   "outputs": [
    {
     "name": "stdout",
     "output_type": "stream",
     "text": [
      "Accuracy com cross validation, cv = 5 = [87.74, 89.27]\n"
     ]
    }
   ],
   "source": [
    "modelo = knn\n",
    "results = cross_validate(modelo, x_normalizado, y, cv = 5, return_train_score=False)\n",
    "media = results['test_score'].mean()\n",
    "desvio_padrao = results['test_score'].std()\n",
    "print(\"Accuracy com cross validation, cv = 5 = [%.2f, %.2f]\" % ((media - 2 * desvio_padrao)*100, (media + 2 * desvio_padrao) * 100))"
   ]
  },
  {
   "cell_type": "code",
   "execution_count": 31,
   "id": "f4321df4",
   "metadata": {},
   "outputs": [
    {
     "name": "stdout",
     "output_type": "stream",
     "text": [
      "Accuracy com cross validation, cv = 5 = [88.03, 89.07]\n"
     ]
    }
   ],
   "source": [
    "clf = knn\n",
    "clf = clf.fit(treino_x, treino_y)\n",
    "previsoes = clf.predict(teste_x)\n",
    "media = cross_val_score(clf, treino_x, treino_y, cv=5).mean()\n",
    "desvio_padrao = cross_val_score(clf, treino_x, treino_y, cv=5).std()\n",
    "print(\"Accuracy com cross validation, cv = 5 = [%.2f, %.2f]\" % ((media - 2 * desvio_padrao)*100, (media + 2 * desvio_padrao) * 100))"
   ]
  },
  {
   "cell_type": "code",
   "execution_count": 32,
   "id": "44153e1b",
   "metadata": {},
   "outputs": [
    {
     "data": {
      "text/plain": [
       "{'fit_time': array([0.00986004, 0.01012993, 0.00573635, 0.01526093, 0.01731968]),\n",
       " 'score_time': array([0.92901731, 0.69614983, 1.00896335, 0.73970175, 0.91971421]),\n",
       " 'test_score': array([0.88863109, 0.88544084, 0.88732599, 0.88614938, 0.87773749])}"
      ]
     },
     "execution_count": 32,
     "metadata": {},
     "output_type": "execute_result"
    }
   ],
   "source": [
    "cross_validate(modelo, x_normalizado, y, cv = 5)"
   ]
  },
  {
   "cell_type": "code",
   "execution_count": 33,
   "id": "625ef75a",
   "metadata": {},
   "outputs": [
    {
     "data": {
      "text/plain": [
       "array([0.88336441, 0.88543609, 0.88647193, 0.88232857, 0.88976378])"
      ]
     },
     "execution_count": 33,
     "metadata": {},
     "output_type": "execute_result"
    }
   ],
   "source": [
    "cross_val_score(clf, treino_x, treino_y, cv=5)"
   ]
  },
  {
   "cell_type": "code",
   "execution_count": 34,
   "id": "ce78547e",
   "metadata": {},
   "outputs": [
    {
     "data": {
      "text/plain": [
       "array([0.67846945, 0.68704018, 0.69213483, 0.68303571, 0.70509978])"
      ]
     },
     "execution_count": 34,
     "metadata": {},
     "output_type": "execute_result"
    }
   ],
   "source": [
    "cross_val_score(clf, treino_x, treino_y, cv=5, scoring='f1')"
   ]
  },
  {
   "cell_type": "code",
   "execution_count": 35,
   "id": "3c10d4d0",
   "metadata": {},
   "outputs": [
    {
     "data": {
      "text/plain": [
       "array([0.88336441, 0.88543609, 0.88647193, 0.88232857, 0.88976378])"
      ]
     },
     "execution_count": 35,
     "metadata": {},
     "output_type": "execute_result"
    }
   ],
   "source": [
    "cross_val_score(clf, treino_x, treino_y, cv=5, scoring='accuracy')"
   ]
  },
  {
   "cell_type": "code",
   "execution_count": 36,
   "id": "9c8fd8e0",
   "metadata": {},
   "outputs": [
    {
     "data": {
      "text/plain": [
       "array([0.6992109 , 0.70112403, 0.72192588, 0.68654117, 0.72735248])"
      ]
     },
     "execution_count": 36,
     "metadata": {},
     "output_type": "execute_result"
    }
   ],
   "source": [
    "cross_val_score(clf, treino_x, treino_y, cv=5, scoring='average_precision')"
   ]
  },
  {
   "cell_type": "code",
   "execution_count": 37,
   "id": "03af8331",
   "metadata": {},
   "outputs": [
    {
     "data": {
      "text/plain": [
       "array([0.84255319, 0.84188627, 0.83923706, 0.82037534, 0.83794466])"
      ]
     },
     "execution_count": 37,
     "metadata": {},
     "output_type": "execute_result"
    }
   ],
   "source": [
    "cross_val_score(clf, treino_x, treino_y, cv=5, scoring='precision')"
   ]
  },
  {
   "cell_type": "code",
   "execution_count": 38,
   "id": "57899bb8",
   "metadata": {},
   "outputs": [
    {
     "data": {
      "text/plain": [
       "array([0.56787763, 0.58030593, 0.58891013, 0.58508604, 0.60861244])"
      ]
     },
     "execution_count": 38,
     "metadata": {},
     "output_type": "execute_result"
    }
   ],
   "source": [
    "cross_val_score(clf, treino_x, treino_y, cv=5, scoring='recall')"
   ]
  },
  {
   "cell_type": "code",
   "execution_count": 39,
   "id": "68f32592",
   "metadata": {},
   "outputs": [
    {
     "data": {
      "text/plain": [
       "array([0.83562044, 0.83512688, 0.8515684 , 0.83077079, 0.85769264])"
      ]
     },
     "execution_count": 39,
     "metadata": {},
     "output_type": "execute_result"
    }
   ],
   "source": [
    "cross_val_score(clf, treino_x, treino_y, cv=5, scoring='roc_auc')"
   ]
  },
  {
   "cell_type": "code",
   "execution_count": 40,
   "id": "bacbf330",
   "metadata": {
    "scrolled": true
   },
   "outputs": [
    {
     "data": {
      "image/png": "[encoded data removed]",
      "text/plain": [
       "<Figure size 432x288 with 1 Axes>"
      ]
     },
     "metadata": {
      "needs_background": "light"
     },
     "output_type": "display_data"
    }
   ],
   "source": [
    "from sklearn.metrics import RocCurveDisplay\n",
    "clf_disp = RocCurveDisplay.from_estimator(clf, teste_x, teste_y)"
   ]
  },
  {
   "cell_type": "code",
   "execution_count": 41,
   "id": "9a51e21c",
   "metadata": {},
   "outputs": [
    {
     "name": "stdout",
     "output_type": "stream",
     "text": [
      "[[7797  259]\n",
      " [ 958 1330]]\n"
     ]
    }
   ],
   "source": [
    "print(confusion_matrix(teste_y, previsoes))"
   ]
  },
  {
   "cell_type": "code",
   "execution_count": null,
   "id": "93f620c3",
   "metadata": {},
   "outputs": [],
   "source": []
  }
 ],
 "metadata": {
  "kernelspec": {
   "display_name": "Python 3 (ipykernel)",
   "language": "python",
   "name": "python3"
  },
  "language_info": {
   "codemirror_mode": {
    "name": "ipython",
    "version": 3
   },
   "file_extension": ".py",
   "mimetype": "text/x-python",
   "name": "python",
   "nbconvert_exporter": "python",
   "pygments_lexer": "ipython3",
   "version": "3.9.7"
  }
 },
 "nbformat": 4,
 "nbformat_minor": 5
}
